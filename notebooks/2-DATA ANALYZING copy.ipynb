{
 "cells": [
  {
   "cell_type": "markdown",
   "id": "f2b7f7a8",
   "metadata": {},
   "source": [
    "# Tennis Game"
   ]
  },
  {
   "cell_type": "markdown",
   "id": "3f43e688",
   "metadata": {},
   "source": [
    "## Data Analyzing"
   ]
  },
  {
   "cell_type": "code",
   "execution_count": 11,
   "id": "7dd0f253",
   "metadata": {},
   "outputs": [],
   "source": [
    "import pandas as pd\n",
    "import numpy as np\n",
    "import matplotlib.pyplot as plt\n",
    "import seaborn as sns\n",
    "import plotly.express as px\n",
    "import plotly.graph_objects as go\n",
    "from scipy.stats import norm\n"
   ]
  },
  {
   "cell_type": "code",
   "execution_count": 8,
   "id": "bfbd5416",
   "metadata": {},
   "outputs": [],
   "source": [
    "class color:\n",
    "   PURPLE = '\\033[95m'\n",
    "   CYAN = '\\033[96m'\n",
    "   DARKCYAN = '\\033[36m'\n",
    "   BLUE = '\\033[94m'\n",
    "   GREEN = '\\033[92m'\n",
    "   YELLOW = '\\033[93m'\n",
    "   RED = '\\033[91m'\n",
    "   BOLD = '\\033[1m'\n",
    "   UNDERLINE = '\\033[4m'\n",
    "   END = '\\033[0m'"
   ]
  },
  {
   "cell_type": "code",
   "execution_count": 2,
   "id": "3624f5c0",
   "metadata": {},
   "outputs": [],
   "source": [
    "GameInfo = pd.read_csv(\"/Users/sobhansalarian/Desktop/DataAnalysis/TennisGame/TennisGame_Repository/references/CsvTables/GameInfo.csv\").drop(columns=[\"Unnamed: 0\"])\n",
    "MatchAwayScoreInfo = pd.read_csv(\"/Users/sobhansalarian/Desktop/DataAnalysis/TennisGame/TennisGame_Repository/references/CsvTables/MatchAwayScoreInfo.csv\").drop(columns=[\"Unnamed: 0\"])\n",
    "MatchAwayTeamInfo = pd.read_csv(\"/Users/sobhansalarian/Desktop/DataAnalysis/TennisGame/TennisGame_Repository/references/CsvTables/MatchAwayTeamInfo.csv\").drop(columns=[\"Unnamed: 0\"])\n",
    "MatchEventInfo = pd.read_csv(\"/Users/sobhansalarian/Desktop/DataAnalysis/TennisGame/TennisGame_Repository/references/CsvTables/MatchEventInfo.csv\").drop(columns=[\"Unnamed: 0\"])\n",
    "MatchHomeScoreInfo = pd.read_csv(\"/Users/sobhansalarian/Desktop/DataAnalysis/TennisGame/TennisGame_Repository/references/CsvTables/MatchHomeScoreInfo.csv\").drop(columns=[\"Unnamed: 0\"])\n",
    "MatchHomeTeamInfo = pd.read_csv(\"/Users/sobhansalarian/Desktop/DataAnalysis/TennisGame/TennisGame_Repository/references/CsvTables/MatchHomeTeamInfo.csv\").drop(columns=[\"Unnamed: 0\"])\n",
    "MatchRoundInfo = pd.read_csv(\"/Users/sobhansalarian/Desktop/DataAnalysis/TennisGame/TennisGame_Repository/references/CsvTables/MatchRoundInfo.csv\").drop(columns=[\"Unnamed: 0\"])\n",
    "MatchTimeInfo = pd.read_csv(\"/Users/sobhansalarian/Desktop/DataAnalysis/TennisGame/TennisGame_Repository/references/CsvTables/MatchTimeInfo.csv\").drop(columns=[\"Unnamed: 0\"])\n",
    "MatchSeasonInfo = pd.read_csv(\"/Users/sobhansalarian/Desktop/DataAnalysis/TennisGame/TennisGame_Repository/references/CsvTables/MatchSeasonInfo.csv\").drop(columns=[\"Unnamed: 0\"])\n",
    "MatchTournamentInfo = pd.read_csv(\"/Users/sobhansalarian/Desktop/DataAnalysis/TennisGame/TennisGame_Repository/references/CsvTables/MatchTournamentInfo.csv\").drop(columns=[\"Unnamed: 0\"])\n",
    "MatchVenueInfo = pd.read_csv(\"/Users/sobhansalarian/Desktop/DataAnalysis/TennisGame/TennisGame_Repository/references/CsvTables/MatchVenueInfo.csv\").drop(columns=[\"Unnamed: 0\"])\n",
    "MatchVotesInfo = pd.read_csv(\"/Users/sobhansalarian/Desktop/DataAnalysis/TennisGame/TennisGame_Repository/references/CsvTables/MatchVotesInfo.csv\").drop(columns=[\"Unnamed: 0\"])\n",
    "OddsInfo = pd.read_csv(\"/Users/sobhansalarian/Desktop/DataAnalysis/TennisGame/TennisGame_Repository/references/CsvTables/OddsInfo.csv\").drop(columns=[\"Unnamed: 0\"])\n",
    "PeriodInfo = pd.read_csv(\"/Users/sobhansalarian/Desktop/DataAnalysis/TennisGame/TennisGame_Repository/references/CsvTables/PeriodInfo.csv\").drop(columns=[\"Unnamed: 0\"])\n",
    "PowerInfo = pd.read_csv(\"/Users/sobhansalarian/Desktop/DataAnalysis/TennisGame/TennisGame_Repository/references/CsvTables/PowerInfo.csv\").drop(columns=[\"Unnamed: 0\"])"
   ]
  },
  {
   "cell_type": "markdown",
   "id": "61b64187",
   "metadata": {},
   "source": [
    "### 1. How many tennis players are included in the dataset?"
   ]
  },
  {
   "cell_type": "markdown",
   "id": "dd2a20db",
   "metadata": {},
   "source": [
    "#### Solution 1: Using Player ID"
   ]
  },
  {
   "cell_type": "code",
   "execution_count": 55,
   "id": "4d95b01b",
   "metadata": {},
   "outputs": [
    {
     "name": "stdout",
     "output_type": "stream",
     "text": [
      "\u001b[92mThe Total number of teniss players is\u001b[0m 2352\n"
     ]
    }
   ],
   "source": [
    "player_id = pd.concat([MatchAwayTeamInfo[\"player_id\"], MatchHomeTeamInfo[\"player_id\"]])\n",
    "player_num = player_id.unique().size\n",
    "print(color.GREEN+'The Total number of teniss players is' +color.END, player_num)"
   ]
  },
  {
   "cell_type": "markdown",
   "id": "454b9c3c",
   "metadata": {},
   "source": [
    "#### Solution 2: Using Player full name"
   ]
  },
  {
   "cell_type": "code",
   "execution_count": 56,
   "id": "1042f193",
   "metadata": {},
   "outputs": [
    {
     "name": "stdout",
     "output_type": "stream",
     "text": [
      "\u001b[92mThe Total number of teniss players is\u001b[0m 2353\n"
     ]
    }
   ],
   "source": [
    "player_full_name = pd.concat([MatchAwayTeamInfo[\"full_name\"], MatchHomeTeamInfo[\"full_name\"]])\n",
    "player_num = player_full_name.unique().size\n",
    "print(color.GREEN+'The Total number of teniss players is' +color.END, player_num)"
   ]
  },
  {
   "cell_type": "markdown",
   "id": "edf58d9a",
   "metadata": {},
   "source": [
    "### 2.  What is the average height of the players?\n"
   ]
  },
  {
   "cell_type": "markdown",
   "id": "cfccd4d9",
   "metadata": {},
   "source": [
    "Step1: concating \"MatchAwayTeamInfo\" and \"MatchHomeTeamInfo\" tables"
   ]
  },
  {
   "cell_type": "code",
   "execution_count": 4,
   "id": "52f53625",
   "metadata": {},
   "outputs": [
    {
     "name": "stdout",
     "output_type": "stream",
     "text": [
      "<class 'pandas.core.frame.DataFrame'>\n",
      "Int64Index: 27045 entries, 0 to 14089\n",
      "Data columns (total 2 columns):\n",
      " #   Column     Non-Null Count  Dtype  \n",
      "---  ------     --------------  -----  \n",
      " 0   player_id  27045 non-null  int64  \n",
      " 1   height     14593 non-null  float64\n",
      "dtypes: float64(1), int64(1)\n",
      "memory usage: 633.9 KB\n"
     ]
    }
   ],
   "source": [
    "player_info = pd.concat([MatchAwayTeamInfo[[\"player_id\", \"height\"]]\n",
    "                        , MatchHomeTeamInfo[[\"player_id\", \"height\"]]])\n",
    "player_info.head()\n",
    "player_info.info()"
   ]
  },
  {
   "cell_type": "markdown",
   "id": "4ae625e8",
   "metadata": {},
   "source": [
    "Step 2: Find nan values for unique player id "
   ]
  },
  {
   "cell_type": "code",
   "execution_count": 5,
   "id": "b8996411",
   "metadata": {},
   "outputs": [
    {
     "data": {
      "text/plain": [
       "0      36\n",
       "1     217\n",
       "2     878\n",
       "3    1452\n",
       "4    1684\n",
       "5    1985\n",
       "6    2321\n",
       "dtype: int64"
      ]
     },
     "execution_count": 5,
     "metadata": {},
     "output_type": "execute_result"
    }
   ],
   "source": [
    "player_id = player_info[\"player_id\"].unique()\n",
    "player_id_nan_notna=[]\n",
    "for i in range(player_id.size):\n",
    "    nullcount = player_info[player_info[\"player_id\"]==player_id[i]][\"height\"].isna().sum()\n",
    "    notnullcount = player_info[player_info[\"player_id\"]==player_id[i]][\"height\"].notna().sum()\n",
    "    if nullcount != 0:\n",
    "        if notnullcount !=0:\n",
    "            player_id_nan_notna.append(i)\n",
    "player_id_nan_notna = pd.Series(player_id_nan_notna)\n",
    "player_id_nan_notna"
   ]
  },
  {
   "cell_type": "markdown",
   "id": "c0607edd",
   "metadata": {},
   "source": [
    "Step 3: fill nan with proper values"
   ]
  },
  {
   "cell_type": "code",
   "execution_count": 6,
   "id": "37aab8cd",
   "metadata": {},
   "outputs": [],
   "source": [
    "for i in player_id_nan_notna:\n",
    "    player_info[player_info[\"player_id\"]==player_id[i]] = (player_info[player_info[\"player_id\"]==player_id[i]]\n",
    "                                                           .sort_values(\"height\").ffill())"
   ]
  },
  {
   "cell_type": "markdown",
   "id": "cd101de1",
   "metadata": {},
   "source": [
    "Step 4: fill other nan values with mode and calculate total mean"
   ]
  },
  {
   "cell_type": "code",
   "execution_count": 9,
   "id": "38d8b3ab",
   "metadata": {},
   "outputs": [
    {
     "name": "stdout",
     "output_type": "stream",
     "text": [
      "\u001b[95mThe Average height of players is\u001b[0m 1.825\n"
     ]
    }
   ],
   "source": [
    "cleaned_player_info = player_info.drop_duplicates(subset=['player_id'])\n",
    "height_mode = float(cleaned_player_info['height'].mode().iloc[0])\n",
    "cleaned_player_info = cleaned_player_info.fillna(value = height_mode)\n",
    "height_mean = cleaned_player_info['height'].mean().round(3)\n",
    "print(color.PURPLE+ 'The Average height of players is' +color.END, height_mean)"
   ]
  },
  {
   "cell_type": "markdown",
   "id": "e46d3a83",
   "metadata": {},
   "source": [
    "Step 5: Distribution Plot"
   ]
  },
  {
   "cell_type": "code",
   "execution_count": 15,
   "id": "3e26f1da",
   "metadata": {},
   "outputs": [
    {
     "data": {
      "application/vnd.plotly.v1+json": {
       "config": {
        "plotlyServerURL": "https://plot.ly"
       },
       "data": [
        {
         "alignmentgroup": "True",
         "bingroup": "x",
         "histnorm": "density",
         "hovertemplate": "x=%{x}<br>density=%{y}<extra></extra>",
         "legendgroup": "",
         "marker": {
          "color": "#636efa",
          "opacity": 0.8,
          "pattern": {
           "shape": ""
          }
         },
         "name": "",
         "nbinsx": 10,
         "offsetgroup": "",
         "orientation": "v",
         "showlegend": false,
         "type": "histogram",
         "x": [
          1.83,
          1.85,
          1.83,
          1.85,
          1.83,
          1.85,
          1.83,
          1.7,
          1.93,
          1.83,
          1.8,
          1.91,
          1.83,
          1.78,
          1.83,
          1.83,
          2.01,
          1.83,
          1.85,
          1.83,
          1.83,
          1.83,
          1.71,
          1.83,
          1.83,
          1.83,
          1.67,
          1.83,
          1.83,
          1.75,
          1.88,
          1.83,
          1.7,
          1.91,
          1.83,
          1.83,
          1.67,
          1.91,
          1.96,
          1.91,
          1.83,
          1.83,
          1.83,
          1.91,
          1.78,
          1.83,
          1.88,
          1.83,
          1.83,
          1.8,
          1.83,
          1.85,
          1.85,
          1.7,
          1.78,
          1.83,
          1.73,
          1.74,
          1.76,
          1.83,
          1.96,
          1.83,
          1.78,
          1.88,
          1.83,
          1.83,
          1.81,
          1.74,
          1.83,
          1.83,
          1.85,
          1.83,
          1.73,
          1.83,
          1.83,
          1.78,
          1.83,
          1.83,
          1.83,
          1.64,
          1.68,
          1.91,
          1.83,
          1.8,
          1.88,
          1.83,
          1.78,
          1.85,
          1.78,
          1.83,
          1.93,
          1.83,
          1.91,
          1.64,
          1.8,
          1.85,
          1.83,
          1.83,
          1.68,
          1.83,
          1.83,
          1.83,
          1.83,
          1.85,
          1.85,
          1.83,
          1.83,
          1.83,
          1.73,
          1.85,
          1.83,
          1.8,
          1.75,
          1.83,
          1.7,
          1.85,
          1.75,
          1.98,
          1.83,
          1.83,
          1.83,
          1.83,
          1.83,
          1.88,
          1.83,
          1.79,
          1.83,
          1.83,
          1.93,
          1.83,
          1.83,
          1.83,
          1.83,
          1.83,
          1.83,
          1.88,
          1.85,
          1.88,
          1.83,
          1.83,
          1.8,
          1.93,
          1.76,
          1.78,
          1.83,
          1.8,
          1.85,
          1.88,
          1.83,
          1.83,
          1.93,
          1.83,
          1.88,
          1.83,
          1.83,
          1.83,
          1.85,
          1.83,
          1.83,
          1.93,
          1.83,
          1.83,
          1.73,
          1.78,
          1.8,
          1.75,
          1.83,
          1.83,
          1.83,
          1.8,
          1.83,
          1.78,
          1.83,
          1.73,
          1.86,
          1.7,
          1.83,
          1.83,
          1.83,
          1.88,
          1.83,
          1.83,
          1.93,
          1.7,
          1.83,
          1.83,
          1.83,
          1.83,
          1.8,
          1.78,
          1.93,
          1.82,
          1.65,
          1.83,
          1.83,
          1.85,
          1.91,
          1.93,
          1.7,
          1.8,
          1.91,
          1.83,
          1.83,
          1.93,
          1.96,
          1.83,
          1.83,
          1.85,
          1.83,
          1.83,
          1.83,
          1.83,
          1.88,
          1.83,
          1.85,
          1.91,
          1.83,
          1.91,
          1.8,
          1.83,
          1.83,
          1.83,
          1.83,
          1.83,
          1.83,
          1.83,
          1.85,
          1.75,
          1.88,
          1.83,
          1.83,
          1.83,
          1.85,
          1.83,
          1.83,
          1.91,
          1.83,
          1.83,
          1.83,
          1.73,
          1.78,
          1.78,
          1.8,
          1.83,
          1.73,
          1.83,
          1.75,
          1.83,
          1.83,
          1.88,
          1.88,
          1.83,
          1.83,
          1.75,
          1.85,
          1.83,
          1.98,
          1.83,
          1.93,
          1.83,
          1.83,
          1.83,
          1.83,
          1.83,
          1.83,
          1.83,
          1.83,
          1.83,
          1.83,
          1.78,
          1.85,
          1.83,
          1.83,
          1.83,
          1.83,
          1.83,
          1.85,
          1.96,
          1.83,
          1.83,
          1.83,
          1.83,
          1.88,
          1.83,
          1.85,
          1.83,
          1.8,
          1.83,
          1.83,
          1.83,
          1.83,
          1.7,
          1.83,
          1.83,
          1.8,
          1.83,
          1.83,
          1.85,
          1.88,
          1.83,
          1.73,
          1.85,
          1.8,
          1.8,
          1.83,
          1.83,
          1.83,
          1.85,
          1.83,
          1.85,
          1.78,
          1.83,
          1.83,
          1.8,
          2.03,
          1.83,
          1.85,
          1.85,
          1.83,
          1.96,
          1.88,
          1.8,
          1.83,
          1.83,
          1.75,
          1.83,
          1.83,
          1.83,
          1.83,
          1.83,
          1.8,
          1.68,
          1.83,
          1.85,
          1.83,
          1.83,
          1.78,
          1.83,
          1.91,
          1.83,
          1.74,
          1.83,
          1.75,
          1.7,
          1.8,
          1.83,
          1.88,
          1.83,
          1.73,
          1.75,
          1.83,
          1.88,
          1.75,
          1.83,
          1.83,
          1.83,
          1.78,
          1.96,
          1.83,
          1.88,
          1.93,
          1.88,
          1.83,
          1.78,
          1.83,
          1.83,
          1.88,
          1.83,
          1.83,
          1.83,
          1.73,
          1.96,
          1.98,
          1.83,
          1.83,
          1.75,
          1.83,
          1.79,
          1.93,
          1.83,
          1.83,
          1.88,
          1.83,
          1.83,
          1.8,
          1.91,
          1.83,
          1.88,
          1.78,
          1.83,
          1.6,
          1.78,
          1.83,
          1.83,
          1.83,
          1.8,
          1.83,
          1.83,
          1.73,
          1.8,
          1.88,
          1.75,
          1.85,
          1.83,
          1.83,
          1.83,
          1.83,
          1.73,
          1.83,
          1.83,
          1.83,
          1.83,
          1.85,
          1.83,
          1.83,
          1.83,
          1.8,
          1.83,
          1.83,
          1.83,
          1.83,
          1.83,
          1.78,
          1.83,
          1.83,
          1.63,
          1.83,
          1.75,
          1.85,
          1.7,
          1.83,
          1.71,
          1.85,
          1.83,
          1.83,
          1.83,
          1.96,
          1.83,
          1.83,
          1.88,
          1.83,
          1.83,
          1.78,
          1.72,
          1.76,
          1.96,
          1.85,
          1.71,
          1.83,
          1.83,
          1.65,
          1.83,
          1.83,
          1.8,
          1.8,
          1.83,
          1.8,
          1.83,
          1.8,
          1.96,
          1.83,
          1.98,
          1.83,
          1.83,
          1.78,
          1.88,
          1.83,
          1.83,
          1.83,
          1.83,
          1.96,
          1.83,
          1.85,
          1.83,
          1.85,
          1.83,
          1.83,
          1.83,
          1.83,
          1.83,
          1.83,
          1.91,
          1.75,
          1.85,
          1.67,
          1.83,
          1.83,
          1.83,
          1.83,
          1.77,
          1.8,
          1.87,
          1.83,
          1.83,
          1.83,
          1.83,
          1.83,
          1.83,
          1.83,
          1.8,
          1.88,
          1.83,
          1.83,
          1.83,
          1.83,
          1.83,
          2.01,
          1.83,
          1.88,
          1.83,
          1.83,
          1.83,
          1.83,
          1.83,
          1.83,
          1.83,
          1.68,
          1.8,
          1.83,
          1.83,
          1.93,
          1.83,
          1.83,
          1.83,
          1.83,
          1.93,
          1.83,
          1.83,
          1.83,
          1.83,
          1.66,
          1.83,
          1.83,
          1.91,
          1.83,
          1.83,
          1.83,
          1.78,
          1.83,
          1.78,
          1.85,
          1.85,
          1.83,
          1.85,
          1.83,
          1.83,
          1.83,
          1.83,
          1.75,
          1.83,
          1.83,
          1.75,
          1.83,
          1.83,
          1.75,
          1.88,
          1.83,
          1.83,
          1.78,
          1.83,
          1.83,
          1.83,
          1.83,
          1.75,
          1.83,
          1.77,
          1.88,
          1.85,
          1.88,
          1.83,
          1.64,
          1.83,
          1.73,
          1.83,
          1.83,
          1.83,
          1.83,
          1.82,
          1.88,
          1.85,
          1.83,
          1.64,
          1.85,
          1.91,
          1.91,
          1.91,
          1.96,
          1.83,
          1.83,
          1.83,
          1.85,
          1.83,
          1.98,
          1.83,
          1.83,
          1.83,
          1.83,
          1.83,
          1.83,
          1.83,
          1.78,
          1.83,
          1.98,
          1.83,
          1.85,
          1.72,
          1.85,
          1.83,
          1.73,
          1.83,
          1.82,
          1.83,
          1.83,
          1.83,
          1.83,
          1.8,
          1.7,
          1.88,
          1.83,
          1.83,
          1.78,
          1.68,
          1.8,
          1.83,
          1.83,
          1.8,
          1.83,
          1.83,
          1.88,
          1.88,
          1.85,
          1.88,
          1.7,
          1.83,
          1.83,
          1.69,
          1.85,
          1.83,
          1.83,
          1.83,
          1.63,
          1.85,
          1.83,
          1.96,
          1.88,
          1.75,
          1.96,
          1.88,
          1.83,
          1.91,
          1.83,
          1.85,
          1.83,
          1.83,
          1.83,
          1.8,
          1.96,
          1.96,
          1.85,
          1.72,
          1.83,
          1.83,
          1.83,
          1.83,
          1.8,
          1.91,
          1.83,
          1.83,
          1.78,
          1.78,
          1.63,
          1.83,
          1.83,
          1.98,
          1.91,
          1.83,
          1.83,
          1.83,
          1.83,
          1.75,
          1.85,
          1.83,
          1.78,
          1.83,
          1.83,
          1.72,
          1.8,
          1.88,
          1.98,
          1.85,
          1.83,
          1.83,
          1.78,
          1.83,
          1.82,
          1.91,
          1.83,
          1.75,
          1.68,
          1.78,
          1.83,
          1.83,
          1.83,
          1.88,
          1.93,
          1.75,
          1.83,
          1.83,
          1.8,
          1.83,
          1.91,
          1.78,
          1.83,
          1.88,
          1.83,
          1.83,
          1.83,
          1.71,
          2.01,
          1.8,
          1.83,
          1.83,
          1.88,
          1.88,
          1.83,
          1.73,
          1.88,
          1.93,
          1.83,
          1.77,
          1.75,
          1.83,
          1.83,
          1.83,
          1.88,
          1.83,
          1.83,
          1.75,
          1.91,
          1.83,
          1.83,
          1.83,
          1.64,
          1.83,
          1.85,
          1.83,
          1.8,
          1.83,
          1.83,
          1.83,
          1.93,
          1.7,
          1.91,
          1.7,
          1.85,
          1.83,
          1.8,
          1.91,
          1.83,
          1.83,
          1.83,
          1.93,
          1.83,
          1.88,
          1.8,
          1.6,
          1.83,
          1.83,
          1.8,
          1.81,
          1.83,
          1.76,
          1.83,
          1.83,
          1.83,
          1.85,
          1.83,
          1.83,
          1.83,
          1.93,
          1.83,
          1.83,
          1.85,
          1.83,
          1.78,
          1.8,
          1.83,
          1.83,
          1.7,
          1.83,
          1.91,
          1.85,
          1.67,
          1.83,
          1.83,
          1.83,
          1.83,
          1.83,
          1.88,
          1.7,
          1.91,
          1.83,
          1.8,
          1.83,
          1.83,
          1.83,
          1.78,
          1.78,
          1.83,
          1.83,
          1.7,
          1.83,
          2.01,
          1.83,
          1.83,
          1.78,
          1.73,
          1.83,
          1.8,
          1.78,
          1.73,
          1.82,
          1.93,
          1.7,
          1.83,
          1.83,
          1.83,
          1.98,
          1.88,
          1.83,
          1.83,
          1.66,
          1.83,
          1.83,
          1.8,
          1.63,
          1.83,
          1.75,
          1.83,
          1.83,
          1.8,
          1.83,
          1.68,
          1.73,
          1.83,
          1.82,
          1.83,
          1.8,
          1.83,
          1.83,
          1.78,
          1.85,
          1.83,
          1.88,
          1.83,
          1.75,
          1.83,
          1.83,
          1.8,
          1.83,
          1.83,
          1.83,
          1.83,
          1.88,
          1.83,
          1.7,
          1.78,
          1.83,
          1.83,
          1.91,
          1.83,
          1.85,
          1.76,
          1.88,
          1.83,
          1.83,
          1.83,
          1.85,
          1.78,
          1.73,
          1.75,
          2.03,
          1.83,
          1.83,
          1.83,
          1.83,
          1.78,
          1.96,
          1.83,
          1.83,
          1.83,
          1.83,
          1.75,
          1.83,
          1.93,
          1.83,
          1.7,
          1.83,
          1.78,
          1.7,
          1.91,
          1.73,
          1.91,
          1.83,
          1.85,
          1.78,
          1.83,
          1.88,
          1.8,
          1.85,
          1.83,
          1.78,
          1.83,
          1.83,
          1.96,
          1.76,
          1.75,
          1.83,
          1.8,
          1.75,
          1.79,
          1.83,
          1.85,
          1.91,
          1.83,
          1.7,
          1.83,
          1.83,
          1.83,
          1.83,
          1.83,
          1.83,
          1.91,
          1.7,
          1.83,
          1.83,
          1.83,
          1.83,
          1.83,
          1.75,
          1.83,
          1.83,
          1.83,
          1.83,
          1.75,
          1.83,
          1.83,
          1.83,
          1.88,
          1.83,
          1.8,
          1.91,
          1.83,
          1.83,
          1.83,
          1.83,
          1.83,
          1.7,
          1.83,
          1.83,
          1.83,
          1.85,
          1.83,
          1.83,
          1.83,
          1.75,
          1.91,
          1.83,
          1.93,
          1.83,
          1.83,
          1.7,
          1.83,
          1.91,
          1.83,
          1.75,
          1.83,
          1.83,
          1.72,
          1.83,
          1.83,
          1.83,
          1.84,
          1.83,
          1.73,
          1.83,
          1.83,
          1.83,
          1.76,
          1.83,
          1.83,
          1.83,
          1.83,
          1.75,
          1.83,
          1.88,
          1.83,
          1.83,
          1.83,
          1.75,
          1.83,
          1.8,
          1.83,
          1.83,
          1.83,
          1.83,
          1.83,
          1.83,
          1.79,
          1.85,
          1.83,
          1.83,
          1.83,
          1.91,
          1.7,
          1.88,
          1.83,
          1.85,
          1.85,
          1.83,
          1.88,
          1.83,
          1.88,
          1.83,
          1.78,
          1.83,
          1.93,
          1.83,
          1.83,
          1.83,
          1.83,
          1.83,
          1.83,
          1.83,
          1.83,
          1.78,
          1.83,
          1.84,
          1.7,
          1.8,
          1.83,
          1.88,
          1.83,
          1.88,
          1.88,
          1.88,
          1.83,
          1.83,
          1.83,
          1.83,
          1.83,
          1.83,
          1.88,
          1.83,
          1.83,
          1.83,
          1.85,
          1.83,
          1.83,
          1.83,
          1.88,
          1.83,
          1.8,
          1.83,
          1.83,
          1.91,
          1.68,
          1.83,
          1.8,
          1.83,
          1.83,
          1.8,
          1.83,
          1.78,
          1.88,
          1.83,
          1.83,
          1.83,
          1.72,
          1.88,
          1.83,
          1.83,
          1.93,
          1.8,
          1.83,
          1.88,
          1.83,
          1.83,
          1.83,
          1.93,
          1.83,
          1.85,
          1.83,
          1.66,
          1.82,
          1.76,
          1.83,
          1.83,
          1.83,
          1.83,
          1.83,
          1.83,
          1.83,
          1.98,
          1.83,
          1.75,
          1.7,
          1.83,
          1.93,
          1.88,
          1.83,
          1.73,
          1.88,
          1.83,
          1.83,
          1.83,
          1.8,
          1.83,
          1.85,
          1.83,
          1.83,
          1.8,
          1.83,
          1.73,
          1.83,
          1.85,
          1.91,
          1.72,
          1.8,
          1.88,
          1.88,
          1.83,
          1.91,
          1.83,
          1.85,
          1.7,
          1.8,
          1.83,
          1.83,
          1.83,
          1.93,
          1.83,
          1.83,
          1.75,
          1.83,
          1.8,
          1.83,
          1.83,
          2.03,
          1.85,
          1.83,
          1.88,
          1.88,
          1.96,
          1.83,
          1.83,
          1.86,
          1.83,
          1.85,
          1.7,
          1.83,
          1.85,
          1.83,
          1.85,
          1.91,
          1.91,
          1.83,
          1.7,
          1.88,
          1.57,
          1.75,
          1.83,
          1.83,
          1.83,
          1.83,
          1.83,
          1.88,
          1.85,
          1.83,
          1.75,
          1.68,
          1.83,
          1.83,
          1.88,
          1.83,
          1.7,
          1.68,
          1.83,
          1.83,
          1.96,
          1.98,
          1.96,
          1.91,
          1.83,
          1.88,
          1.83,
          1.83,
          1.83,
          1.91,
          1.85,
          1.93,
          1.83,
          1.96,
          1.83,
          1.83,
          1.83,
          1.76,
          1.88,
          1.83,
          1.8,
          1.91,
          1.83,
          1.83,
          1.88,
          1.83,
          1.91,
          1.8,
          1.78,
          1.91,
          1.85,
          1.85,
          1.85,
          1.75,
          1.93,
          1.83,
          1.93,
          1.68,
          1.83,
          1.83,
          1.7,
          1.83,
          1.83,
          1.83,
          1.83,
          1.83,
          1.83,
          1.8,
          1.83,
          1.85,
          1.73,
          1.88,
          1.96,
          1.83,
          1.83,
          1.7,
          1.85,
          1.85,
          1.83,
          1.88,
          1.85,
          1.83,
          1.83,
          1.88,
          1.83,
          1.78,
          1.78,
          1.83,
          1.83,
          1.78,
          1.83,
          1.88,
          1.8,
          1.91,
          1.73,
          1.83,
          1.83,
          1.83,
          1.78,
          1.83,
          1.78,
          1.72,
          1.83,
          1.83,
          1.73,
          1.83,
          1.88,
          1.8,
          1.83,
          1.78,
          1.83,
          1.83,
          1.83,
          1.91,
          1.83,
          1.83,
          1.83,
          1.83,
          1.83,
          1.83,
          1.83,
          1.96,
          1.74,
          1.83,
          1.83,
          1.88,
          1.78,
          1.93,
          1.83,
          1.78,
          1.91,
          1.83,
          1.8,
          1.83,
          1.93,
          1.85,
          1.85,
          1.83,
          1.83,
          1.83,
          1.83,
          1.7,
          1.96,
          1.8,
          1.78,
          1.83,
          1.91,
          1.83,
          1.83,
          1.83,
          1.83,
          1.83,
          1.83,
          1.83,
          1.75,
          1.83,
          1.83,
          1.83,
          1.91,
          1.83,
          1.8,
          1.83,
          1.88,
          1.83,
          1.78,
          1.75,
          1.96,
          1.7,
          1.88,
          1.83,
          1.81,
          1.83,
          1.83,
          2.03,
          1.83,
          1.85,
          1.83,
          1.83,
          1.83,
          1.81,
          1.83,
          1.83,
          1.83,
          1.83,
          1.93,
          1.88,
          1.83,
          1.93,
          1.68,
          1.8,
          1.83,
          1.83,
          1.83,
          1.85,
          1.83,
          1.76,
          1.83,
          1.8,
          1.8,
          1.83,
          1.83,
          1.93,
          1.88,
          1.85,
          1.83,
          1.7,
          1.78,
          1.7,
          1.78,
          1.83,
          1.83,
          1.83,
          1.8,
          1.88,
          1.64,
          1.83,
          1.83,
          1.83,
          1.83,
          1.7,
          1.64,
          1.8,
          1.8,
          1.83,
          1.85,
          1.73,
          1.93,
          1.83,
          1.83,
          1.8,
          1.78,
          1.83,
          1.93,
          1.83,
          1.78,
          1.83,
          1.63,
          1.83,
          1.83,
          1.83,
          1.83,
          1.83,
          1.83,
          1.78,
          1.83,
          1.83,
          1.83,
          1.83,
          1.68,
          1.71,
          1.93,
          1.7,
          1.83,
          1.83,
          1.83,
          1.83,
          1.8,
          1.76,
          1.83,
          1.7,
          1.85,
          1.93,
          1.83,
          1.83,
          1.83,
          1.78,
          1.7,
          1.78,
          1.83,
          1.83,
          1.96,
          1.88,
          1.8,
          1.73,
          1.83,
          1.83,
          1.93,
          1.83,
          1.83,
          1.83,
          1.83,
          1.83,
          1.83,
          1.91,
          1.85,
          1.7,
          1.91,
          1.83,
          1.8,
          1.93,
          1.83,
          1.83,
          1.88,
          1.83,
          1.83,
          1.83,
          1.83,
          1.83,
          1.83,
          1.91,
          1.83,
          1.83,
          1.91,
          1.8,
          1.83,
          1.93,
          1.83,
          1.83,
          1.85,
          1.83,
          1.98,
          1.93,
          1.83,
          1.83,
          1.83,
          1.83,
          1.83,
          1.83,
          1.83,
          1.78,
          1.88,
          1.88,
          1.83,
          1.91,
          1.83,
          1.88,
          1.83,
          1.88,
          1.83,
          1.83,
          1.68,
          1.78,
          1.85,
          1.83,
          1.83,
          1.83,
          1.83,
          1.83,
          1.83,
          1.83,
          1.63,
          1.73,
          1.83,
          1.85,
          1.83,
          1.83,
          1.7,
          1.83,
          1.83,
          1.83,
          1.75,
          1.69,
          1.83,
          1.83,
          1.83,
          1.83,
          1.83,
          1.83,
          1.86,
          1.83,
          1.83,
          1.85,
          1.78,
          1.83,
          1.83,
          1.83,
          1.8,
          1.83,
          1.83,
          1.73,
          1.83,
          1.7,
          1.83,
          1.83,
          1.83,
          1.83,
          1.83,
          1.83,
          1.83,
          1.88,
          1.6,
          1.83,
          1.8,
          1.83,
          1.83,
          1.68,
          1.83,
          1.76,
          1.83,
          1.88,
          1.83,
          1.83,
          1.8,
          1.83,
          1.83,
          1.83,
          1.83,
          1.83,
          1.91,
          1.83,
          1.83,
          1.83,
          1.85,
          1.83,
          1.83,
          1.83,
          1.83,
          1.83,
          1.83,
          1.83,
          1.83,
          1.83,
          1.83,
          1.83,
          1.91,
          1.83,
          1.85,
          1.78,
          1.83,
          1.83,
          1.83,
          1.85,
          1.75,
          1.93,
          1.83,
          1.83,
          1.83,
          1.7,
          1.83,
          1.83,
          1.96,
          1.83,
          1.83,
          1.8,
          1.67,
          1.83,
          1.83,
          1.75,
          1.85,
          1.83,
          1.83,
          1.74,
          1.83,
          1.8,
          1.83,
          1.85,
          1.83,
          1.73,
          1.83,
          1.83,
          1.61,
          1.83,
          1.83,
          1.83,
          1.83,
          1.72,
          1.78,
          1.83,
          1.83,
          1.83,
          1.83,
          1.83,
          1.93,
          1.83,
          1.91,
          1.83,
          1.88,
          1.8,
          1.83,
          1.83,
          1.73,
          1.93,
          1.83,
          2.08,
          1.83,
          1.83,
          1.83,
          1.83,
          1.83,
          1.83,
          1.83,
          1.83,
          1.7,
          1.83,
          1.83,
          1.64,
          1.83,
          1.83,
          1.83,
          1.78,
          1.83,
          1.83,
          1.78,
          1.8,
          1.83,
          1.88,
          1.83,
          1.7,
          1.78,
          1.8,
          1.68,
          1.83,
          1.78,
          2.03,
          1.83,
          1.83,
          1.96,
          1.73,
          1.83,
          1.88,
          1.83,
          1.83,
          1.83,
          1.83,
          1.83,
          1.83,
          1.83,
          1.83,
          1.83,
          1.91,
          1.83,
          1.7,
          1.83,
          1.83,
          1.83,
          1.83,
          1.8,
          1.83,
          1.85,
          1.83,
          1.88,
          1.88,
          1.85,
          1.83,
          1.8,
          1.68,
          1.64,
          1.83,
          1.83,
          1.83,
          1.78,
          1.85,
          1.88,
          1.83,
          1.78,
          1.83,
          1.83,
          1.93,
          1.91,
          1.71,
          1.7,
          1.83,
          1.83,
          1.83,
          1.83,
          1.88,
          1.83,
          1.7,
          1.91,
          1.83,
          1.83,
          1.83,
          1.7,
          1.91,
          1.88,
          1.83,
          1.85,
          1.83,
          1.83,
          1.83,
          1.85,
          1.83,
          1.83,
          1.85,
          1.91,
          1.83,
          1.77,
          1.69,
          1.83,
          1.83,
          1.82,
          1.73,
          1.88,
          1.83,
          1.83,
          1.78,
          1.83,
          1.83,
          1.82,
          1.83,
          1.73,
          1.83,
          1.83,
          1.88,
          1.88,
          1.83,
          1.83,
          1.83,
          1.83,
          1.83,
          1.74,
          1.83,
          1.8,
          1.83,
          1.88,
          1.83,
          1.83,
          1.83,
          1.83,
          1.85,
          1.83,
          1.83,
          1.93,
          1.83,
          1.83,
          1.73,
          1.65,
          1.83,
          1.83,
          1.93,
          1.96,
          1.83,
          1.83,
          1.83,
          1.75,
          1.83,
          1.83,
          1.7,
          1.75,
          1.83,
          1.78,
          1.8,
          1.83,
          1.85,
          1.72,
          1.83,
          1.63,
          1.83,
          1.83,
          1.83,
          1.83,
          1.83,
          1.83,
          1.83,
          1.8,
          1.83,
          1.91,
          1.79,
          1.83,
          1.83,
          1.88,
          1.77,
          1.8,
          1.83,
          1.88,
          1.83,
          1.73,
          1.83,
          1.75,
          1.83,
          1.83,
          1.83,
          1.83,
          1.83,
          1.83,
          1.83,
          1.83,
          1.72,
          1.83,
          1.83,
          1.65,
          1.66,
          1.85,
          1.83,
          1.78,
          1.83,
          1.83,
          1.83,
          1.83,
          1.83,
          1.83,
          1.85,
          1.75,
          1.85,
          1.83,
          1.83,
          1.83,
          1.83,
          1.83,
          1.83,
          1.91,
          1.83,
          1.83,
          1.96,
          1.83,
          1.78,
          1.83,
          1.75,
          1.83,
          1.83,
          1.83,
          1.91,
          1.83,
          1.8,
          1.83,
          1.83,
          1.88,
          1.8,
          1.96,
          1.83,
          1.83,
          1.83,
          1.8,
          1.83,
          1.85,
          1.8,
          1.83,
          1.83,
          1.83,
          1.8,
          1.88,
          1.83,
          1.83,
          1.83,
          1.8,
          1.8,
          1.78,
          1.93,
          1.83,
          1.83,
          1.88,
          1.83,
          1.83,
          1.63,
          1.83,
          1.83,
          1.67,
          1.83,
          1.83,
          1.83,
          1.83,
          1.9,
          1.83,
          1.83,
          1.83,
          1.83,
          1.83,
          1.83,
          1.83,
          1.83,
          1.83,
          1.8,
          1.83,
          1.83,
          1.93,
          1.91,
          1.83,
          1.83,
          1.83,
          1.7,
          1.83,
          1.83,
          1.83,
          1.83,
          1.83,
          1.83,
          1.78,
          1.83,
          1.7,
          1.96,
          1.8,
          1.75,
          1.83,
          1.91,
          1.88,
          1.83,
          1.78,
          1.98,
          1.83,
          1.91,
          1.69,
          1.83,
          1.83,
          1.83,
          1.83,
          1.83,
          1.75,
          1.68,
          1.83,
          1.78,
          1.83,
          1.83,
          1.83,
          1.83,
          1.83,
          1.75,
          1.75,
          1.83,
          1.75,
          1.65,
          1.85,
          1.75,
          1.78,
          1.83,
          1.83,
          1.73,
          1.78,
          1.83,
          1.83,
          1.8,
          1.75,
          1.83,
          1.8,
          1.91,
          1.8,
          1.83,
          1.8,
          1.88,
          1.83,
          1.7,
          1.72,
          1.83,
          1.73,
          1.8,
          1.75,
          1.7,
          1.83,
          1.83,
          1.68,
          1.83,
          1.73,
          1.85,
          1.76,
          1.83,
          1.88,
          1.75,
          1.83,
          1.8,
          1.83,
          1.83,
          1.83,
          1.83,
          1.83,
          1.83,
          1.78,
          1.7,
          1.93,
          1.83,
          1.7,
          1.78,
          1.83,
          1.83,
          1.8,
          1.83,
          1.75,
          1.83,
          1.83,
          1.83,
          1.83,
          1.83,
          1.83,
          1.83,
          1.83,
          1.78,
          1.83,
          1.83,
          1.83,
          1.91,
          1.83,
          1.78,
          1.8,
          1.8,
          1.79,
          1.83,
          1.7,
          1.83,
          1.83,
          1.83,
          1.85,
          1.96,
          1.88,
          1.84,
          1.76,
          1.91,
          1.83,
          1.83,
          1.83,
          2.01,
          1.83,
          1.98,
          1.83,
          1.8,
          1.78,
          1.83,
          1.83,
          1.8,
          1.83,
          1.8,
          1.83,
          1.83,
          1.8,
          1.83,
          1.83,
          1.83,
          1.83,
          1.83,
          1.83,
          1.85,
          1.83,
          1.83,
          1.68,
          1.83,
          1.83,
          1.83,
          1.83,
          1.83,
          1.85,
          1.88,
          1.83,
          1.83,
          1.88,
          1.78,
          1.83,
          1.83,
          1.83,
          1.83,
          1.83,
          1.85,
          1.83,
          1.98,
          1.75,
          1.57,
          1.83,
          1.83,
          1.85,
          1.83,
          1.83,
          1.83,
          1.83,
          1.83,
          1.83,
          1.83,
          1.83,
          1.83,
          1.7,
          1.88,
          1.83,
          1.98,
          1.96,
          1.83,
          1.83,
          1.7,
          1.78,
          1.83,
          1.83,
          1.72,
          1.78,
          1.88,
          1.83,
          1.96,
          1.83,
          1.91,
          1.83,
          1.78,
          1.79,
          1.83,
          1.83,
          1.83,
          1.83,
          1.75,
          1.83,
          1.75,
          1.8,
          1.85,
          1.83,
          1.83,
          1.78,
          1.83,
          1.83,
          1.91,
          1.83,
          1.93,
          1.85,
          1.85,
          1.96,
          1.83,
          1.73,
          1.83,
          1.85,
          1.83,
          1.83,
          1.7,
          1.83,
          1.83,
          1.75,
          1.83,
          1.83,
          1.8,
          1.96,
          1.83,
          1.83,
          1.83,
          1.83,
          1.73,
          1.83,
          1.73,
          1.83,
          1.91,
          1.83,
          1.83,
          1.83,
          1.88,
          1.75,
          1.83,
          1.83,
          1.83,
          1.83,
          1.85,
          1.83,
          1.83,
          1.75,
          1.83,
          1.83,
          1.83,
          1.85,
          1.83,
          1.68,
          1.8,
          1.68,
          1.83,
          1.83,
          1.83,
          1.83,
          1.85,
          1.83,
          1.96,
          1.88,
          1.83,
          1.83,
          1.83,
          1.83,
          1.83,
          1.83,
          1.83,
          1.83,
          1.85,
          1.83,
          1.83,
          1.83,
          1.75,
          1.85,
          1.88,
          1.91,
          1.8,
          1.93,
          1.83,
          1.8,
          1.7,
          1.83,
          1.91,
          1.83,
          1.83,
          1.69,
          1.83,
          1.83,
          1.91,
          1.83,
          1.93,
          1.73,
          1.83,
          1.83,
          1.83,
          1.88,
          1.85,
          1.83,
          1.8,
          1.85,
          1.83,
          1.83,
          1.88,
          1.83,
          1.83,
          1.83,
          1.83,
          1.88,
          1.83,
          1.93,
          1.71,
          1.73,
          1.83,
          1.83,
          1.83,
          1.83,
          1.83,
          1.83,
          1.98,
          1.83,
          1.83,
          1.88,
          1.83,
          1.91,
          1.83,
          1.78,
          1.85,
          1.75,
          1.8,
          1.78,
          1.75,
          1.83,
          1.83,
          1.83,
          1.83,
          1.83,
          1.83,
          1.83,
          1.83,
          1.83,
          1.83,
          1.83,
          1.83,
          1.88,
          1.83,
          1.83,
          1.93,
          1.83,
          1.88,
          1.83,
          1.85,
          1.83,
          1.8,
          1.93,
          1.65,
          1.93,
          1.75,
          1.83,
          1.83,
          1.78,
          1.83,
          1.85,
          1.83,
          1.91,
          1.83,
          1.83,
          1.8,
          1.83,
          1.75,
          1.83,
          1.83,
          1.75,
          1.63,
          1.83,
          1.83,
          1.88,
          1.78,
          1.83,
          1.83,
          1.83,
          1.8,
          1.83,
          1.75,
          1.85,
          1.83,
          1.85,
          1.83,
          1.85,
          1.83,
          1.83,
          1.83,
          1.8,
          1.83,
          1.83,
          1.83,
          1.83,
          1.78,
          1.83,
          1.83,
          1.91,
          1.83,
          1.83,
          1.83,
          1.78,
          1.83,
          1.8
         ],
         "xaxis": "x",
         "yaxis": "y"
        },
        {
         "line": {
          "color": "black",
          "width": 2
         },
         "mode": "lines",
         "name": "Normal Distribution",
         "type": "scatter",
         "x": [
          1.57,
          1.5751515151515152,
          1.5803030303030303,
          1.5854545454545454,
          1.5906060606060606,
          1.5957575757575757,
          1.600909090909091,
          1.6060606060606062,
          1.6112121212121213,
          1.6163636363636364,
          1.6215151515151516,
          1.6266666666666667,
          1.6318181818181818,
          1.636969696969697,
          1.642121212121212,
          1.6472727272727274,
          1.6524242424242426,
          1.6575757575757577,
          1.6627272727272728,
          1.667878787878788,
          1.673030303030303,
          1.6781818181818182,
          1.6833333333333333,
          1.6884848484848485,
          1.6936363636363636,
          1.6987878787878787,
          1.703939393939394,
          1.7090909090909092,
          1.7142424242424243,
          1.7193939393939395,
          1.7245454545454546,
          1.7296969696969697,
          1.7348484848484849,
          1.74,
          1.7451515151515151,
          1.7503030303030305,
          1.7554545454545456,
          1.7606060606060607,
          1.7657575757575759,
          1.770909090909091,
          1.7760606060606061,
          1.7812121212121212,
          1.7863636363636364,
          1.7915151515151515,
          1.7966666666666669,
          1.801818181818182,
          1.8069696969696971,
          1.8121212121212122,
          1.8172727272727274,
          1.8224242424242425,
          1.8275757575757576,
          1.8327272727272728,
          1.837878787878788,
          1.8430303030303032,
          1.8481818181818181,
          1.8533333333333335,
          1.8584848484848486,
          1.8636363636363638,
          1.8687878787878789,
          1.873939393939394,
          1.8790909090909091,
          1.8842424242424243,
          1.8893939393939394,
          1.8945454545454545,
          1.8996969696969699,
          1.9048484848484848,
          1.9100000000000001,
          1.9151515151515153,
          1.9203030303030304,
          1.9254545454545455,
          1.9306060606060607,
          1.9357575757575758,
          1.940909090909091,
          1.9460606060606063,
          1.9512121212121212,
          1.9563636363636365,
          1.9615151515151517,
          1.9666666666666668,
          1.971818181818182,
          1.976969696969697,
          1.9821212121212122,
          1.9872727272727273,
          1.9924242424242424,
          1.9975757575757576,
          2.002727272727273,
          2.007878787878788,
          2.013030303030303,
          2.018181818181818,
          2.0233333333333334,
          2.0284848484848483,
          2.0336363636363637,
          2.038787878787879,
          2.043939393939394,
          2.0490909090909093,
          2.054242424242424,
          2.0593939393939396,
          2.0645454545454545,
          2.06969696969697,
          2.074848484848485,
          2.08
         ],
         "y": [
          0.00039591034558472845,
          0.0005852378586259385,
          0.0008582281549899908,
          0.0012485555986819193,
          0.0018019710034743652,
          0.002580016558501596,
          0.003664645517590563,
          0.005163881089879879,
          0.007218638240931194,
          0.01001080739822547,
          0.013772656536943711,
          0.01879754407008279,
          0.025451846154457135,
          0.034187886261935745,
          0.04555751162976404,
          0.06022579231984393,
          0.07898412893468042,
          0.10276185302115026,
          0.13263520231675874,
          0.16983236783545946,
          0.21573316171147217,
          0.27186176702523696,
          0.3398710283636517,
          0.42151684898884245,
          0.5186214985866974,
          0.6330250201207722,
          0.7665244618541717,
          0.920801345789711,
          1.0973385970597376,
          1.2973290649485336,
          1.521578714235952,
          1.7704084900850832,
          2.0435596844079322,
          2.3401082742274686,
          2.6583940814079186,
          2.9959706451256123,
          3.3495813472088183,
          3.715166554215377,
          4.087905338289182,
          4.462293746517377,
          4.832259677821281,
          5.191312304425706,
          5.532721777849022,
          5.849722843094719,
          6.135734112796828,
          6.384583282423681,
          6.590727634079134,
          6.749458881001273,
          6.857081802713592,
          6.911057213908997,
          6.910101544797382,
          6.854237580067289,
          6.744793555911612,
          6.584350665084571,
          6.37664186692902,
          6.126407541282085,
          5.839215778361637,
          5.5212568106447035,
          5.179122162353849,
          4.819579465636151,
          4.449353573747583,
          4.074923647446137,
          3.702344403804621,
          3.337097833550768,
          2.983979571248059,
          2.6470219056050888,
          2.3294533004037192,
          2.0336923952825265,
          1.761372875832418,
          1.5133944150137326,
          1.2899941265809183,
          1.0908326342832784,
          0.9150889153505085,
          0.7615584660628768,
          0.6287499874940095,
          0.5149766190453643,
          0.4184386739659672,
          0.3372957786227243,
          0.26972722098428703,
          0.2139801231186709,
          0.16840573281434548,
          0.13148466168171744,
          0.10184227640006702,
          0.07825568303015894,
          0.059653847252988286,
          0.04511238755194167,
          0.03384448815644421,
          0.025189228825032047,
          0.018598442488012255,
          0.013623009634544655,
          0.009899296555025095,
          0.007136255469131989,
          0.005103536513094741,
          0.0036208192615818117,
          0.002548456651851256,
          0.0017794362679049215,
          0.0012326006952789335,
          0.000847026820180384,
          0.0005774397795248493,
          0.0003905269584631281
         ]
        }
       ],
       "layout": {
        "bargap": 0.1,
        "barmode": "relative",
        "legend": {
         "tracegroupgap": 0
        },
        "template": {
         "data": {
          "bar": [
           {
            "error_x": {
             "color": "#2a3f5f"
            },
            "error_y": {
             "color": "#2a3f5f"
            },
            "marker": {
             "line": {
              "color": "#E5ECF6",
              "width": 0.5
             },
             "pattern": {
              "fillmode": "overlay",
              "size": 10,
              "solidity": 0.2
             }
            },
            "type": "bar"
           }
          ],
          "barpolar": [
           {
            "marker": {
             "line": {
              "color": "#E5ECF6",
              "width": 0.5
             },
             "pattern": {
              "fillmode": "overlay",
              "size": 10,
              "solidity": 0.2
             }
            },
            "type": "barpolar"
           }
          ],
          "carpet": [
           {
            "aaxis": {
             "endlinecolor": "#2a3f5f",
             "gridcolor": "white",
             "linecolor": "white",
             "minorgridcolor": "white",
             "startlinecolor": "#2a3f5f"
            },
            "baxis": {
             "endlinecolor": "#2a3f5f",
             "gridcolor": "white",
             "linecolor": "white",
             "minorgridcolor": "white",
             "startlinecolor": "#2a3f5f"
            },
            "type": "carpet"
           }
          ],
          "choropleth": [
           {
            "colorbar": {
             "outlinewidth": 0,
             "ticks": ""
            },
            "type": "choropleth"
           }
          ],
          "contour": [
           {
            "colorbar": {
             "outlinewidth": 0,
             "ticks": ""
            },
            "colorscale": [
             [
              0,
              "#0d0887"
             ],
             [
              0.1111111111111111,
              "#46039f"
             ],
             [
              0.2222222222222222,
              "#7201a8"
             ],
             [
              0.3333333333333333,
              "#9c179e"
             ],
             [
              0.4444444444444444,
              "#bd3786"
             ],
             [
              0.5555555555555556,
              "#d8576b"
             ],
             [
              0.6666666666666666,
              "#ed7953"
             ],
             [
              0.7777777777777778,
              "#fb9f3a"
             ],
             [
              0.8888888888888888,
              "#fdca26"
             ],
             [
              1,
              "#f0f921"
             ]
            ],
            "type": "contour"
           }
          ],
          "contourcarpet": [
           {
            "colorbar": {
             "outlinewidth": 0,
             "ticks": ""
            },
            "type": "contourcarpet"
           }
          ],
          "heatmap": [
           {
            "colorbar": {
             "outlinewidth": 0,
             "ticks": ""
            },
            "colorscale": [
             [
              0,
              "#0d0887"
             ],
             [
              0.1111111111111111,
              "#46039f"
             ],
             [
              0.2222222222222222,
              "#7201a8"
             ],
             [
              0.3333333333333333,
              "#9c179e"
             ],
             [
              0.4444444444444444,
              "#bd3786"
             ],
             [
              0.5555555555555556,
              "#d8576b"
             ],
             [
              0.6666666666666666,
              "#ed7953"
             ],
             [
              0.7777777777777778,
              "#fb9f3a"
             ],
             [
              0.8888888888888888,
              "#fdca26"
             ],
             [
              1,
              "#f0f921"
             ]
            ],
            "type": "heatmap"
           }
          ],
          "heatmapgl": [
           {
            "colorbar": {
             "outlinewidth": 0,
             "ticks": ""
            },
            "colorscale": [
             [
              0,
              "#0d0887"
             ],
             [
              0.1111111111111111,
              "#46039f"
             ],
             [
              0.2222222222222222,
              "#7201a8"
             ],
             [
              0.3333333333333333,
              "#9c179e"
             ],
             [
              0.4444444444444444,
              "#bd3786"
             ],
             [
              0.5555555555555556,
              "#d8576b"
             ],
             [
              0.6666666666666666,
              "#ed7953"
             ],
             [
              0.7777777777777778,
              "#fb9f3a"
             ],
             [
              0.8888888888888888,
              "#fdca26"
             ],
             [
              1,
              "#f0f921"
             ]
            ],
            "type": "heatmapgl"
           }
          ],
          "histogram": [
           {
            "marker": {
             "pattern": {
              "fillmode": "overlay",
              "size": 10,
              "solidity": 0.2
             }
            },
            "type": "histogram"
           }
          ],
          "histogram2d": [
           {
            "colorbar": {
             "outlinewidth": 0,
             "ticks": ""
            },
            "colorscale": [
             [
              0,
              "#0d0887"
             ],
             [
              0.1111111111111111,
              "#46039f"
             ],
             [
              0.2222222222222222,
              "#7201a8"
             ],
             [
              0.3333333333333333,
              "#9c179e"
             ],
             [
              0.4444444444444444,
              "#bd3786"
             ],
             [
              0.5555555555555556,
              "#d8576b"
             ],
             [
              0.6666666666666666,
              "#ed7953"
             ],
             [
              0.7777777777777778,
              "#fb9f3a"
             ],
             [
              0.8888888888888888,
              "#fdca26"
             ],
             [
              1,
              "#f0f921"
             ]
            ],
            "type": "histogram2d"
           }
          ],
          "histogram2dcontour": [
           {
            "colorbar": {
             "outlinewidth": 0,
             "ticks": ""
            },
            "colorscale": [
             [
              0,
              "#0d0887"
             ],
             [
              0.1111111111111111,
              "#46039f"
             ],
             [
              0.2222222222222222,
              "#7201a8"
             ],
             [
              0.3333333333333333,
              "#9c179e"
             ],
             [
              0.4444444444444444,
              "#bd3786"
             ],
             [
              0.5555555555555556,
              "#d8576b"
             ],
             [
              0.6666666666666666,
              "#ed7953"
             ],
             [
              0.7777777777777778,
              "#fb9f3a"
             ],
             [
              0.8888888888888888,
              "#fdca26"
             ],
             [
              1,
              "#f0f921"
             ]
            ],
            "type": "histogram2dcontour"
           }
          ],
          "mesh3d": [
           {
            "colorbar": {
             "outlinewidth": 0,
             "ticks": ""
            },
            "type": "mesh3d"
           }
          ],
          "parcoords": [
           {
            "line": {
             "colorbar": {
              "outlinewidth": 0,
              "ticks": ""
             }
            },
            "type": "parcoords"
           }
          ],
          "pie": [
           {
            "automargin": true,
            "type": "pie"
           }
          ],
          "scatter": [
           {
            "fillpattern": {
             "fillmode": "overlay",
             "size": 10,
             "solidity": 0.2
            },
            "type": "scatter"
           }
          ],
          "scatter3d": [
           {
            "line": {
             "colorbar": {
              "outlinewidth": 0,
              "ticks": ""
             }
            },
            "marker": {
             "colorbar": {
              "outlinewidth": 0,
              "ticks": ""
             }
            },
            "type": "scatter3d"
           }
          ],
          "scattercarpet": [
           {
            "marker": {
             "colorbar": {
              "outlinewidth": 0,
              "ticks": ""
             }
            },
            "type": "scattercarpet"
           }
          ],
          "scattergeo": [
           {
            "marker": {
             "colorbar": {
              "outlinewidth": 0,
              "ticks": ""
             }
            },
            "type": "scattergeo"
           }
          ],
          "scattergl": [
           {
            "marker": {
             "colorbar": {
              "outlinewidth": 0,
              "ticks": ""
             }
            },
            "type": "scattergl"
           }
          ],
          "scattermapbox": [
           {
            "marker": {
             "colorbar": {
              "outlinewidth": 0,
              "ticks": ""
             }
            },
            "type": "scattermapbox"
           }
          ],
          "scatterpolar": [
           {
            "marker": {
             "colorbar": {
              "outlinewidth": 0,
              "ticks": ""
             }
            },
            "type": "scatterpolar"
           }
          ],
          "scatterpolargl": [
           {
            "marker": {
             "colorbar": {
              "outlinewidth": 0,
              "ticks": ""
             }
            },
            "type": "scatterpolargl"
           }
          ],
          "scatterternary": [
           {
            "marker": {
             "colorbar": {
              "outlinewidth": 0,
              "ticks": ""
             }
            },
            "type": "scatterternary"
           }
          ],
          "surface": [
           {
            "colorbar": {
             "outlinewidth": 0,
             "ticks": ""
            },
            "colorscale": [
             [
              0,
              "#0d0887"
             ],
             [
              0.1111111111111111,
              "#46039f"
             ],
             [
              0.2222222222222222,
              "#7201a8"
             ],
             [
              0.3333333333333333,
              "#9c179e"
             ],
             [
              0.4444444444444444,
              "#bd3786"
             ],
             [
              0.5555555555555556,
              "#d8576b"
             ],
             [
              0.6666666666666666,
              "#ed7953"
             ],
             [
              0.7777777777777778,
              "#fb9f3a"
             ],
             [
              0.8888888888888888,
              "#fdca26"
             ],
             [
              1,
              "#f0f921"
             ]
            ],
            "type": "surface"
           }
          ],
          "table": [
           {
            "cells": {
             "fill": {
              "color": "#EBF0F8"
             },
             "line": {
              "color": "white"
             }
            },
            "header": {
             "fill": {
              "color": "#C8D4E3"
             },
             "line": {
              "color": "white"
             }
            },
            "type": "table"
           }
          ]
         },
         "layout": {
          "annotationdefaults": {
           "arrowcolor": "#2a3f5f",
           "arrowhead": 0,
           "arrowwidth": 1
          },
          "autotypenumbers": "strict",
          "coloraxis": {
           "colorbar": {
            "outlinewidth": 0,
            "ticks": ""
           }
          },
          "colorscale": {
           "diverging": [
            [
             0,
             "#8e0152"
            ],
            [
             0.1,
             "#c51b7d"
            ],
            [
             0.2,
             "#de77ae"
            ],
            [
             0.3,
             "#f1b6da"
            ],
            [
             0.4,
             "#fde0ef"
            ],
            [
             0.5,
             "#f7f7f7"
            ],
            [
             0.6,
             "#e6f5d0"
            ],
            [
             0.7,
             "#b8e186"
            ],
            [
             0.8,
             "#7fbc41"
            ],
            [
             0.9,
             "#4d9221"
            ],
            [
             1,
             "#276419"
            ]
           ],
           "sequential": [
            [
             0,
             "#0d0887"
            ],
            [
             0.1111111111111111,
             "#46039f"
            ],
            [
             0.2222222222222222,
             "#7201a8"
            ],
            [
             0.3333333333333333,
             "#9c179e"
            ],
            [
             0.4444444444444444,
             "#bd3786"
            ],
            [
             0.5555555555555556,
             "#d8576b"
            ],
            [
             0.6666666666666666,
             "#ed7953"
            ],
            [
             0.7777777777777778,
             "#fb9f3a"
            ],
            [
             0.8888888888888888,
             "#fdca26"
            ],
            [
             1,
             "#f0f921"
            ]
           ],
           "sequentialminus": [
            [
             0,
             "#0d0887"
            ],
            [
             0.1111111111111111,
             "#46039f"
            ],
            [
             0.2222222222222222,
             "#7201a8"
            ],
            [
             0.3333333333333333,
             "#9c179e"
            ],
            [
             0.4444444444444444,
             "#bd3786"
            ],
            [
             0.5555555555555556,
             "#d8576b"
            ],
            [
             0.6666666666666666,
             "#ed7953"
            ],
            [
             0.7777777777777778,
             "#fb9f3a"
            ],
            [
             0.8888888888888888,
             "#fdca26"
            ],
            [
             1,
             "#f0f921"
            ]
           ]
          },
          "colorway": [
           "#636efa",
           "#EF553B",
           "#00cc96",
           "#ab63fa",
           "#FFA15A",
           "#19d3f3",
           "#FF6692",
           "#B6E880",
           "#FF97FF",
           "#FECB52"
          ],
          "font": {
           "color": "#2a3f5f"
          },
          "geo": {
           "bgcolor": "white",
           "lakecolor": "white",
           "landcolor": "#E5ECF6",
           "showlakes": true,
           "showland": true,
           "subunitcolor": "white"
          },
          "hoverlabel": {
           "align": "left"
          },
          "hovermode": "closest",
          "mapbox": {
           "style": "light"
          },
          "paper_bgcolor": "white",
          "plot_bgcolor": "#E5ECF6",
          "polar": {
           "angularaxis": {
            "gridcolor": "white",
            "linecolor": "white",
            "ticks": ""
           },
           "bgcolor": "#E5ECF6",
           "radialaxis": {
            "gridcolor": "white",
            "linecolor": "white",
            "ticks": ""
           }
          },
          "scene": {
           "xaxis": {
            "backgroundcolor": "#E5ECF6",
            "gridcolor": "white",
            "gridwidth": 2,
            "linecolor": "white",
            "showbackground": true,
            "ticks": "",
            "zerolinecolor": "white"
           },
           "yaxis": {
            "backgroundcolor": "#E5ECF6",
            "gridcolor": "white",
            "gridwidth": 2,
            "linecolor": "white",
            "showbackground": true,
            "ticks": "",
            "zerolinecolor": "white"
           },
           "zaxis": {
            "backgroundcolor": "#E5ECF6",
            "gridcolor": "white",
            "gridwidth": 2,
            "linecolor": "white",
            "showbackground": true,
            "ticks": "",
            "zerolinecolor": "white"
           }
          },
          "shapedefaults": {
           "line": {
            "color": "#2a3f5f"
           }
          },
          "ternary": {
           "aaxis": {
            "gridcolor": "white",
            "linecolor": "white",
            "ticks": ""
           },
           "baxis": {
            "gridcolor": "white",
            "linecolor": "white",
            "ticks": ""
           },
           "bgcolor": "#E5ECF6",
           "caxis": {
            "gridcolor": "white",
            "linecolor": "white",
            "ticks": ""
           }
          },
          "title": {
           "x": 0.05
          },
          "xaxis": {
           "automargin": true,
           "gridcolor": "white",
           "linecolor": "white",
           "ticks": "",
           "title": {
            "standoff": 15
           },
           "zerolinecolor": "white",
           "zerolinewidth": 2
          },
          "yaxis": {
           "automargin": true,
           "gridcolor": "white",
           "linecolor": "white",
           "ticks": "",
           "title": {
            "standoff": 15
           },
           "zerolinecolor": "white",
           "zerolinewidth": 2
          }
         }
        },
        "title": {
         "text": "Height Distribution"
        },
        "xaxis": {
         "anchor": "y",
         "domain": [
          0,
          1
         ],
         "title": {
          "text": "Height"
         }
        },
        "yaxis": {
         "anchor": "x",
         "domain": [
          0,
          1
         ],
         "title": {
          "text": "Frequency"
         }
        }
       }
      }
     },
     "metadata": {},
     "output_type": "display_data"
    }
   ],
   "source": [
    "\n",
    "# Fit a normal distribution to the data\n",
    "mu, std = norm.fit(cleaned_player_info)\n",
    "\n",
    "# Create histogram using Plotly\n",
    "fig = px.histogram(cleaned_player_info,  x=cleaned_player_info, nbins=10, opacity=0.8, histnorm='density', title='Height Distribution')\n",
    "\n",
    "# Create a normal distribution line\n",
    "xmin, xmax = min(cleaned_player_info), max(cleaned_player_info)\n",
    "x = np.linspace(xmin, xmax, 100)\n",
    "p = norm.pdf(x, mu, std)\n",
    "\n",
    "# Add the normal distribution line to the Plotly figure\n",
    "fig.add_trace(go.Scatter(x=x, y=p, mode='lines', name='Normal Distribution', line=dict(color='black', width=2)))\n",
    "\n",
    "# Customize the layout\n",
    "fig.update_layout( xaxis_title='Height', yaxis_title='Frequency',bargap=0.1)\n",
    "\n",
    "# Show the chart\n",
    "fig.show()"
   ]
  },
  {
   "cell_type": "markdown",
   "id": "485f2e4e",
   "metadata": {},
   "source": [
    "### 3.  Which player has the highest number of wins?\n"
   ]
  },
  {
   "cell_type": "markdown",
   "id": "8b8954bb",
   "metadata": {},
   "source": [
    "Step 1: Merging required tables"
   ]
  },
  {
   "cell_type": "code",
   "execution_count": 10,
   "id": "7d386c64",
   "metadata": {},
   "outputs": [
    {
     "data": {
      "text/html": [
       "<div>\n",
       "<style scoped>\n",
       "    .dataframe tbody tr th:only-of-type {\n",
       "        vertical-align: middle;\n",
       "    }\n",
       "\n",
       "    .dataframe tbody tr th {\n",
       "        vertical-align: top;\n",
       "    }\n",
       "\n",
       "    .dataframe thead th {\n",
       "        text-align: right;\n",
       "    }\n",
       "</style>\n",
       "<table border=\"1\" class=\"dataframe\">\n",
       "  <thead>\n",
       "    <tr style=\"text-align: right;\">\n",
       "      <th></th>\n",
       "      <th>player_id</th>\n",
       "      <th>name</th>\n",
       "    </tr>\n",
       "  </thead>\n",
       "  <tbody>\n",
       "    <tr>\n",
       "      <th>0</th>\n",
       "      <td>271389</td>\n",
       "      <td>Navone M.</td>\n",
       "    </tr>\n",
       "    <tr>\n",
       "      <th>1</th>\n",
       "      <td>271389</td>\n",
       "      <td>Navone M.</td>\n",
       "    </tr>\n",
       "    <tr>\n",
       "      <th>2</th>\n",
       "      <td>78431</td>\n",
       "      <td>Lodikova D.</td>\n",
       "    </tr>\n",
       "    <tr>\n",
       "      <th>3</th>\n",
       "      <td>78431</td>\n",
       "      <td>Lodikova D.</td>\n",
       "    </tr>\n",
       "    <tr>\n",
       "      <th>4</th>\n",
       "      <td>254282</td>\n",
       "      <td>Riera J.</td>\n",
       "    </tr>\n",
       "  </tbody>\n",
       "</table>\n",
       "</div>"
      ],
      "text/plain": [
       "   player_id         name\n",
       "0     271389    Navone M.\n",
       "1     271389    Navone M.\n",
       "2      78431  Lodikova D.\n",
       "3      78431  Lodikova D.\n",
       "4     254282     Riera J."
      ]
     },
     "execution_count": 10,
     "metadata": {},
     "output_type": "execute_result"
    }
   ],
   "source": [
    "merged_home = pd.merge(MatchEventInfo, MatchHomeTeamInfo, on='match_id', suffixes=['_home'])\n",
    "merged_away = pd.merge(MatchEventInfo, MatchAwayTeamInfo, on='match_id', suffixes=['_away'])\n",
    "\n",
    "# Ignore null values\n",
    "home_wins = merged_home[merged_home['winner_code'] == 1][['player_id', 'name']].copy()\n",
    "away_wins = merged_away[merged_away['winner_code'] == 2][['player_id', 'name']].copy()\n",
    "\n",
    "# Concating home and away team wins\n",
    "all_wins = pd.concat([home_wins, away_wins])\n",
    "all_wins.head()"
   ]
  },
  {
   "cell_type": "markdown",
   "id": "0388ceb0",
   "metadata": {},
   "source": [
    "Step 2: Calculate the highest number of wins"
   ]
  },
  {
   "cell_type": "code",
   "execution_count": 93,
   "id": "79e504e2",
   "metadata": {},
   "outputs": [
    {
     "name": "stdout",
     "output_type": "stream",
     "text": [
      "\u001b[96mPlayer with the highest number of wins is\u001b[0m Uchijima M. \u001b[96mwith\u001b[0m 75 \u001b[96mwins\n"
     ]
    }
   ],
   "source": [
    "win_counts = all_wins['player_id'].value_counts().reset_index()\n",
    "win_counts.columns = ['player_id', 'wins']\n",
    "player_names = all_wins[['player_id', 'name']].drop_duplicates()\n",
    "win_counts = win_counts.merge(player_names, on='player_id')\n",
    "top_player = win_counts.loc[win_counts['wins'].idxmax()]\n",
    "print(color.CYAN+ 'Player with the highest number of wins is' +color.END, top_player['name'], color.CYAN+ 'with' +color.END, top_player['wins'], color.CYAN+ 'wins')"
   ]
  },
  {
   "cell_type": "markdown",
   "id": "5eab86eb",
   "metadata": {},
   "source": [
    "### 4.  What is the longest match recorded in terms of duration?\n"
   ]
  },
  {
   "cell_type": "markdown",
   "id": "8c8bbccf",
   "metadata": {},
   "source": [
    "Solution 1: Group by "
   ]
  },
  {
   "cell_type": "code",
   "execution_count": 94,
   "id": "f4044aa8",
   "metadata": {},
   "outputs": [
    {
     "name": "stdout",
     "output_type": "stream",
     "text": [
      "\u001b[93mLongest match recorded is for\u001b[0m 12346747 \u001b[93mmatch_id during\u001b[0m 513458.0\n"
     ]
    }
   ],
   "source": [
    "timestamp_table = MatchTimeInfo.groupby(by=\"match_id\").sum().drop(columns=['current_period_start_timestamp']).sum(axis=1).sort_values(ascending=False)\n",
    "timestamp_table.idxmax()\n",
    "timestamp_table[timestamp_table.idxmax()]\n",
    "print(color.YELLOW+ 'Longest match recorded is for' +color.END, timestamp_table.idxmax(), color.YELLOW+ 'match_id during' +color.END, timestamp_table[timestamp_table.idxmax()])"
   ]
  },
  {
   "cell_type": "markdown",
   "id": "21fec13b",
   "metadata": {},
   "source": [
    "Solution 2: Pivote_table"
   ]
  },
  {
   "cell_type": "code",
   "execution_count": 95,
   "id": "a7dc66a1",
   "metadata": {},
   "outputs": [
    {
     "name": "stdout",
     "output_type": "stream",
     "text": [
      "Longest match recorded is for 12346747 match_id during 513458.0\n",
      "\u001b[93mLongest match recorded is for\u001b[0m 12346747 \u001b[93mmatch_id during\u001b[0m 513458.0\n"
     ]
    }
   ],
   "source": [
    "timestamp = pd.pivot_table(data=MatchTimeInfo, values=['period_1', 'period_2', 'period_3', 'period_4', 'period_4'], aggfunc='sum', index='match_id')\n",
    "timestamp.sum(axis=1).sort_values(ascending=False)\n",
    "print(color.YELLOW+ 'Longest match recorded is for' +color.END, timestamp_table.idxmax(), color.YELLOW+ 'match_id during' +color.END, timestamp_table[timestamp_table.idxmax()])"
   ]
  },
  {
   "cell_type": "markdown",
   "id": "78655107",
   "metadata": {},
   "source": [
    "### 5.\tHow many sets are typically played in a tennis match?"
   ]
  },
  {
   "cell_type": "code",
   "execution_count": 40,
   "id": "749c12fe",
   "metadata": {},
   "outputs": [
    {
     "data": {
      "application/vnd.plotly.v1+json": {
       "config": {
        "plotlyServerURL": "https://plot.ly"
       },
       "data": [
        {
         "domain": {
          "x": [
           0,
           1
          ],
          "y": [
           0,
           1
          ]
         },
         "hole": 0.3,
         "hovertemplate": "label=%{label}<br>percentage=%{value}<extra></extra>",
         "labels": [
          "Set_2",
          "Set_3",
          "Set_4",
          "Set_5"
         ],
         "legendgroup": "",
         "name": "",
         "showlegend": true,
         "type": "pie",
         "values": [
          69.65,
          29.6,
          0.45,
          0.31
         ]
        }
       ],
       "layout": {
        "height": 400,
        "legend": {
         "tracegroupgap": 0
        },
        "margin": {
         "b": 20,
         "l": 20,
         "r": 20,
         "t": 40
        },
        "template": {
         "data": {
          "bar": [
           {
            "error_x": {
             "color": "#2a3f5f"
            },
            "error_y": {
             "color": "#2a3f5f"
            },
            "marker": {
             "line": {
              "color": "#E5ECF6",
              "width": 0.5
             },
             "pattern": {
              "fillmode": "overlay",
              "size": 10,
              "solidity": 0.2
             }
            },
            "type": "bar"
           }
          ],
          "barpolar": [
           {
            "marker": {
             "line": {
              "color": "#E5ECF6",
              "width": 0.5
             },
             "pattern": {
              "fillmode": "overlay",
              "size": 10,
              "solidity": 0.2
             }
            },
            "type": "barpolar"
           }
          ],
          "carpet": [
           {
            "aaxis": {
             "endlinecolor": "#2a3f5f",
             "gridcolor": "white",
             "linecolor": "white",
             "minorgridcolor": "white",
             "startlinecolor": "#2a3f5f"
            },
            "baxis": {
             "endlinecolor": "#2a3f5f",
             "gridcolor": "white",
             "linecolor": "white",
             "minorgridcolor": "white",
             "startlinecolor": "#2a3f5f"
            },
            "type": "carpet"
           }
          ],
          "choropleth": [
           {
            "colorbar": {
             "outlinewidth": 0,
             "ticks": ""
            },
            "type": "choropleth"
           }
          ],
          "contour": [
           {
            "colorbar": {
             "outlinewidth": 0,
             "ticks": ""
            },
            "colorscale": [
             [
              0,
              "#0d0887"
             ],
             [
              0.1111111111111111,
              "#46039f"
             ],
             [
              0.2222222222222222,
              "#7201a8"
             ],
             [
              0.3333333333333333,
              "#9c179e"
             ],
             [
              0.4444444444444444,
              "#bd3786"
             ],
             [
              0.5555555555555556,
              "#d8576b"
             ],
             [
              0.6666666666666666,
              "#ed7953"
             ],
             [
              0.7777777777777778,
              "#fb9f3a"
             ],
             [
              0.8888888888888888,
              "#fdca26"
             ],
             [
              1,
              "#f0f921"
             ]
            ],
            "type": "contour"
           }
          ],
          "contourcarpet": [
           {
            "colorbar": {
             "outlinewidth": 0,
             "ticks": ""
            },
            "type": "contourcarpet"
           }
          ],
          "heatmap": [
           {
            "colorbar": {
             "outlinewidth": 0,
             "ticks": ""
            },
            "colorscale": [
             [
              0,
              "#0d0887"
             ],
             [
              0.1111111111111111,
              "#46039f"
             ],
             [
              0.2222222222222222,
              "#7201a8"
             ],
             [
              0.3333333333333333,
              "#9c179e"
             ],
             [
              0.4444444444444444,
              "#bd3786"
             ],
             [
              0.5555555555555556,
              "#d8576b"
             ],
             [
              0.6666666666666666,
              "#ed7953"
             ],
             [
              0.7777777777777778,
              "#fb9f3a"
             ],
             [
              0.8888888888888888,
              "#fdca26"
             ],
             [
              1,
              "#f0f921"
             ]
            ],
            "type": "heatmap"
           }
          ],
          "heatmapgl": [
           {
            "colorbar": {
             "outlinewidth": 0,
             "ticks": ""
            },
            "colorscale": [
             [
              0,
              "#0d0887"
             ],
             [
              0.1111111111111111,
              "#46039f"
             ],
             [
              0.2222222222222222,
              "#7201a8"
             ],
             [
              0.3333333333333333,
              "#9c179e"
             ],
             [
              0.4444444444444444,
              "#bd3786"
             ],
             [
              0.5555555555555556,
              "#d8576b"
             ],
             [
              0.6666666666666666,
              "#ed7953"
             ],
             [
              0.7777777777777778,
              "#fb9f3a"
             ],
             [
              0.8888888888888888,
              "#fdca26"
             ],
             [
              1,
              "#f0f921"
             ]
            ],
            "type": "heatmapgl"
           }
          ],
          "histogram": [
           {
            "marker": {
             "pattern": {
              "fillmode": "overlay",
              "size": 10,
              "solidity": 0.2
             }
            },
            "type": "histogram"
           }
          ],
          "histogram2d": [
           {
            "colorbar": {
             "outlinewidth": 0,
             "ticks": ""
            },
            "colorscale": [
             [
              0,
              "#0d0887"
             ],
             [
              0.1111111111111111,
              "#46039f"
             ],
             [
              0.2222222222222222,
              "#7201a8"
             ],
             [
              0.3333333333333333,
              "#9c179e"
             ],
             [
              0.4444444444444444,
              "#bd3786"
             ],
             [
              0.5555555555555556,
              "#d8576b"
             ],
             [
              0.6666666666666666,
              "#ed7953"
             ],
             [
              0.7777777777777778,
              "#fb9f3a"
             ],
             [
              0.8888888888888888,
              "#fdca26"
             ],
             [
              1,
              "#f0f921"
             ]
            ],
            "type": "histogram2d"
           }
          ],
          "histogram2dcontour": [
           {
            "colorbar": {
             "outlinewidth": 0,
             "ticks": ""
            },
            "colorscale": [
             [
              0,
              "#0d0887"
             ],
             [
              0.1111111111111111,
              "#46039f"
             ],
             [
              0.2222222222222222,
              "#7201a8"
             ],
             [
              0.3333333333333333,
              "#9c179e"
             ],
             [
              0.4444444444444444,
              "#bd3786"
             ],
             [
              0.5555555555555556,
              "#d8576b"
             ],
             [
              0.6666666666666666,
              "#ed7953"
             ],
             [
              0.7777777777777778,
              "#fb9f3a"
             ],
             [
              0.8888888888888888,
              "#fdca26"
             ],
             [
              1,
              "#f0f921"
             ]
            ],
            "type": "histogram2dcontour"
           }
          ],
          "mesh3d": [
           {
            "colorbar": {
             "outlinewidth": 0,
             "ticks": ""
            },
            "type": "mesh3d"
           }
          ],
          "parcoords": [
           {
            "line": {
             "colorbar": {
              "outlinewidth": 0,
              "ticks": ""
             }
            },
            "type": "parcoords"
           }
          ],
          "pie": [
           {
            "automargin": true,
            "type": "pie"
           }
          ],
          "scatter": [
           {
            "fillpattern": {
             "fillmode": "overlay",
             "size": 10,
             "solidity": 0.2
            },
            "type": "scatter"
           }
          ],
          "scatter3d": [
           {
            "line": {
             "colorbar": {
              "outlinewidth": 0,
              "ticks": ""
             }
            },
            "marker": {
             "colorbar": {
              "outlinewidth": 0,
              "ticks": ""
             }
            },
            "type": "scatter3d"
           }
          ],
          "scattercarpet": [
           {
            "marker": {
             "colorbar": {
              "outlinewidth": 0,
              "ticks": ""
             }
            },
            "type": "scattercarpet"
           }
          ],
          "scattergeo": [
           {
            "marker": {
             "colorbar": {
              "outlinewidth": 0,
              "ticks": ""
             }
            },
            "type": "scattergeo"
           }
          ],
          "scattergl": [
           {
            "marker": {
             "colorbar": {
              "outlinewidth": 0,
              "ticks": ""
             }
            },
            "type": "scattergl"
           }
          ],
          "scattermapbox": [
           {
            "marker": {
             "colorbar": {
              "outlinewidth": 0,
              "ticks": ""
             }
            },
            "type": "scattermapbox"
           }
          ],
          "scatterpolar": [
           {
            "marker": {
             "colorbar": {
              "outlinewidth": 0,
              "ticks": ""
             }
            },
            "type": "scatterpolar"
           }
          ],
          "scatterpolargl": [
           {
            "marker": {
             "colorbar": {
              "outlinewidth": 0,
              "ticks": ""
             }
            },
            "type": "scatterpolargl"
           }
          ],
          "scatterternary": [
           {
            "marker": {
             "colorbar": {
              "outlinewidth": 0,
              "ticks": ""
             }
            },
            "type": "scatterternary"
           }
          ],
          "surface": [
           {
            "colorbar": {
             "outlinewidth": 0,
             "ticks": ""
            },
            "colorscale": [
             [
              0,
              "#0d0887"
             ],
             [
              0.1111111111111111,
              "#46039f"
             ],
             [
              0.2222222222222222,
              "#7201a8"
             ],
             [
              0.3333333333333333,
              "#9c179e"
             ],
             [
              0.4444444444444444,
              "#bd3786"
             ],
             [
              0.5555555555555556,
              "#d8576b"
             ],
             [
              0.6666666666666666,
              "#ed7953"
             ],
             [
              0.7777777777777778,
              "#fb9f3a"
             ],
             [
              0.8888888888888888,
              "#fdca26"
             ],
             [
              1,
              "#f0f921"
             ]
            ],
            "type": "surface"
           }
          ],
          "table": [
           {
            "cells": {
             "fill": {
              "color": "#EBF0F8"
             },
             "line": {
              "color": "white"
             }
            },
            "header": {
             "fill": {
              "color": "#C8D4E3"
             },
             "line": {
              "color": "white"
             }
            },
            "type": "table"
           }
          ]
         },
         "layout": {
          "annotationdefaults": {
           "arrowcolor": "#2a3f5f",
           "arrowhead": 0,
           "arrowwidth": 1
          },
          "autotypenumbers": "strict",
          "coloraxis": {
           "colorbar": {
            "outlinewidth": 0,
            "ticks": ""
           }
          },
          "colorscale": {
           "diverging": [
            [
             0,
             "#8e0152"
            ],
            [
             0.1,
             "#c51b7d"
            ],
            [
             0.2,
             "#de77ae"
            ],
            [
             0.3,
             "#f1b6da"
            ],
            [
             0.4,
             "#fde0ef"
            ],
            [
             0.5,
             "#f7f7f7"
            ],
            [
             0.6,
             "#e6f5d0"
            ],
            [
             0.7,
             "#b8e186"
            ],
            [
             0.8,
             "#7fbc41"
            ],
            [
             0.9,
             "#4d9221"
            ],
            [
             1,
             "#276419"
            ]
           ],
           "sequential": [
            [
             0,
             "#0d0887"
            ],
            [
             0.1111111111111111,
             "#46039f"
            ],
            [
             0.2222222222222222,
             "#7201a8"
            ],
            [
             0.3333333333333333,
             "#9c179e"
            ],
            [
             0.4444444444444444,
             "#bd3786"
            ],
            [
             0.5555555555555556,
             "#d8576b"
            ],
            [
             0.6666666666666666,
             "#ed7953"
            ],
            [
             0.7777777777777778,
             "#fb9f3a"
            ],
            [
             0.8888888888888888,
             "#fdca26"
            ],
            [
             1,
             "#f0f921"
            ]
           ],
           "sequentialminus": [
            [
             0,
             "#0d0887"
            ],
            [
             0.1111111111111111,
             "#46039f"
            ],
            [
             0.2222222222222222,
             "#7201a8"
            ],
            [
             0.3333333333333333,
             "#9c179e"
            ],
            [
             0.4444444444444444,
             "#bd3786"
            ],
            [
             0.5555555555555556,
             "#d8576b"
            ],
            [
             0.6666666666666666,
             "#ed7953"
            ],
            [
             0.7777777777777778,
             "#fb9f3a"
            ],
            [
             0.8888888888888888,
             "#fdca26"
            ],
            [
             1,
             "#f0f921"
            ]
           ]
          },
          "colorway": [
           "#636efa",
           "#EF553B",
           "#00cc96",
           "#ab63fa",
           "#FFA15A",
           "#19d3f3",
           "#FF6692",
           "#B6E880",
           "#FF97FF",
           "#FECB52"
          ],
          "font": {
           "color": "#2a3f5f"
          },
          "geo": {
           "bgcolor": "white",
           "lakecolor": "white",
           "landcolor": "#E5ECF6",
           "showlakes": true,
           "showland": true,
           "subunitcolor": "white"
          },
          "hoverlabel": {
           "align": "left"
          },
          "hovermode": "closest",
          "mapbox": {
           "style": "light"
          },
          "paper_bgcolor": "white",
          "plot_bgcolor": "#E5ECF6",
          "polar": {
           "angularaxis": {
            "gridcolor": "white",
            "linecolor": "white",
            "ticks": ""
           },
           "bgcolor": "#E5ECF6",
           "radialaxis": {
            "gridcolor": "white",
            "linecolor": "white",
            "ticks": ""
           }
          },
          "scene": {
           "xaxis": {
            "backgroundcolor": "#E5ECF6",
            "gridcolor": "white",
            "gridwidth": 2,
            "linecolor": "white",
            "showbackground": true,
            "ticks": "",
            "zerolinecolor": "white"
           },
           "yaxis": {
            "backgroundcolor": "#E5ECF6",
            "gridcolor": "white",
            "gridwidth": 2,
            "linecolor": "white",
            "showbackground": true,
            "ticks": "",
            "zerolinecolor": "white"
           },
           "zaxis": {
            "backgroundcolor": "#E5ECF6",
            "gridcolor": "white",
            "gridwidth": 2,
            "linecolor": "white",
            "showbackground": true,
            "ticks": "",
            "zerolinecolor": "white"
           }
          },
          "shapedefaults": {
           "line": {
            "color": "#2a3f5f"
           }
          },
          "ternary": {
           "aaxis": {
            "gridcolor": "white",
            "linecolor": "white",
            "ticks": ""
           },
           "baxis": {
            "gridcolor": "white",
            "linecolor": "white",
            "ticks": ""
           },
           "bgcolor": "#E5ECF6",
           "caxis": {
            "gridcolor": "white",
            "linecolor": "white",
            "ticks": ""
           }
          },
          "title": {
           "x": 0.05
          },
          "xaxis": {
           "automargin": true,
           "gridcolor": "white",
           "linecolor": "white",
           "ticks": "",
           "title": {
            "standoff": 15
           },
           "zerolinecolor": "white",
           "zerolinewidth": 2
          },
          "yaxis": {
           "automargin": true,
           "gridcolor": "white",
           "linecolor": "white",
           "ticks": "",
           "title": {
            "standoff": 15
           },
           "zerolinecolor": "white",
           "zerolinewidth": 2
          }
         }
        },
        "title": {
         "text": "Percentage of Sets Played in Matches"
        },
        "width": 400
       }
      }
     },
     "metadata": {},
     "output_type": "display_data"
    }
   ],
   "source": [
    "count_set_per_match = GameInfo.groupby('match_id')['set_id'].max().sort_values(ascending=False)\n",
    "count_set_df = pd.DataFrame(count_set_per_match[count_set_per_match.values > 1].value_counts())\n",
    "count_set_df['percentage'] = ((count_set_df / count_set_df['set_id'].sum())*100).round(2)\n",
    "\n",
    "# plot\n",
    "labels = ['Set_2', 'Set_3', 'Set_4', 'Set_5']\n",
    "fig = px.pie(\n",
    "    count_set_df,\n",
    "    values='percentage',\n",
    "    names=labels ,\n",
    "    title='Percentage of Sets Played in Matches',\n",
    "    hole=0.3  # Optional: makes it a donut chart\n",
    ")\n",
    "\n",
    "# Customize the layout\n",
    "fig.update_layout(\n",
    "    width=400,\n",
    "    height=400,\n",
    "    margin=dict(l=20, r=20, t=40, b=20)  # Adjust the margins as needed\n",
    ")\n",
    "# Show the chart\n",
    "fig.show()"
   ]
  },
  {
   "cell_type": "markdown",
   "id": "6730b58c",
   "metadata": {},
   "source": [
    "### 6.\tWhich country has produced the most successful tennis players?"
   ]
  },
  {
   "cell_type": "code",
   "execution_count": 97,
   "id": "8d4b5c2c",
   "metadata": {},
   "outputs": [
    {
     "name": "stdout",
     "output_type": "stream",
     "text": [
      "\u001b[92mMost of wins belong to\u001b[0m USA \u001b[92mwith\u001b[0m 162 \u001b[92mwins\n"
     ]
    }
   ],
   "source": [
    "home_wins = merged_home[merged_home['winner_code'] == 1][['player_id', 'name', 'country']].copy()\n",
    "away_wins = merged_away[merged_away['winner_code'] == 2][['player_id', 'name', 'country']].copy()\n",
    "\n",
    "all_wins = pd.concat([home_wins, away_wins])\n",
    "\n",
    "win_counts = all_wins['player_id'].value_counts().reset_index()\n",
    "win_counts.columns = ['player_id', 'wins']\n",
    "\n",
    "player_names = all_wins[['player_id', 'name', 'country']].drop_duplicates()\n",
    "win_counts = win_counts.merge(player_names, on='player_id')\n",
    "\n",
    "win_country = win_counts.groupby(['country']).count()['wins'].sort_values(ascending=False)\n",
    "win_country\n",
    "print(color.GREEN+ 'Most of wins belong to' +color.END, win_country.idxmax(), color.GREEN+ 'with' +color.END, win_country[win_country.idxmax()], color.GREEN+ 'wins')"
   ]
  },
  {
   "cell_type": "markdown",
   "id": "04be6d86",
   "metadata": {},
   "source": [
    "### 7.  What is the average number of aces per match?\n"
   ]
  },
  {
   "cell_type": "code",
   "execution_count": 103,
   "id": "c175de6f",
   "metadata": {},
   "outputs": [
    {
     "name": "stdout",
     "output_type": "stream",
     "text": [
      "\u001b[95mThe average number of aces per match is\u001b[0m 1.97\n"
     ]
    },
    {
     "name": "stderr",
     "output_type": "stream",
     "text": [
      "/var/folders/4k/rm0q63mj7yld5mswq1w7sr3c0000gn/T/ipykernel_3973/575190203.py:3: FutureWarning: Series.__getitem__ treating keys as positions is deprecated. In a future version, integer keys will always be treated as labels (consistent with DataFrame behavior). To access a value by position, use `ser.iloc[pos]`\n",
      "  ace_avg = ace_count.sort_values('statistic_name',ascending=False).mean()[0]\n"
     ]
    }
   ],
   "source": [
    "aces_info = PeriodInfo[(PeriodInfo['statistic_name'] == 'aces') & (PeriodInfo['period'] == 'ALL')]\n",
    "ace_count =pd.DataFrame(pd.pivot_table(aces_info, values=['statistic_name'],index='match_id', aggfunc='count'))\n",
    "ace_avg = ace_count.sort_values('statistic_name',ascending=False).mean()[0]\n",
    "print(color.PURPLE+ 'The average number of aces per match is' + color.END, ace_avg.round(2))"
   ]
  },
  {
   "cell_type": "markdown",
   "id": "de073429",
   "metadata": {},
   "source": [
    "### 8.\tIs there a difference in the number of double faults based on gender?"
   ]
  },
  {
   "cell_type": "code",
   "execution_count": 165,
   "id": "b326ca32",
   "metadata": {},
   "outputs": [
    {
     "data": {
      "text/plain": [
       "gender\n",
       "F    2528\n",
       "M    2484\n",
       "Name: statistic_name, dtype: int64"
      ]
     },
     "metadata": {},
     "output_type": "display_data"
    },
    {
     "data": {
      "image/png": "[encoded data removed]",
      "text/plain": [
       "<Figure size 800x600 with 1 Axes>"
      ]
     },
     "metadata": {},
     "output_type": "display_data"
    }
   ],
   "source": [
    "merged_gender_Team = pd.merge(MatchAwayTeamInfo, MatchHomeTeamInfo , on='match_id' , suffixes=('', '_Team'))\n",
    "merged_gender_faults = pd.merge(PeriodInfo, merged_gender_Team, on='match_id', suffixes=('', '_faults'))\n",
    "\n",
    "gender_faults = merged_gender_faults[merged_gender_faults['statistic_name'] == 'double_faults'][['match_id', 'statistic_name','gender']].copy()\n",
    "gender_faults = gender_faults[['match_id', 'statistic_name','gender']].drop_duplicates()\n",
    "\n",
    "double_faults = pd.Series(gender_faults.groupby('gender')[\"statistic_name\"].count())\n",
    "display (double_faults)\n",
    "\n",
    "# plot\n",
    "plt.figure(figsize=(8,6))\n",
    "x = double_faults.index.tolist()\n",
    "y = double_faults.values.tolist()\n",
    "plt.bar(x, y, color=['green', 'blue'])\n",
    "plt.ylim(0,3000)\n",
    "plt.title ('Comparison of Double Faults between Male and Female')\n",
    "plt.show()"
   ]
  },
  {
   "cell_type": "markdown",
   "id": "02050cbd",
   "metadata": {},
   "source": [
    "### 9.  Which player has won the most tournaments in a single month?\n"
   ]
  },
  {
   "cell_type": "code",
   "execution_count": 148,
   "id": "781fc426",
   "metadata": {},
   "outputs": [
    {
     "name": "stdout",
     "output_type": "stream",
     "text": [
      "\u001b[91mThe player who won the most tournaments is\u001b[0m Cé G.\n"
     ]
    }
   ],
   "source": [
    "merged_home = pd.merge(MatchEventInfo, MatchHomeTeamInfo, on='match_id', suffixes=['_home'])\n",
    "merged_away = pd.merge(MatchEventInfo, MatchAwayTeamInfo, on='match_id', suffixes=['_away'])\n",
    "\n",
    "home_wins = merged_home[merged_home['winner_code'] == 1][['match_id','player_id', 'name']].copy()\n",
    "away_wins = merged_away[merged_away['winner_code'] == 2][['match_id','player_id', 'name']].copy()\n",
    "\n",
    "all_wins = pd.concat([home_wins, away_wins])\n",
    "tournament_wins = pd.merge (all_wins, MatchTournamentInfo, on='match_id', suffixes=['_tournament'])\n",
    "\n",
    "tournament_count = tournament_wins['tournament_id'].value_counts().reset_index\n",
    "\n",
    "player_tournament_info = tournament_wins[['player_id', 'name', 'tournament_id']].drop_duplicates()\n",
    "player_tournament_count = player_tournament_info.groupby('player_id').agg(tournament_sum =('tournament_id','count')).sort_values('tournament_sum', ascending=False)\n",
    "top_player_id = player_tournament_count.idxmax().values[0]\n",
    "top_player_name = player_tournament_info[player_tournament_info['player_id'] == int(top_player_id)]['name'].unique()[0]\n",
    "print(color.RED+ 'The player who won the most tournaments is' +color.END, top_player_name)"
   ]
  },
  {
   "cell_type": "markdown",
   "id": "787096d0",
   "metadata": {},
   "source": [
    "### 10. Is there a correlation between a player's height and their ranking?\n"
   ]
  },
  {
   "cell_type": "code",
   "execution_count": 19,
   "id": "92690db4",
   "metadata": {},
   "outputs": [
    {
     "name": "stdout",
     "output_type": "stream",
     "text": [
      "There is a weak relationship between height and current rank.\n"
     ]
    },
    {
     "data": {
      "image/png": "[encoded data removed]",
      "text/plain": [
       "<Figure size 800x600 with 1 Axes>"
      ]
     },
     "metadata": {},
     "output_type": "display_data"
    }
   ],
   "source": [
    "home_players = MatchHomeTeamInfo[[\"player_id\", 'current_rank', \"height\"]]\n",
    "away_players = MatchAwayTeamInfo[[\"player_id\", 'current_rank', \"height\"]]\n",
    "all_players = pd.concat([home_players, away_players])\n",
    "cleaned_all_players = all_players.drop_duplicates(subset=['player_id'])\n",
    "height_mode = float(cleaned_all_players['height'].mode().iloc[0])\n",
    "cleaned_all_players = cleaned_all_players.fillna(value = height_mode)\n",
    "\n",
    "x = cleaned_all_players['height']\n",
    "y = cleaned_all_players['current_rank']\n",
    "correlation = x.corr(y)\n",
    "if abs(correlation) > 0.5:\n",
    "    print(\"There is a strong relationship between height and current rank.\")\n",
    "elif abs(correlation) > 0.3:\n",
    "    print(\"There is a moderate relationship between height and current rank.\")\n",
    "else:\n",
    "    print(\"There is a weak relationship between height and current rank.\")\n",
    "\n",
    "\n",
    "# Plot\n",
    "plt.figure(figsize=(8,6))\n",
    "plt.scatter (x,y)\n",
    "plt.title('Correlation between height and rank of players')\n",
    "plt.xlabel('Height (in)')\n",
    "plt.ylabel('Ranking')\n",
    "plt.show()"
   ]
  },
  {
   "cell_type": "markdown",
   "id": "0f72bec6",
   "metadata": {},
   "source": [
    "### 11.\tWhat is the average duration of matches?"
   ]
  },
  {
   "cell_type": "code",
   "execution_count": 158,
   "id": "99397192",
   "metadata": {},
   "outputs": [
    {
     "name": "stdout",
     "output_type": "stream",
     "text": [
      "\u001b[96mThe average duration of matches is\u001b[0m 10655.74\n"
     ]
    }
   ],
   "source": [
    "time_sum =(pd.DataFrame(pd.pivot_table(MatchTimeInfo, \n",
    "                                       values=['period_1','period_2', 'period_3','period_4','period_5'],\n",
    "                                       index=['match_id'], \n",
    "                                       aggfunc='sum')))\n",
    "\n",
    "time_sum.loc[(time_sum==0).all(axis=1)]\n",
    "time_sum['Total'] = time_sum.sum(axis=1)\n",
    "time_mean =time_sum['Total'].mean()\n",
    "print(color.CYAN+ 'The average duration of matches is' +color.END, time_mean.round(2))"
   ]
  },
  {
   "cell_type": "markdown",
   "id": "b12cead5",
   "metadata": {},
   "source": [
    "### 12. What is the average number of games per set in men's matches compared to women's matches?\n"
   ]
  },
  {
   "cell_type": "code",
   "execution_count": 200,
   "id": "a7466344",
   "metadata": {},
   "outputs": [
    {
     "data": {
      "text/html": [
       "<div>\n",
       "<style scoped>\n",
       "    .dataframe tbody tr th:only-of-type {\n",
       "        vertical-align: middle;\n",
       "    }\n",
       "\n",
       "    .dataframe tbody tr th {\n",
       "        vertical-align: top;\n",
       "    }\n",
       "\n",
       "    .dataframe thead tr th {\n",
       "        text-align: left;\n",
       "    }\n",
       "\n",
       "    .dataframe thead tr:last-of-type th {\n",
       "        text-align: right;\n",
       "    }\n",
       "</style>\n",
       "<table border=\"1\" class=\"dataframe\">\n",
       "  <thead>\n",
       "    <tr>\n",
       "      <th></th>\n",
       "      <th colspan=\"5\" halign=\"left\">game_id</th>\n",
       "    </tr>\n",
       "    <tr>\n",
       "      <th>set_id</th>\n",
       "      <th>1.0</th>\n",
       "      <th>2.0</th>\n",
       "      <th>3.0</th>\n",
       "      <th>4.0</th>\n",
       "      <th>5.0</th>\n",
       "    </tr>\n",
       "    <tr>\n",
       "      <th>gender</th>\n",
       "      <th></th>\n",
       "      <th></th>\n",
       "      <th></th>\n",
       "      <th></th>\n",
       "      <th></th>\n",
       "    </tr>\n",
       "  </thead>\n",
       "  <tbody>\n",
       "    <tr>\n",
       "      <th>F</th>\n",
       "      <td>6.65</td>\n",
       "      <td>8.62</td>\n",
       "      <td>7.63</td>\n",
       "      <td>0.00</td>\n",
       "      <td>0.0</td>\n",
       "    </tr>\n",
       "    <tr>\n",
       "      <th>M</th>\n",
       "      <td>7.21</td>\n",
       "      <td>9.13</td>\n",
       "      <td>9.23</td>\n",
       "      <td>9.28</td>\n",
       "      <td>10.1</td>\n",
       "    </tr>\n",
       "  </tbody>\n",
       "</table>\n",
       "</div>"
      ],
      "text/plain": [
       "       game_id                        \n",
       "set_id     1.0   2.0   3.0   4.0   5.0\n",
       "gender                                \n",
       "F         6.65  8.62  7.63  0.00   0.0\n",
       "M         7.21  9.13  9.23  9.28  10.1"
      ]
     },
     "execution_count": 200,
     "metadata": {},
     "output_type": "execute_result"
    }
   ],
   "source": [
    "merge_game_gender = pd.concat([GameInfo[['match_id','set_id','game_id']],merged_gender_Team[['match_id','gender']]])\n",
    "merge_game_gender.reset_index(inplace=True)\n",
    "\n",
    "merge_game_gender.drop_duplicates().sort_values(\"match_id\")\n",
    "match_id= merge_game_gender['match_id'].unique()\n",
    "\n",
    "match_id_nan_notna =[]\n",
    "for i in range(match_id.size):\n",
    "    nullcount_gender = merge_game_gender[merge_game_gender[\"match_id\"]==match_id[i]][\"gender\"].isna().sum()\n",
    "    nanullcount_gender = merge_game_gender[merge_game_gender[\"match_id\"]==match_id[i]][\"gender\"].notna().sum()\n",
    "    if nullcount_gender != 0:\n",
    "        if nanullcount_gender !=0:\n",
    "            match_id_nan_notna.append(i)\n",
    "match_id_nan_notna = pd.Series(match_id_nan_notna)\n",
    "\n",
    "for i in match_id_nan_notna:\n",
    "    merge_game_gender[merge_game_gender[\"match_id\"]==match_id[i]]= merge_game_gender[merge_game_gender[\"match_id\"]==match_id[i]].sort_values(\"gender\").ffill()\n",
    "\n",
    "pd.options.mode.copy_on_write = True \n",
    "\n",
    "cleaned_set_per_Gender = merge_game_gender.drop_duplicates(subset=['match_id'])\n",
    "\n",
    "replace_nan = (cleaned_set_per_Gender['gender'].mode().iloc[0])\n",
    "\n",
    "cleaned_set_per_Gender['gender'] = cleaned_set_per_Gender['gender'].fillna(replace_nan)\n",
    "cleaned_set_per_Gender = cleaned_set_per_Gender.dropna(subset='set_id')\n",
    "\n",
    "cleaned_set_per_Gender\n",
    "\n",
    "mean_game_per_set = (pd.pivot_table(cleaned_set_per_Gender,values= ['game_id'], index=['gender'],columns=['set_id'],aggfunc='mean')).round(2)\n",
    "mean_game_per_set = mean_game_per_set.fillna(0)\n",
    "mean_game_per_set"
   ]
  },
  {
   "cell_type": "code",
   "execution_count": 213,
   "id": "f2cb0d1a",
   "metadata": {},
   "outputs": [
    {
     "data": {
      "image/png": "[encoded data removed]",
      "text/plain": [
       "<Figure size 640x480 with 1 Axes>"
      ]
     },
     "metadata": {},
     "output_type": "display_data"
    }
   ],
   "source": [
    "# Plot\n",
    "labels=['set_1', 'set_2', 'set_3', 'set_4', 'set_5']\n",
    "mean_game_per_set.plot.bar(rot=0 ).legend(loc=9)  \n",
    "plt.title('Average Number of games per set Between Male vs Female')\n",
    "plt.ylabel('Average of games per sets')\n",
    "plt.show()"
   ]
  },
  {
   "cell_type": "markdown",
   "id": "001272ec",
   "metadata": {},
   "source": [
    "### 13.\tWhat is the distribution of left-handed versus right-handed players?"
   ]
  },
  {
   "cell_type": "code",
   "execution_count": 215,
   "id": "084982d4",
   "metadata": {},
   "outputs": [
    {
     "data": {
      "text/html": [
       "<div>\n",
       "<style scoped>\n",
       "    .dataframe tbody tr th:only-of-type {\n",
       "        vertical-align: middle;\n",
       "    }\n",
       "\n",
       "    .dataframe tbody tr th {\n",
       "        vertical-align: top;\n",
       "    }\n",
       "\n",
       "    .dataframe thead th {\n",
       "        text-align: right;\n",
       "    }\n",
       "</style>\n",
       "<table border=\"1\" class=\"dataframe\">\n",
       "  <thead>\n",
       "    <tr style=\"text-align: right;\">\n",
       "      <th></th>\n",
       "      <th>player_id</th>\n",
       "      <th>percentage (%)</th>\n",
       "    </tr>\n",
       "    <tr>\n",
       "      <th>plays</th>\n",
       "      <th></th>\n",
       "      <th></th>\n",
       "    </tr>\n",
       "  </thead>\n",
       "  <tbody>\n",
       "    <tr>\n",
       "      <th>ambidextrous</th>\n",
       "      <td>1</td>\n",
       "      <td>0.04</td>\n",
       "    </tr>\n",
       "    <tr>\n",
       "      <th>left-handed</th>\n",
       "      <td>120</td>\n",
       "      <td>5.10</td>\n",
       "    </tr>\n",
       "    <tr>\n",
       "      <th>right-handed</th>\n",
       "      <td>2231</td>\n",
       "      <td>94.86</td>\n",
       "    </tr>\n",
       "  </tbody>\n",
       "</table>\n",
       "</div>"
      ],
      "text/plain": [
       "              player_id  percentage (%)\n",
       "plays                                  \n",
       "ambidextrous          1            0.04\n",
       "left-handed         120            5.10\n",
       "right-handed       2231           94.86"
      ]
     },
     "metadata": {},
     "output_type": "display_data"
    },
    {
     "data": {
      "image/png": "[encoded data removed]",
      "text/plain": [
       "<Figure size 800x600 with 1 Axes>"
      ]
     },
     "metadata": {},
     "output_type": "display_data"
    }
   ],
   "source": [
    "home_players = MatchHomeTeamInfo[[\"player_id\", 'plays']]\n",
    "away_players = MatchAwayTeamInfo[[\"player_id\", 'plays']]\n",
    "\n",
    "all_players = pd.concat([home_players, away_players]).drop_duplicates('player_id')\n",
    "plays_mode = all_players['plays'].mode().iloc[0]\n",
    "all_players = all_players.fillna(value = plays_mode)\n",
    "\n",
    "\n",
    "hand_table = all_players.groupby('plays').count()\n",
    "hand_table['percentage (%)'] = ((hand_table / hand_table['player_id'].sum())*100).round(2)\n",
    "display(hand_table)\n",
    "\n",
    "# Plot\n",
    "labels = hand_table.index.tolist()\n",
    "data = hand_table['percentage (%)']\n",
    "plt.figure(figsize=(8,6))\n",
    "plt.pie(x=data, labels=labels, autopct = '%1.2f%%', startangle=140, colors=['red', 'yellow', 'skyblue'])\n",
    "plt.title ('Distribution of left_handed vs right_handed players')\n",
    "plt.axis('equal')\n",
    "plt.show()"
   ]
  },
  {
   "cell_type": "markdown",
   "id": "6b74ce3a",
   "metadata": {},
   "source": [
    "### 14.\tWhat is the most common type of surface used in tournaments?"
   ]
  },
  {
   "cell_type": "code",
   "execution_count": 36,
   "id": "05b9fb9e",
   "metadata": {},
   "outputs": [
    {
     "name": "stdout",
     "output_type": "stream",
     "text": [
      "The most common type of surface used is: Red clay\n"
     ]
    },
    {
     "data": {
      "text/plain": [
       "ground_type\n",
       "Hardcourt indoor       4\n",
       "Hardcourt outdoor     76\n",
       "Red clay             213\n",
       "Synthetic outdoor      2\n",
       "Name: tournament_id, dtype: int64"
      ]
     },
     "metadata": {},
     "output_type": "display_data"
    },
    {
     "data": {
      "application/vnd.plotly.v1+json": {
       "config": {
        "plotlyServerURL": "https://plot.ly"
       },
       "data": [
        {
         "domain": {
          "x": [
           0,
           1
          ],
          "y": [
           0,
           1
          ]
         },
         "hole": 0.3,
         "hovertemplate": "ground_type=%{label}<br>value=%{value}<extra></extra>",
         "labels": [
          "Hardcourt indoor",
          "Hardcourt outdoor",
          "Red clay",
          "Synthetic outdoor"
         ],
         "legendgroup": "",
         "name": "",
         "showlegend": true,
         "textinfo": "percent+label",
         "textposition": "inside",
         "type": "pie",
         "values": [
          4,
          76,
          213,
          2
         ]
        }
       ],
       "layout": {
        "height": 400,
        "legend": {
         "tracegroupgap": 0
        },
        "margin": {
         "b": 20,
         "l": 20,
         "r": 20,
         "t": 40
        },
        "template": {
         "data": {
          "bar": [
           {
            "error_x": {
             "color": "#2a3f5f"
            },
            "error_y": {
             "color": "#2a3f5f"
            },
            "marker": {
             "line": {
              "color": "#E5ECF6",
              "width": 0.5
             },
             "pattern": {
              "fillmode": "overlay",
              "size": 10,
              "solidity": 0.2
             }
            },
            "type": "bar"
           }
          ],
          "barpolar": [
           {
            "marker": {
             "line": {
              "color": "#E5ECF6",
              "width": 0.5
             },
             "pattern": {
              "fillmode": "overlay",
              "size": 10,
              "solidity": 0.2
             }
            },
            "type": "barpolar"
           }
          ],
          "carpet": [
           {
            "aaxis": {
             "endlinecolor": "#2a3f5f",
             "gridcolor": "white",
             "linecolor": "white",
             "minorgridcolor": "white",
             "startlinecolor": "#2a3f5f"
            },
            "baxis": {
             "endlinecolor": "#2a3f5f",
             "gridcolor": "white",
             "linecolor": "white",
             "minorgridcolor": "white",
             "startlinecolor": "#2a3f5f"
            },
            "type": "carpet"
           }
          ],
          "choropleth": [
           {
            "colorbar": {
             "outlinewidth": 0,
             "ticks": ""
            },
            "type": "choropleth"
           }
          ],
          "contour": [
           {
            "colorbar": {
             "outlinewidth": 0,
             "ticks": ""
            },
            "colorscale": [
             [
              0,
              "#0d0887"
             ],
             [
              0.1111111111111111,
              "#46039f"
             ],
             [
              0.2222222222222222,
              "#7201a8"
             ],
             [
              0.3333333333333333,
              "#9c179e"
             ],
             [
              0.4444444444444444,
              "#bd3786"
             ],
             [
              0.5555555555555556,
              "#d8576b"
             ],
             [
              0.6666666666666666,
              "#ed7953"
             ],
             [
              0.7777777777777778,
              "#fb9f3a"
             ],
             [
              0.8888888888888888,
              "#fdca26"
             ],
             [
              1,
              "#f0f921"
             ]
            ],
            "type": "contour"
           }
          ],
          "contourcarpet": [
           {
            "colorbar": {
             "outlinewidth": 0,
             "ticks": ""
            },
            "type": "contourcarpet"
           }
          ],
          "heatmap": [
           {
            "colorbar": {
             "outlinewidth": 0,
             "ticks": ""
            },
            "colorscale": [
             [
              0,
              "#0d0887"
             ],
             [
              0.1111111111111111,
              "#46039f"
             ],
             [
              0.2222222222222222,
              "#7201a8"
             ],
             [
              0.3333333333333333,
              "#9c179e"
             ],
             [
              0.4444444444444444,
              "#bd3786"
             ],
             [
              0.5555555555555556,
              "#d8576b"
             ],
             [
              0.6666666666666666,
              "#ed7953"
             ],
             [
              0.7777777777777778,
              "#fb9f3a"
             ],
             [
              0.8888888888888888,
              "#fdca26"
             ],
             [
              1,
              "#f0f921"
             ]
            ],
            "type": "heatmap"
           }
          ],
          "heatmapgl": [
           {
            "colorbar": {
             "outlinewidth": 0,
             "ticks": ""
            },
            "colorscale": [
             [
              0,
              "#0d0887"
             ],
             [
              0.1111111111111111,
              "#46039f"
             ],
             [
              0.2222222222222222,
              "#7201a8"
             ],
             [
              0.3333333333333333,
              "#9c179e"
             ],
             [
              0.4444444444444444,
              "#bd3786"
             ],
             [
              0.5555555555555556,
              "#d8576b"
             ],
             [
              0.6666666666666666,
              "#ed7953"
             ],
             [
              0.7777777777777778,
              "#fb9f3a"
             ],
             [
              0.8888888888888888,
              "#fdca26"
             ],
             [
              1,
              "#f0f921"
             ]
            ],
            "type": "heatmapgl"
           }
          ],
          "histogram": [
           {
            "marker": {
             "pattern": {
              "fillmode": "overlay",
              "size": 10,
              "solidity": 0.2
             }
            },
            "type": "histogram"
           }
          ],
          "histogram2d": [
           {
            "colorbar": {
             "outlinewidth": 0,
             "ticks": ""
            },
            "colorscale": [
             [
              0,
              "#0d0887"
             ],
             [
              0.1111111111111111,
              "#46039f"
             ],
             [
              0.2222222222222222,
              "#7201a8"
             ],
             [
              0.3333333333333333,
              "#9c179e"
             ],
             [
              0.4444444444444444,
              "#bd3786"
             ],
             [
              0.5555555555555556,
              "#d8576b"
             ],
             [
              0.6666666666666666,
              "#ed7953"
             ],
             [
              0.7777777777777778,
              "#fb9f3a"
             ],
             [
              0.8888888888888888,
              "#fdca26"
             ],
             [
              1,
              "#f0f921"
             ]
            ],
            "type": "histogram2d"
           }
          ],
          "histogram2dcontour": [
           {
            "colorbar": {
             "outlinewidth": 0,
             "ticks": ""
            },
            "colorscale": [
             [
              0,
              "#0d0887"
             ],
             [
              0.1111111111111111,
              "#46039f"
             ],
             [
              0.2222222222222222,
              "#7201a8"
             ],
             [
              0.3333333333333333,
              "#9c179e"
             ],
             [
              0.4444444444444444,
              "#bd3786"
             ],
             [
              0.5555555555555556,
              "#d8576b"
             ],
             [
              0.6666666666666666,
              "#ed7953"
             ],
             [
              0.7777777777777778,
              "#fb9f3a"
             ],
             [
              0.8888888888888888,
              "#fdca26"
             ],
             [
              1,
              "#f0f921"
             ]
            ],
            "type": "histogram2dcontour"
           }
          ],
          "mesh3d": [
           {
            "colorbar": {
             "outlinewidth": 0,
             "ticks": ""
            },
            "type": "mesh3d"
           }
          ],
          "parcoords": [
           {
            "line": {
             "colorbar": {
              "outlinewidth": 0,
              "ticks": ""
             }
            },
            "type": "parcoords"
           }
          ],
          "pie": [
           {
            "automargin": true,
            "type": "pie"
           }
          ],
          "scatter": [
           {
            "fillpattern": {
             "fillmode": "overlay",
             "size": 10,
             "solidity": 0.2
            },
            "type": "scatter"
           }
          ],
          "scatter3d": [
           {
            "line": {
             "colorbar": {
              "outlinewidth": 0,
              "ticks": ""
             }
            },
            "marker": {
             "colorbar": {
              "outlinewidth": 0,
              "ticks": ""
             }
            },
            "type": "scatter3d"
           }
          ],
          "scattercarpet": [
           {
            "marker": {
             "colorbar": {
              "outlinewidth": 0,
              "ticks": ""
             }
            },
            "type": "scattercarpet"
           }
          ],
          "scattergeo": [
           {
            "marker": {
             "colorbar": {
              "outlinewidth": 0,
              "ticks": ""
             }
            },
            "type": "scattergeo"
           }
          ],
          "scattergl": [
           {
            "marker": {
             "colorbar": {
              "outlinewidth": 0,
              "ticks": ""
             }
            },
            "type": "scattergl"
           }
          ],
          "scattermapbox": [
           {
            "marker": {
             "colorbar": {
              "outlinewidth": 0,
              "ticks": ""
             }
            },
            "type": "scattermapbox"
           }
          ],
          "scatterpolar": [
           {
            "marker": {
             "colorbar": {
              "outlinewidth": 0,
              "ticks": ""
             }
            },
            "type": "scatterpolar"
           }
          ],
          "scatterpolargl": [
           {
            "marker": {
             "colorbar": {
              "outlinewidth": 0,
              "ticks": ""
             }
            },
            "type": "scatterpolargl"
           }
          ],
          "scatterternary": [
           {
            "marker": {
             "colorbar": {
              "outlinewidth": 0,
              "ticks": ""
             }
            },
            "type": "scatterternary"
           }
          ],
          "surface": [
           {
            "colorbar": {
             "outlinewidth": 0,
             "ticks": ""
            },
            "colorscale": [
             [
              0,
              "#0d0887"
             ],
             [
              0.1111111111111111,
              "#46039f"
             ],
             [
              0.2222222222222222,
              "#7201a8"
             ],
             [
              0.3333333333333333,
              "#9c179e"
             ],
             [
              0.4444444444444444,
              "#bd3786"
             ],
             [
              0.5555555555555556,
              "#d8576b"
             ],
             [
              0.6666666666666666,
              "#ed7953"
             ],
             [
              0.7777777777777778,
              "#fb9f3a"
             ],
             [
              0.8888888888888888,
              "#fdca26"
             ],
             [
              1,
              "#f0f921"
             ]
            ],
            "type": "surface"
           }
          ],
          "table": [
           {
            "cells": {
             "fill": {
              "color": "#EBF0F8"
             },
             "line": {
              "color": "white"
             }
            },
            "header": {
             "fill": {
              "color": "#C8D4E3"
             },
             "line": {
              "color": "white"
             }
            },
            "type": "table"
           }
          ]
         },
         "layout": {
          "annotationdefaults": {
           "arrowcolor": "#2a3f5f",
           "arrowhead": 0,
           "arrowwidth": 1
          },
          "autotypenumbers": "strict",
          "coloraxis": {
           "colorbar": {
            "outlinewidth": 0,
            "ticks": ""
           }
          },
          "colorscale": {
           "diverging": [
            [
             0,
             "#8e0152"
            ],
            [
             0.1,
             "#c51b7d"
            ],
            [
             0.2,
             "#de77ae"
            ],
            [
             0.3,
             "#f1b6da"
            ],
            [
             0.4,
             "#fde0ef"
            ],
            [
             0.5,
             "#f7f7f7"
            ],
            [
             0.6,
             "#e6f5d0"
            ],
            [
             0.7,
             "#b8e186"
            ],
            [
             0.8,
             "#7fbc41"
            ],
            [
             0.9,
             "#4d9221"
            ],
            [
             1,
             "#276419"
            ]
           ],
           "sequential": [
            [
             0,
             "#0d0887"
            ],
            [
             0.1111111111111111,
             "#46039f"
            ],
            [
             0.2222222222222222,
             "#7201a8"
            ],
            [
             0.3333333333333333,
             "#9c179e"
            ],
            [
             0.4444444444444444,
             "#bd3786"
            ],
            [
             0.5555555555555556,
             "#d8576b"
            ],
            [
             0.6666666666666666,
             "#ed7953"
            ],
            [
             0.7777777777777778,
             "#fb9f3a"
            ],
            [
             0.8888888888888888,
             "#fdca26"
            ],
            [
             1,
             "#f0f921"
            ]
           ],
           "sequentialminus": [
            [
             0,
             "#0d0887"
            ],
            [
             0.1111111111111111,
             "#46039f"
            ],
            [
             0.2222222222222222,
             "#7201a8"
            ],
            [
             0.3333333333333333,
             "#9c179e"
            ],
            [
             0.4444444444444444,
             "#bd3786"
            ],
            [
             0.5555555555555556,
             "#d8576b"
            ],
            [
             0.6666666666666666,
             "#ed7953"
            ],
            [
             0.7777777777777778,
             "#fb9f3a"
            ],
            [
             0.8888888888888888,
             "#fdca26"
            ],
            [
             1,
             "#f0f921"
            ]
           ]
          },
          "colorway": [
           "#636efa",
           "#EF553B",
           "#00cc96",
           "#ab63fa",
           "#FFA15A",
           "#19d3f3",
           "#FF6692",
           "#B6E880",
           "#FF97FF",
           "#FECB52"
          ],
          "font": {
           "color": "#2a3f5f"
          },
          "geo": {
           "bgcolor": "white",
           "lakecolor": "white",
           "landcolor": "#E5ECF6",
           "showlakes": true,
           "showland": true,
           "subunitcolor": "white"
          },
          "hoverlabel": {
           "align": "left"
          },
          "hovermode": "closest",
          "mapbox": {
           "style": "light"
          },
          "paper_bgcolor": "white",
          "plot_bgcolor": "#E5ECF6",
          "polar": {
           "angularaxis": {
            "gridcolor": "white",
            "linecolor": "white",
            "ticks": ""
           },
           "bgcolor": "#E5ECF6",
           "radialaxis": {
            "gridcolor": "white",
            "linecolor": "white",
            "ticks": ""
           }
          },
          "scene": {
           "xaxis": {
            "backgroundcolor": "#E5ECF6",
            "gridcolor": "white",
            "gridwidth": 2,
            "linecolor": "white",
            "showbackground": true,
            "ticks": "",
            "zerolinecolor": "white"
           },
           "yaxis": {
            "backgroundcolor": "#E5ECF6",
            "gridcolor": "white",
            "gridwidth": 2,
            "linecolor": "white",
            "showbackground": true,
            "ticks": "",
            "zerolinecolor": "white"
           },
           "zaxis": {
            "backgroundcolor": "#E5ECF6",
            "gridcolor": "white",
            "gridwidth": 2,
            "linecolor": "white",
            "showbackground": true,
            "ticks": "",
            "zerolinecolor": "white"
           }
          },
          "shapedefaults": {
           "line": {
            "color": "#2a3f5f"
           }
          },
          "ternary": {
           "aaxis": {
            "gridcolor": "white",
            "linecolor": "white",
            "ticks": ""
           },
           "baxis": {
            "gridcolor": "white",
            "linecolor": "white",
            "ticks": ""
           },
           "bgcolor": "#E5ECF6",
           "caxis": {
            "gridcolor": "white",
            "linecolor": "white",
            "ticks": ""
           }
          },
          "title": {
           "x": 0.05
          },
          "xaxis": {
           "automargin": true,
           "gridcolor": "white",
           "linecolor": "white",
           "ticks": "",
           "title": {
            "standoff": 15
           },
           "zerolinecolor": "white",
           "zerolinewidth": 2
          },
          "yaxis": {
           "automargin": true,
           "gridcolor": "white",
           "linecolor": "white",
           "ticks": "",
           "title": {
            "standoff": 15
           },
           "zerolinecolor": "white",
           "zerolinewidth": 2
          }
         }
        },
        "title": {
         "text": "Tennis Ground Types distribution"
        },
        "width": 400
       }
      }
     },
     "metadata": {},
     "output_type": "display_data"
    }
   ],
   "source": [
    "MatchTournamentInfo = MatchTournamentInfo.drop_duplicates('tournament_id')\n",
    "ground_type = MatchTournamentInfo.groupby('ground_type')['tournament_id'].count()\n",
    "print(f'The most common type of surface used is: {ground_type.idxmax()}')\n",
    "display (ground_type)\n",
    "\n",
    "# plot\n",
    "\n",
    "colors = ['green', 'red', 'yellow', 'blue']\n",
    "fig = px.pie(\n",
    "    ground_type ,\n",
    "    values= ground_type.values ,\n",
    "    names=ground_type.index ,\n",
    "    title='Tennis Ground Types distribution',\n",
    "    hole=0.3  # Optional: makes it a donut chart\n",
    ")\n",
    "\n",
    "# Customize the layout\n",
    "fig.update_traces(textposition='inside', textinfo='percent+label')\n",
    "fig.update_layout(\n",
    "    width=400,\n",
    "    height=400,\n",
    "    margin=dict(l=20, r=20, t=40, b=20)  # Adjust the margins as needed\n",
    ")\n",
    "# Show the chart\n",
    "fig.show()\n",
    "\n",
    "\n"
   ]
  },
  {
   "cell_type": "markdown",
   "id": "bc6c6a2e",
   "metadata": {},
   "source": [
    "### 15.\tHow many distinct countries are represented in the dataset?"
   ]
  },
  {
   "cell_type": "code",
   "execution_count": 217,
   "id": "a0d17025",
   "metadata": {},
   "outputs": [
    {
     "name": "stdout",
     "output_type": "stream",
     "text": [
      "\u001b[36mTotal number of distinct countries in dataset is\u001b[0m 100\n"
     ]
    }
   ],
   "source": [
    "country_table1 = pd.concat (([MatchAwayTeamInfo[\"country\"], MatchHomeTeamInfo[\"country\"]]))\n",
    "country_table_all = pd.concat((country_table1, MatchVenueInfo['country']))\n",
    "country_table_all.unique()\n",
    "print(color.DARKCYAN+ \"Total number of distinct countries in dataset is\" +color.END, country_table_all.unique().size)\n"
   ]
  },
  {
   "cell_type": "markdown",
   "id": "0c4a8cba",
   "metadata": {},
   "source": [
    "### 16.\tWhich player has the highest winning percentage against top 10 ranked opponents?"
   ]
  },
  {
   "cell_type": "markdown",
   "id": "4b1a305f",
   "metadata": {},
   "source": [
    "Step 1: Finding top 10 Players"
   ]
  },
  {
   "cell_type": "code",
   "execution_count": 220,
   "id": "524eae93",
   "metadata": {},
   "outputs": [
    {
     "data": {
      "text/html": [
       "<div>\n",
       "<style scoped>\n",
       "    .dataframe tbody tr th:only-of-type {\n",
       "        vertical-align: middle;\n",
       "    }\n",
       "\n",
       "    .dataframe tbody tr th {\n",
       "        vertical-align: top;\n",
       "    }\n",
       "\n",
       "    .dataframe thead th {\n",
       "        text-align: right;\n",
       "    }\n",
       "</style>\n",
       "<table border=\"1\" class=\"dataframe\">\n",
       "  <thead>\n",
       "    <tr style=\"text-align: right;\">\n",
       "      <th></th>\n",
       "      <th>full_name</th>\n",
       "      <th>player_id</th>\n",
       "      <th>current_rank</th>\n",
       "    </tr>\n",
       "  </thead>\n",
       "  <tbody>\n",
       "    <tr>\n",
       "      <th>0</th>\n",
       "      <td>Rocens, Martins</td>\n",
       "      <td>236825</td>\n",
       "      <td>1858.0</td>\n",
       "    </tr>\n",
       "    <tr>\n",
       "      <th>1</th>\n",
       "      <td>Amoros Ramos, Pol</td>\n",
       "      <td>152830</td>\n",
       "      <td>1858.0</td>\n",
       "    </tr>\n",
       "    <tr>\n",
       "      <th>2</th>\n",
       "      <td>Stenberg, Jonathan</td>\n",
       "      <td>97381</td>\n",
       "      <td>1800.0</td>\n",
       "    </tr>\n",
       "    <tr>\n",
       "      <th>3</th>\n",
       "      <td>Hsu, Jeffrey Chuan En</td>\n",
       "      <td>171072</td>\n",
       "      <td>1717.0</td>\n",
       "    </tr>\n",
       "    <tr>\n",
       "      <th>4</th>\n",
       "      <td>Zhzhenov, Konstantin</td>\n",
       "      <td>377531</td>\n",
       "      <td>1635.0</td>\n",
       "    </tr>\n",
       "    <tr>\n",
       "      <th>5</th>\n",
       "      <td>Marques, Diogo</td>\n",
       "      <td>221382</td>\n",
       "      <td>1635.0</td>\n",
       "    </tr>\n",
       "    <tr>\n",
       "      <th>6</th>\n",
       "      <td>Bathrinath, Lohithaksha</td>\n",
       "      <td>339989</td>\n",
       "      <td>1611.0</td>\n",
       "    </tr>\n",
       "    <tr>\n",
       "      <th>7</th>\n",
       "      <td>Vatteroni, Lorenzo</td>\n",
       "      <td>253830</td>\n",
       "      <td>1578.0</td>\n",
       "    </tr>\n",
       "    <tr>\n",
       "      <th>8</th>\n",
       "      <td>De Vincentis, Matteo</td>\n",
       "      <td>166096</td>\n",
       "      <td>1578.0</td>\n",
       "    </tr>\n",
       "    <tr>\n",
       "      <th>9</th>\n",
       "      <td>Stoica, Vlad</td>\n",
       "      <td>203673</td>\n",
       "      <td>1525.0</td>\n",
       "    </tr>\n",
       "  </tbody>\n",
       "</table>\n",
       "</div>"
      ],
      "text/plain": [
       "                 full_name  player_id  current_rank\n",
       "0          Rocens, Martins     236825        1858.0\n",
       "1        Amoros Ramos, Pol     152830        1858.0\n",
       "2       Stenberg, Jonathan      97381        1800.0\n",
       "3    Hsu, Jeffrey Chuan En     171072        1717.0\n",
       "4     Zhzhenov, Konstantin     377531        1635.0\n",
       "5           Marques, Diogo     221382        1635.0\n",
       "6  Bathrinath, Lohithaksha     339989        1611.0\n",
       "7       Vatteroni, Lorenzo     253830        1578.0\n",
       "8     De Vincentis, Matteo     166096        1578.0\n",
       "9             Stoica, Vlad     203673        1525.0"
      ]
     },
     "execution_count": 220,
     "metadata": {},
     "output_type": "execute_result"
    }
   ],
   "source": [
    "all_player_with_match_id = (pd.concat([MatchHomeTeamInfo, MatchAwayTeamInfo],\n",
    "                           ignore_index=True)\n",
    "                           .sort_values(\"current_rank\", ascending=False)\n",
    "                           .drop_duplicates(subset=[\"match_id\", \"player_id\"]))\n",
    "\n",
    "all_player_with_need_columns = (all_player_with_match_id[[\"full_name\",\"match_id\", \"player_id\", \"current_rank\"]]\n",
    "                               .sort_values([\"current_rank\", \"full_name\"], ascending=False, ignore_index=True))\n",
    "\n",
    "all_player_unique = (all_player_with_need_columns.drop_duplicates(\"player_id\", ignore_index=True)\n",
    "                    .drop(\"match_id\", axis=1))\n",
    "\n",
    "top_ten_palyers = (all_player_unique[all_player_unique[\"current_rank\"]\n",
    "                                    .isin(all_player_unique[\"current_rank\"]\n",
    "                                    .nlargest(n=10))])\n",
    "top_ten_palyers"
   ]
  },
  {
   "cell_type": "markdown",
   "id": "e9fe4285",
   "metadata": {},
   "source": [
    "Step 2: Merging tables"
   ]
  },
  {
   "cell_type": "code",
   "execution_count": 234,
   "id": "b7a4378b",
   "metadata": {},
   "outputs": [
    {
     "data": {
      "text/html": [
       "<div>\n",
       "<style scoped>\n",
       "    .dataframe tbody tr th:only-of-type {\n",
       "        vertical-align: middle;\n",
       "    }\n",
       "\n",
       "    .dataframe tbody tr th {\n",
       "        vertical-align: top;\n",
       "    }\n",
       "\n",
       "    .dataframe thead th {\n",
       "        text-align: right;\n",
       "    }\n",
       "</style>\n",
       "<table border=\"1\" class=\"dataframe\">\n",
       "  <thead>\n",
       "    <tr style=\"text-align: right;\">\n",
       "      <th></th>\n",
       "      <th>full_name</th>\n",
       "      <th>player_id</th>\n",
       "      <th>current_rank</th>\n",
       "    </tr>\n",
       "  </thead>\n",
       "  <tbody>\n",
       "    <tr>\n",
       "      <th>538</th>\n",
       "      <td>Han, Seon Yong</td>\n",
       "      <td>196408</td>\n",
       "      <td>1146.0</td>\n",
       "    </tr>\n",
       "  </tbody>\n",
       "</table>\n",
       "</div>"
      ],
      "text/plain": [
       "          full_name  player_id  current_rank\n",
       "538  Han, Seon Yong     196408        1146.0"
      ]
     },
     "execution_count": 234,
     "metadata": {},
     "output_type": "execute_result"
    }
   ],
   "source": [
    "match_between_two_player = (all_player_with_need_columns.pivot_table\n",
    "                           (index=\"match_id\",\n",
    "                            columns=all_player_with_need_columns.groupby(\"match_id\").cumcount(),\n",
    "                            values=\"player_id\",\n",
    "                            aggfunc='first').add_prefix(\"player\")\n",
    "                            .reset_index())\n",
    "\n",
    "match_home = MatchHomeTeamInfo[[\"match_id\", \"player_id\", \"current_rank\", \"full_name\"]]\n",
    "match_away = MatchAwayTeamInfo[[\"match_id\", \"player_id\", \"current_rank\", \"full_name\"]]\n",
    "match_winner = MatchEventInfo[[\"match_id\", \"winner_code\"]]\n",
    "\n",
    "\n",
    "match_winner_home_player_id = pd.merge(match_home, match_winner, how=\"right\" ).drop_duplicates()\n",
    "match_winner_away_player_id = pd.merge(match_home, match_winner, how=\"right\" ).drop_duplicates()\n",
    "\n",
    "match_winner_player_id = pd.concat([match_winner_home_player_id, match_winner_away_player_id])\n",
    "\n",
    "winner_player = match_winner_player_id[match_winner_player_id[\"winner_code\"] == 2]\n",
    "\n",
    "winner_in_each_match = pd.merge(match_between_two_player, winner_player)\n",
    "\n",
    "series_of_match_id_top_player_played = (all_player_with_need_columns\n",
    "                                        [all_player_with_need_columns[\"player_id\"]\n",
    "                                         .isin(top_ten_palyers[\"player_id\"])]\n",
    "                                         [\"match_id\"])\n",
    "\n",
    "winer_in_each_match_top_player_played = (winner_in_each_match[winner_in_each_match[\"match_id\"]\n",
    "                                                             .isin(series_of_match_id_top_player_played)]).dropna(axis=0)\n",
    "who_win_from_top_ten = (winer_in_each_match_top_player_played\n",
    "                        [~(winer_in_each_match_top_player_played[\"player_id\"]\n",
    "                           .isin(top_ten_palyers[\"player_id\"]))])\n",
    "best_palayer_in_playe_top_ten = (who_win_from_top_ten.groupby(\"player_id\")[\"winner_code\"]\n",
    "                                 .agg(\"count\").reset_index()\n",
    "                                 .sort_values(\"winner_code\",ascending=False))\n",
    "top_player = all_player_unique[all_player_unique[\"player_id\"] == int(best_palayer_in_playe_top_ten.iloc[0][\"player_id\"])]\n",
    "top_player\n"
   ]
  },
  {
   "cell_type": "markdown",
   "id": "7508dbce",
   "metadata": {},
   "source": [
    "### 17. What is the average number of breaks of serve per match?\n"
   ]
  },
  {
   "cell_type": "code",
   "execution_count": 33,
   "id": "ef3557cc",
   "metadata": {},
   "outputs": [
    {
     "name": "stdout",
     "output_type": "stream",
     "text": [
      "\u001b[92mAverage servis per match is\u001b[0m 217.16\n"
     ]
    },
    {
     "data": {
      "image/png": "[encoded data removed]",
      "text/plain": [
       "<Figure size 800x600 with 1 Axes>"
      ]
     },
     "metadata": {},
     "output_type": "display_data"
    },
    {
     "data": {
      "text/plain": [
       "match_id\n",
       "12318667    460\n",
       "12366185    460\n",
       "12374101    460\n",
       "12312899    459\n",
       "12328204    459\n",
       "           ... \n",
       "12295227     29\n",
       "12303790     26\n",
       "12357356     22\n",
       "12350424     12\n",
       "12298013      8\n",
       "Name: scoring, Length: 6414, dtype: int64"
      ]
     },
     "metadata": {},
     "output_type": "display_data"
    }
   ],
   "source": [
    "point_each_game = (GameInfo[[\"match_id\", \"set_id\", \"home_point\", \"away_point\", \"scoring\"]]\n",
    "                   .groupby(\"match_id\")[\"scoring\"].count()\n",
    "                   .sort_values(ascending=False))\n",
    "\n",
    "Q1 = point_each_game.quantile(0.25)\n",
    "Q3 = point_each_game.quantile(0.75)\n",
    "IQR = Q3 - Q1\n",
    "\n",
    "point_each_game_cleaned = (point_each_game[~((point_each_game < (Q1 - 1.5 * IQR)) \n",
    "                                            |\n",
    "                                            (point_each_game > (Q3 + 1.5 * IQR)))])\n",
    "\n",
    "print(color.GREEN+ 'Average servis per match is' +color.END, point_each_game_cleaned.mean().round(3))\n",
    "\n",
    "# Plot\n",
    "plt.figure(figsize=(8,6))\n",
    "plt.hist(point_each_game_cleaned, rwidth=0.95 , color='purple', edgecolor='k')\n",
    "plt.title('Distribution of ???')\n",
    "plt.show()\n",
    "display(point_each_game_cleaned)"
   ]
  },
  {
   "cell_type": "markdown",
   "id": "ad9b0f98",
   "metadata": {},
   "source": [
    "### 18."
   ]
  },
  {
   "cell_type": "code",
   "execution_count": null,
   "id": "2ea5fbdb",
   "metadata": {},
   "outputs": [],
   "source": []
  },
  {
   "cell_type": "markdown",
   "id": "c800c42d",
   "metadata": {},
   "source": [
    "### 19."
   ]
  },
  {
   "cell_type": "code",
   "execution_count": null,
   "id": "3daf91a1",
   "metadata": {},
   "outputs": [],
   "source": []
  },
  {
   "cell_type": "markdown",
   "id": "8d7215c0",
   "metadata": {},
   "source": [
    "### 20. "
   ]
  },
  {
   "cell_type": "code",
   "execution_count": null,
   "id": "0eccc6df",
   "metadata": {},
   "outputs": [],
   "source": []
  }
 ],
 "metadata": {
  "kernelspec": {
   "display_name": "Python 3 (Spyder)",
   "language": "python3",
   "name": "python3"
  },
  "language_info": {
   "codemirror_mode": {
    "name": "ipython",
    "version": 3
   },
   "file_extension": ".py",
   "mimetype": "text/x-python",
   "name": "python",
   "nbconvert_exporter": "python",
   "pygments_lexer": "ipython3",
   "version": "3.1.-1"
  }
 },
 "nbformat": 4,
 "nbformat_minor": 5
}
