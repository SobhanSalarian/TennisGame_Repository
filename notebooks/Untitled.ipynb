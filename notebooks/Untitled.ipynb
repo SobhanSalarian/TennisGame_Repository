{
 "cells": [
  {
   "cell_type": "code",
   "execution_count": 1,
   "id": "5a78acc3",
   "metadata": {},
   "outputs": [],
   "source": [
    "import pandas as pd\n",
    "import numpy as np\n",
    "import matplotlib.pyplot as plt\n",
    "import seaborn as sns"
   ]
  },
  {
   "cell_type": "code",
   "execution_count": 65,
   "id": "db14baad",
   "metadata": {},
   "outputs": [],
   "source": [
    "GameInfo = pd.read_csv(\"/Users/sobhansalarian/Desktop/DataAnalysis/TennisGame/TennisGame_Repository/references/CsvTables/GameInfo.csv\").drop(columns=[\"Unnamed: 0\"])\n",
    "MatchAwayScoreInfo = pd.read_csv(\"/Users/sobhansalarian/Desktop/DataAnalysis/TennisGame/TennisGame_Repository/references/CsvTables/MatchAwayScoreInfo.csv\").drop(columns=[\"Unnamed: 0\"])\n",
    "MatchAwayTeamInfo = pd.read_csv(\"/Users/sobhansalarian/Desktop/DataAnalysis/TennisGame/TennisGame_Repository/references/CsvTables/MatchAwayTeamInfo.csv\").drop(columns=[\"Unnamed: 0\"])\n",
    "MatchEventInfo = pd.read_csv(\"/Users/sobhansalarian/Desktop/DataAnalysis/TennisGame/TennisGame_Repository/references/CsvTables/MatchEventInfo.csv\").drop(columns=[\"Unnamed: 0\"])\n",
    "MatchHomeScoreInfo = pd.read_csv(\"/Users/sobhansalarian/Desktop/DataAnalysis/TennisGame/TennisGame_Repository/references/CsvTables/MatchHomeScoreInfo.csv\").drop(columns=[\"Unnamed: 0\"])\n",
    "MatchHomeTeamInfo = pd.read_csv(\"/Users/sobhansalarian/Desktop/DataAnalysis/TennisGame/TennisGame_Repository/references/CsvTables/MatchHomeTeamInfo.csv\").drop(columns=[\"Unnamed: 0\"])\n",
    "MatchRoundInfo = pd.read_csv(\"/Users/sobhansalarian/Desktop/DataAnalysis/TennisGame/TennisGame_Repository/references/CsvTables/MatchRoundInfo.csv\").drop(columns=[\"Unnamed: 0\"])\n",
    "MatchTimeInfo = pd.read_csv(\"/Users/sobhansalarian/Desktop/DataAnalysis/TennisGame/TennisGame_Repository/references/CsvTables/MatchTimeInfo.csv\").drop(columns=[\"Unnamed: 0\"])\n",
    "MatchSeasonInfo = pd.read_csv(\"/Users/sobhansalarian/Desktop/DataAnalysis/TennisGame/TennisGame_Repository/references/CsvTables/MatchSeasonInfo.csv\").drop(columns=[\"Unnamed: 0\"])\n",
    "MatchTournamentInfo = pd.read_csv(\"/Users/sobhansalarian/Desktop/DataAnalysis/TennisGame/TennisGame_Repository/references/CsvTables/MatchTournamentInfo.csv\").drop(columns=[\"Unnamed: 0\"])\n",
    "MatchVenueInfo = pd.read_csv(\"/Users/sobhansalarian/Desktop/DataAnalysis/TennisGame/TennisGame_Repository/references/CsvTables/MatchVenueInfo.csv\").drop(columns=[\"Unnamed: 0\"])\n",
    "MatchVotesInfo = pd.read_csv(\"/Users/sobhansalarian/Desktop/DataAnalysis/TennisGame/TennisGame_Repository/references/CsvTables/MatchVotesInfo.csv\").drop(columns=[\"Unnamed: 0\"])\n",
    "OddsInfo = pd.read_csv(\"/Users/sobhansalarian/Desktop/DataAnalysis/TennisGame/TennisGame_Repository/references/CsvTables/OddsInfo.csv\").drop(columns=[\"Unnamed: 0\"])\n",
    "PeriodInfo = pd.read_csv(\"/Users/sobhansalarian/Desktop/DataAnalysis/TennisGame/TennisGame_Repository/references/CsvTables/PeriodInfo.csv\").drop(columns=[\"Unnamed: 0\"])\n",
    "PowerInfo = pd.read_csv(\"/Users/sobhansalarian/Desktop/DataAnalysis/TennisGame/TennisGame_Repository/references/CsvTables/PowerInfo.csv\").drop(columns=[\"Unnamed: 0\"])"
   ]
  },
  {
   "cell_type": "code",
   "execution_count": 85,
   "id": "9f6e49fa",
   "metadata": {},
   "outputs": [
    {
     "data": {
      "text/plain": [
       "array([370698,  98607, 371052, ...,  23664, 216040, 291827])"
      ]
     },
     "execution_count": 85,
     "metadata": {},
     "output_type": "execute_result"
    }
   ],
   "source": [
    "AllPlayers = pd.concat([MatchAwayTeamInfo['player_id'] , MatchHomeTeamInfo['player_id']])\n",
    "AllPlayers.unique()"
   ]
  },
  {
   "cell_type": "code",
   "execution_count": 86,
   "id": "eb601498",
   "metadata": {},
   "outputs": [
    {
     "data": {
      "text/plain": [
       "array([370698,  98607, 371052, ...,  23664, 216040, 291827])"
      ]
     },
     "execution_count": 86,
     "metadata": {},
     "output_type": "execute_result"
    }
   ],
   "source": [
    "player_info = pd.concat([MatchAwayTeamInfo[[\"player_id\", \"height\"]]\n",
    "                        , MatchHomeTeamInfo[[\"player_id\", \"height\"]]])\n",
    "playerId = player_info['player_id'].unique()\n",
    "playerId"
   ]
  },
  {
   "cell_type": "code",
   "execution_count": 36,
   "id": "e02d1d11",
   "metadata": {},
   "outputs": [],
   "source": [
    "dataWith_NoNA = player_info[~(player_info['height'].isna())]\n",
    "AvgValue= dataWith_NoNA['height'].sum()/dataWith_NoNA['height'].count()\n"
   ]
  },
  {
   "cell_type": "code",
   "execution_count": 51,
   "id": "7d38a676",
   "metadata": {},
   "outputs": [
    {
     "data": {
      "text/html": [
       "<div>\n",
       "<style scoped>\n",
       "    .dataframe tbody tr th:only-of-type {\n",
       "        vertical-align: middle;\n",
       "    }\n",
       "\n",
       "    .dataframe tbody tr th {\n",
       "        vertical-align: top;\n",
       "    }\n",
       "\n",
       "    .dataframe thead th {\n",
       "        text-align: right;\n",
       "    }\n",
       "</style>\n",
       "<table border=\"1\" class=\"dataframe\">\n",
       "  <thead>\n",
       "    <tr style=\"text-align: right;\">\n",
       "      <th></th>\n",
       "      <th>match_id</th>\n",
       "      <th>period_1</th>\n",
       "      <th>period_2</th>\n",
       "      <th>period_3</th>\n",
       "      <th>period_4</th>\n",
       "      <th>period_5</th>\n",
       "      <th>current_period_start_timestamp</th>\n",
       "    </tr>\n",
       "  </thead>\n",
       "  <tbody>\n",
       "    <tr>\n",
       "      <th>0</th>\n",
       "      <td>12303632</td>\n",
       "      <td>1939.0</td>\n",
       "      <td>2650.0</td>\n",
       "      <td>2940.0</td>\n",
       "      <td>NaN</td>\n",
       "      <td>NaN</td>\n",
       "      <td>1.714822e+09</td>\n",
       "    </tr>\n",
       "    <tr>\n",
       "      <th>1</th>\n",
       "      <td>12276833</td>\n",
       "      <td>1813.0</td>\n",
       "      <td>1793.0</td>\n",
       "      <td>3258.0</td>\n",
       "      <td>NaN</td>\n",
       "      <td>NaN</td>\n",
       "      <td>1.714737e+09</td>\n",
       "    </tr>\n",
       "    <tr>\n",
       "      <th>2</th>\n",
       "      <td>12304192</td>\n",
       "      <td>1745.0</td>\n",
       "      <td>3799.0</td>\n",
       "      <td>NaN</td>\n",
       "      <td>NaN</td>\n",
       "      <td>NaN</td>\n",
       "      <td>1.714822e+09</td>\n",
       "    </tr>\n",
       "    <tr>\n",
       "      <th>3</th>\n",
       "      <td>12299621</td>\n",
       "      <td>2798.0</td>\n",
       "      <td>2584.0</td>\n",
       "      <td>2527.0</td>\n",
       "      <td>NaN</td>\n",
       "      <td>NaN</td>\n",
       "      <td>1.714718e+09</td>\n",
       "    </tr>\n",
       "    <tr>\n",
       "      <th>4</th>\n",
       "      <td>12297829</td>\n",
       "      <td>2804.0</td>\n",
       "      <td>4165.0</td>\n",
       "      <td>3689.0</td>\n",
       "      <td>NaN</td>\n",
       "      <td>NaN</td>\n",
       "      <td>1.714746e+09</td>\n",
       "    </tr>\n",
       "  </tbody>\n",
       "</table>\n",
       "</div>"
      ],
      "text/plain": [
       "   match_id  period_1  period_2  period_3  period_4  period_5  \\\n",
       "0  12303632    1939.0    2650.0    2940.0       NaN       NaN   \n",
       "1  12276833    1813.0    1793.0    3258.0       NaN       NaN   \n",
       "2  12304192    1745.0    3799.0       NaN       NaN       NaN   \n",
       "3  12299621    2798.0    2584.0    2527.0       NaN       NaN   \n",
       "4  12297829    2804.0    4165.0    3689.0       NaN       NaN   \n",
       "\n",
       "   current_period_start_timestamp  \n",
       "0                    1.714822e+09  \n",
       "1                    1.714737e+09  \n",
       "2                    1.714822e+09  \n",
       "3                    1.714718e+09  \n",
       "4                    1.714746e+09  "
      ]
     },
     "execution_count": 51,
     "metadata": {},
     "output_type": "execute_result"
    }
   ],
   "source": [
    "MatchTimeInfo.head()"
   ]
  },
  {
   "cell_type": "code",
   "execution_count": 66,
   "id": "2808c858",
   "metadata": {},
   "outputs": [
    {
     "data": {
      "text/html": [
       "<div>\n",
       "<style scoped>\n",
       "    .dataframe tbody tr th:only-of-type {\n",
       "        vertical-align: middle;\n",
       "    }\n",
       "\n",
       "    .dataframe tbody tr th {\n",
       "        vertical-align: top;\n",
       "    }\n",
       "\n",
       "    .dataframe thead th {\n",
       "        text-align: right;\n",
       "    }\n",
       "</style>\n",
       "<table border=\"1\" class=\"dataframe\">\n",
       "  <thead>\n",
       "    <tr style=\"text-align: right;\">\n",
       "      <th></th>\n",
       "      <th>match_id</th>\n",
       "      <th>period_1</th>\n",
       "      <th>period_2</th>\n",
       "      <th>period_3</th>\n",
       "      <th>period_4</th>\n",
       "      <th>period_5</th>\n",
       "      <th>current_period_start_timestamp</th>\n",
       "    </tr>\n",
       "  </thead>\n",
       "  <tbody>\n",
       "    <tr>\n",
       "      <th>0</th>\n",
       "      <td>12303632</td>\n",
       "      <td>1939.0</td>\n",
       "      <td>2650.0</td>\n",
       "      <td>2940.0</td>\n",
       "      <td>0.0</td>\n",
       "      <td>0.0</td>\n",
       "      <td>1.714822e+09</td>\n",
       "    </tr>\n",
       "    <tr>\n",
       "      <th>1</th>\n",
       "      <td>12276833</td>\n",
       "      <td>1813.0</td>\n",
       "      <td>1793.0</td>\n",
       "      <td>3258.0</td>\n",
       "      <td>0.0</td>\n",
       "      <td>0.0</td>\n",
       "      <td>1.714737e+09</td>\n",
       "    </tr>\n",
       "    <tr>\n",
       "      <th>2</th>\n",
       "      <td>12304192</td>\n",
       "      <td>1745.0</td>\n",
       "      <td>3799.0</td>\n",
       "      <td>0.0</td>\n",
       "      <td>0.0</td>\n",
       "      <td>0.0</td>\n",
       "      <td>1.714822e+09</td>\n",
       "    </tr>\n",
       "    <tr>\n",
       "      <th>3</th>\n",
       "      <td>12299621</td>\n",
       "      <td>2798.0</td>\n",
       "      <td>2584.0</td>\n",
       "      <td>2527.0</td>\n",
       "      <td>0.0</td>\n",
       "      <td>0.0</td>\n",
       "      <td>1.714718e+09</td>\n",
       "    </tr>\n",
       "    <tr>\n",
       "      <th>4</th>\n",
       "      <td>12297829</td>\n",
       "      <td>2804.0</td>\n",
       "      <td>4165.0</td>\n",
       "      <td>3689.0</td>\n",
       "      <td>0.0</td>\n",
       "      <td>0.0</td>\n",
       "      <td>1.714746e+09</td>\n",
       "    </tr>\n",
       "    <tr>\n",
       "      <th>...</th>\n",
       "      <td>...</td>\n",
       "      <td>...</td>\n",
       "      <td>...</td>\n",
       "      <td>...</td>\n",
       "      <td>...</td>\n",
       "      <td>...</td>\n",
       "      <td>...</td>\n",
       "    </tr>\n",
       "    <tr>\n",
       "      <th>19671</th>\n",
       "      <td>12317323</td>\n",
       "      <td>2377.0</td>\n",
       "      <td>2099.0</td>\n",
       "      <td>2623.0</td>\n",
       "      <td>0.0</td>\n",
       "      <td>0.0</td>\n",
       "      <td>1.715767e+09</td>\n",
       "    </tr>\n",
       "    <tr>\n",
       "      <th>19672</th>\n",
       "      <td>12334523</td>\n",
       "      <td>2693.0</td>\n",
       "      <td>4643.0</td>\n",
       "      <td>0.0</td>\n",
       "      <td>0.0</td>\n",
       "      <td>0.0</td>\n",
       "      <td>1.715781e+09</td>\n",
       "    </tr>\n",
       "    <tr>\n",
       "      <th>19673</th>\n",
       "      <td>12327448</td>\n",
       "      <td>1845.0</td>\n",
       "      <td>2002.0</td>\n",
       "      <td>0.0</td>\n",
       "      <td>0.0</td>\n",
       "      <td>0.0</td>\n",
       "      <td>1.715767e+09</td>\n",
       "    </tr>\n",
       "    <tr>\n",
       "      <th>19674</th>\n",
       "      <td>12335029</td>\n",
       "      <td>1968.0</td>\n",
       "      <td>2331.0</td>\n",
       "      <td>0.0</td>\n",
       "      <td>0.0</td>\n",
       "      <td>0.0</td>\n",
       "      <td>1.715710e+09</td>\n",
       "    </tr>\n",
       "    <tr>\n",
       "      <th>19675</th>\n",
       "      <td>12317333</td>\n",
       "      <td>1253.0</td>\n",
       "      <td>2763.0</td>\n",
       "      <td>0.0</td>\n",
       "      <td>0.0</td>\n",
       "      <td>0.0</td>\n",
       "      <td>1.715750e+09</td>\n",
       "    </tr>\n",
       "  </tbody>\n",
       "</table>\n",
       "<p>19676 rows × 7 columns</p>\n",
       "</div>"
      ],
      "text/plain": [
       "       match_id  period_1  period_2  period_3  period_4  period_5  \\\n",
       "0      12303632    1939.0    2650.0    2940.0       0.0       0.0   \n",
       "1      12276833    1813.0    1793.0    3258.0       0.0       0.0   \n",
       "2      12304192    1745.0    3799.0       0.0       0.0       0.0   \n",
       "3      12299621    2798.0    2584.0    2527.0       0.0       0.0   \n",
       "4      12297829    2804.0    4165.0    3689.0       0.0       0.0   \n",
       "...         ...       ...       ...       ...       ...       ...   \n",
       "19671  12317323    2377.0    2099.0    2623.0       0.0       0.0   \n",
       "19672  12334523    2693.0    4643.0       0.0       0.0       0.0   \n",
       "19673  12327448    1845.0    2002.0       0.0       0.0       0.0   \n",
       "19674  12335029    1968.0    2331.0       0.0       0.0       0.0   \n",
       "19675  12317333    1253.0    2763.0       0.0       0.0       0.0   \n",
       "\n",
       "       current_period_start_timestamp  \n",
       "0                        1.714822e+09  \n",
       "1                        1.714737e+09  \n",
       "2                        1.714822e+09  \n",
       "3                        1.714718e+09  \n",
       "4                        1.714746e+09  \n",
       "...                               ...  \n",
       "19671                    1.715767e+09  \n",
       "19672                    1.715781e+09  \n",
       "19673                    1.715767e+09  \n",
       "19674                    1.715710e+09  \n",
       "19675                    1.715750e+09  \n",
       "\n",
       "[19676 rows x 7 columns]"
      ]
     },
     "execution_count": 66,
     "metadata": {},
     "output_type": "execute_result"
    }
   ],
   "source": [
    "MatchTimeInfo.fillna(0)"
   ]
  },
  {
   "cell_type": "code",
   "execution_count": 78,
   "id": "2ef794e2",
   "metadata": {},
   "outputs": [
    {
     "name": "stdout",
     "output_type": "stream",
     "text": [
      "the average of the game times is 5046.799806871315 seconds of about 84.11333011452191 hours \n"
     ]
    }
   ],
   "source": [
    "MatchTimeInfo = MatchTimeInfo.fillna(0)\n",
    "MatchTimeInfo['SumOfTimes'] = MatchTimeInfo[['period_1','period_2','period_3', 'period_4','period_5']].sum(axis=1)\n",
    "avgTime = MatchTimeInfo['SumOfTimes'].mean()\n",
    "print(f\"the average of the game times is {avgTime} seconds of about {avgTime/60} hours \")\n"
   ]
  },
  {
   "cell_type": "code",
   "execution_count": 74,
   "id": "247686b8",
   "metadata": {},
   "outputs": [
    {
     "name": "stdout",
     "output_type": "stream",
     "text": [
      "<class 'pandas.core.frame.DataFrame'>\n",
      "RangeIndex: 19676 entries, 0 to 19675\n",
      "Data columns (total 8 columns):\n",
      " #   Column                          Non-Null Count  Dtype  \n",
      "---  ------                          --------------  -----  \n",
      " 0   match_id                        19676 non-null  int64  \n",
      " 1   period_1                        19676 non-null  float64\n",
      " 2   period_2                        19676 non-null  float64\n",
      " 3   period_3                        19676 non-null  float64\n",
      " 4   period_4                        19676 non-null  float64\n",
      " 5   period_5                        19676 non-null  float64\n",
      " 6   current_period_start_timestamp  19676 non-null  float64\n",
      " 7   SumOfTimes                      19676 non-null  float64\n",
      "dtypes: float64(7), int64(1)\n",
      "memory usage: 1.2 MB\n"
     ]
    }
   ],
   "source": [
    "MatchTimeInfo.info()"
   ]
  },
  {
   "cell_type": "code",
   "execution_count": 94,
   "id": "89a36488",
   "metadata": {},
   "outputs": [
    {
     "data": {
      "text/html": [
       "<div>\n",
       "<style scoped>\n",
       "    .dataframe tbody tr th:only-of-type {\n",
       "        vertical-align: middle;\n",
       "    }\n",
       "\n",
       "    .dataframe tbody tr th {\n",
       "        vertical-align: top;\n",
       "    }\n",
       "\n",
       "    .dataframe thead th {\n",
       "        text-align: right;\n",
       "    }\n",
       "</style>\n",
       "<table border=\"1\" class=\"dataframe\">\n",
       "  <thead>\n",
       "    <tr style=\"text-align: right;\">\n",
       "      <th></th>\n",
       "      <th>full_name</th>\n",
       "      <th>current_rank</th>\n",
       "    </tr>\n",
       "  </thead>\n",
       "  <tbody>\n",
       "    <tr>\n",
       "      <th>7393</th>\n",
       "      <td>Amoros Ramos, Pol</td>\n",
       "      <td>1858.0</td>\n",
       "    </tr>\n",
       "    <tr>\n",
       "      <th>1852</th>\n",
       "      <td>Rocens, Martins</td>\n",
       "      <td>1858.0</td>\n",
       "    </tr>\n",
       "    <tr>\n",
       "      <th>758</th>\n",
       "      <td>Stenberg, Jonathan</td>\n",
       "      <td>1800.0</td>\n",
       "    </tr>\n",
       "    <tr>\n",
       "      <th>1547</th>\n",
       "      <td>Hsu, Jeffrey Chuan En</td>\n",
       "      <td>1717.0</td>\n",
       "    </tr>\n",
       "    <tr>\n",
       "      <th>515</th>\n",
       "      <td>Zhzhenov, Konstantin</td>\n",
       "      <td>1635.0</td>\n",
       "    </tr>\n",
       "    <tr>\n",
       "      <th>1655</th>\n",
       "      <td>Marques, Diogo</td>\n",
       "      <td>1635.0</td>\n",
       "    </tr>\n",
       "    <tr>\n",
       "      <th>2125</th>\n",
       "      <td>Bathrinath, Lohithaksha</td>\n",
       "      <td>1611.0</td>\n",
       "    </tr>\n",
       "    <tr>\n",
       "      <th>1831</th>\n",
       "      <td>De Vincentis, Matteo</td>\n",
       "      <td>1578.0</td>\n",
       "    </tr>\n",
       "    <tr>\n",
       "      <th>2954</th>\n",
       "      <td>Vatteroni, Lorenzo</td>\n",
       "      <td>1578.0</td>\n",
       "    </tr>\n",
       "    <tr>\n",
       "      <th>2238</th>\n",
       "      <td>Stoica, Vlad</td>\n",
       "      <td>1525.0</td>\n",
       "    </tr>\n",
       "    <tr>\n",
       "      <th>1805</th>\n",
       "      <td>D'Agostino, Stefano</td>\n",
       "      <td>1500.0</td>\n",
       "    </tr>\n",
       "    <tr>\n",
       "      <th>503</th>\n",
       "      <td>Chekhov, Anton</td>\n",
       "      <td>1500.0</td>\n",
       "    </tr>\n",
       "    <tr>\n",
       "      <th>3619</th>\n",
       "      <td>Van Assendelft, Jip</td>\n",
       "      <td>1500.0</td>\n",
       "    </tr>\n",
       "    <tr>\n",
       "      <th>1423</th>\n",
       "      <td>Tailleu, Pierre Antoine</td>\n",
       "      <td>1500.0</td>\n",
       "    </tr>\n",
       "    <tr>\n",
       "      <th>1574</th>\n",
       "      <td>Genov, Anthony</td>\n",
       "      <td>1499.0</td>\n",
       "    </tr>\n",
       "    <tr>\n",
       "      <th>8618</th>\n",
       "      <td>Pena, Enrique</td>\n",
       "      <td>1499.0</td>\n",
       "    </tr>\n",
       "    <tr>\n",
       "      <th>1364</th>\n",
       "      <td>Nesterov, Alexey</td>\n",
       "      <td>1499.0</td>\n",
       "    </tr>\n",
       "    <tr>\n",
       "      <th>6799</th>\n",
       "      <td>Casanova, Andrin</td>\n",
       "      <td>1499.0</td>\n",
       "    </tr>\n",
       "    <tr>\n",
       "      <th>3139</th>\n",
       "      <td>Goldhoff, George</td>\n",
       "      <td>1498.0</td>\n",
       "    </tr>\n",
       "    <tr>\n",
       "      <th>4693</th>\n",
       "      <td>Makk, Peter</td>\n",
       "      <td>1498.0</td>\n",
       "    </tr>\n",
       "  </tbody>\n",
       "</table>\n",
       "</div>"
      ],
      "text/plain": [
       "                    full_name  current_rank\n",
       "7393        Amoros Ramos, Pol        1858.0\n",
       "1852          Rocens, Martins        1858.0\n",
       "758        Stenberg, Jonathan        1800.0\n",
       "1547    Hsu, Jeffrey Chuan En        1717.0\n",
       "515      Zhzhenov, Konstantin        1635.0\n",
       "1655           Marques, Diogo        1635.0\n",
       "2125  Bathrinath, Lohithaksha        1611.0\n",
       "1831     De Vincentis, Matteo        1578.0\n",
       "2954       Vatteroni, Lorenzo        1578.0\n",
       "2238             Stoica, Vlad        1525.0\n",
       "1805      D'Agostino, Stefano        1500.0\n",
       "503            Chekhov, Anton        1500.0\n",
       "3619      Van Assendelft, Jip        1500.0\n",
       "1423  Tailleu, Pierre Antoine        1500.0\n",
       "1574           Genov, Anthony        1499.0\n",
       "8618            Pena, Enrique        1499.0\n",
       "1364         Nesterov, Alexey        1499.0\n",
       "6799         Casanova, Andrin        1499.0\n",
       "3139         Goldhoff, George        1498.0\n",
       "4693              Makk, Peter        1498.0"
      ]
     },
     "execution_count": 94,
     "metadata": {},
     "output_type": "execute_result"
    }
   ],
   "source": [
    "#which player has the highest number of wins \n",
    "\n",
    "\n",
    "\n",
    "players_with_ranks = pd.concat([MatchHomeTeamInfo[['full_name' , 'current_rank']] , MatchAwayTeamInfo[['full_name' , 'current_rank']]])\n",
    "players_with_ranks = players_with_ranks.drop_duplicates(subset=['full_name'])\n",
    "players_with_ranks.sort_values('current_rank' ,ascending= False).head(20)\n",
    "\n"
   ]
  },
  {
   "cell_type": "code",
   "execution_count": 95,
   "id": "7812fd9a",
   "metadata": {},
   "outputs": [
    {
     "name": "stdout",
     "output_type": "stream",
     "text": [
      "The player who won the most tournaments is: Kuramochi M.\n"
     ]
    }
   ],
   "source": [
    "merged_home = pd.merge(MatchEventInfo, MatchHomeTeamInfo, on='match_id', suffixes=['_home'])\n",
    "merged_away = pd.merge(MatchEventInfo, MatchAwayTeamInfo, on='match_id', suffixes=['_away'])\n",
    "\n",
    "home_wins = merged_home[merged_home['winner_code'] == 1][['match_id','player_id', 'name']].copy()\n",
    "away_wins = merged_away[merged_away['winner_code'] == 2][['match_id','player_id', 'name']].copy()\n",
    "all_wins = pd.concat([home_wins, away_wins])\n",
    "tournament_wins = pd.merge (all_wins, MatchTournamentInfo, on='match_id', suffixes=['_tournament'])\n",
    "\n",
    "tournament_count = tournament_wins['tournament_id'].value_counts().reset_index\n",
    "tournament_count = ['player_id','wins']\n",
    "\n",
    "player_tournament_info = tournament_wins[['player_id', 'name', 'tournament_id']].drop_duplicates()\n",
    "player_tournament_count = player_tournament_info.groupby('player_id').agg(tournament_sum = ('tournament_id','count')).sort_values('tournament_sum', ascending=False)\n",
    "top_player_id = player_tournament_count.idxmax().values[0]\n",
    "top_player_name = player_tournament_info[player_tournament_info['player_id'] == int(top_player_id)]['name'].unique()[0]\n",
    "print('The player who won the most tournaments is:', top_player_name)"
   ]
  },
  {
   "cell_type": "code",
   "execution_count": 102,
   "id": "836cb409",
   "metadata": {},
   "outputs": [
    {
     "data": {
      "text/html": [
       "<div>\n",
       "<style scoped>\n",
       "    .dataframe tbody tr th:only-of-type {\n",
       "        vertical-align: middle;\n",
       "    }\n",
       "\n",
       "    .dataframe tbody tr th {\n",
       "        vertical-align: top;\n",
       "    }\n",
       "\n",
       "    .dataframe thead th {\n",
       "        text-align: right;\n",
       "    }\n",
       "</style>\n",
       "<table border=\"1\" class=\"dataframe\">\n",
       "  <thead>\n",
       "    <tr style=\"text-align: right;\">\n",
       "      <th></th>\n",
       "      <th>match_id</th>\n",
       "      <th>player_id</th>\n",
       "      <th>name</th>\n",
       "    </tr>\n",
       "  </thead>\n",
       "  <tbody>\n",
       "    <tr>\n",
       "      <th>0</th>\n",
       "      <td>12276860</td>\n",
       "      <td>271389</td>\n",
       "      <td>Navone M.</td>\n",
       "    </tr>\n",
       "    <tr>\n",
       "      <th>1</th>\n",
       "      <td>12276860</td>\n",
       "      <td>271389</td>\n",
       "      <td>Navone M.</td>\n",
       "    </tr>\n",
       "    <tr>\n",
       "      <th>2</th>\n",
       "      <td>12276860</td>\n",
       "      <td>271389</td>\n",
       "      <td>Navone M.</td>\n",
       "    </tr>\n",
       "    <tr>\n",
       "      <th>3</th>\n",
       "      <td>12276860</td>\n",
       "      <td>271389</td>\n",
       "      <td>Navone M.</td>\n",
       "    </tr>\n",
       "    <tr>\n",
       "      <th>4</th>\n",
       "      <td>12296111</td>\n",
       "      <td>78431</td>\n",
       "      <td>Lodikova D.</td>\n",
       "    </tr>\n",
       "  </tbody>\n",
       "</table>\n",
       "</div>"
      ],
      "text/plain": [
       "   match_id  player_id         name\n",
       "0  12276860     271389    Navone M.\n",
       "1  12276860     271389    Navone M.\n",
       "2  12276860     271389    Navone M.\n",
       "3  12276860     271389    Navone M.\n",
       "4  12296111      78431  Lodikova D."
      ]
     },
     "execution_count": 102,
     "metadata": {},
     "output_type": "execute_result"
    }
   ],
   "source": [
    "pd.set_option(\"display.max_columns\", None)\n"
   ]
  },
  {
   "cell_type": "code",
   "execution_count": 127,
   "id": "91af4ba6",
   "metadata": {},
   "outputs": [
    {
     "name": "stdout",
     "output_type": "stream",
     "text": [
      "df1 columns are: ['match_id', 'first_to_serve', 'home_team_seed', 'away_team_seed', 'custom_id', 'winner_code', 'default_period_count', 'start_datetime', 'match_slug', 'final_result_only']\n",
      "df2 columns are: ['match_id', 'current_score', 'display_score', 'period_1', 'period_2', 'period_3', 'period_4', 'period_5', 'period_1_tie_break', 'period_2_tie_break', 'period_3_tie_break', 'period_4_tie_break', 'period_5_tie_break', 'normal_time']\n",
      "df3 columns are: ['match_id', 'current_score', 'display_score', 'period_1', 'period_2', 'period_3', 'period_4', 'period_5', 'period_1_tie_break', 'period_2_tie_break', 'period_3_tie_break', 'period_4_tie_break', 'period_5_tie_break', 'normal_time']\n"
     ]
    }
   ],
   "source": [
    "# List of DataFrames\n",
    "list1 = [MatchEventInfo, MatchHomeScoreInfo,MatchAwayScoreInfo]\n",
    "\n",
    "\n",
    "for i, df in enumerate(list1, start=1):\n",
    "    print(f\"df{i} columns are:\", df.columns.tolist())\n",
    "\n"
   ]
  },
  {
   "cell_type": "code",
   "execution_count": 122,
   "id": "28bee8a7",
   "metadata": {},
   "outputs": [
    {
     "ename": "TypeError",
     "evalue": "Axes.pie() got an unexpected keyword argument 'edgecolor'",
     "output_type": "error",
     "traceback": [
      "\u001b[0;31m---------------------------------------------------------------------------\u001b[0m",
      "\u001b[0;31mTypeError\u001b[0m                                 Traceback (most recent call last)",
      "Cell \u001b[0;32mIn[122], line 19\u001b[0m\n\u001b[1;32m     17\u001b[0m \u001b[38;5;66;03m# Plot the proportions of countries\u001b[39;00m\n\u001b[1;32m     18\u001b[0m plt\u001b[38;5;241m.\u001b[39mfigure(figsize\u001b[38;5;241m=\u001b[39m(\u001b[38;5;241m14\u001b[39m, \u001b[38;5;241m7\u001b[39m))\n\u001b[0;32m---> 19\u001b[0m \u001b[43mcountry_counts\u001b[49m\u001b[38;5;241;43m.\u001b[39;49m\u001b[43mplot\u001b[49m\u001b[43m(\u001b[49m\u001b[43mkind\u001b[49m\u001b[38;5;241;43m=\u001b[39;49m\u001b[38;5;124;43m'\u001b[39;49m\u001b[38;5;124;43mpie\u001b[39;49m\u001b[38;5;124;43m'\u001b[39;49m\u001b[43m,\u001b[49m\u001b[43m  \u001b[49m\u001b[43medgecolor\u001b[49m\u001b[38;5;241;43m=\u001b[39;49m\u001b[38;5;124;43m'\u001b[39;49m\u001b[38;5;124;43mblack\u001b[39;49m\u001b[38;5;124;43m'\u001b[39;49m\u001b[43m)\u001b[49m\n\u001b[1;32m     21\u001b[0m plt\u001b[38;5;241m.\u001b[39mtitle(\u001b[38;5;124m'\u001b[39m\u001b[38;5;124mProportion of Countries Among the Top 100 Tennis Players\u001b[39m\u001b[38;5;124m'\u001b[39m)\n\u001b[1;32m     22\u001b[0m plt\u001b[38;5;241m.\u001b[39mxlabel(\u001b[38;5;124m'\u001b[39m\u001b[38;5;124mCountry\u001b[39m\u001b[38;5;124m'\u001b[39m)\n",
      "File \u001b[0;32m~/opt/anaconda3/envs/pyspark/lib/python3.10/site-packages/pandas/plotting/_core.py:1000\u001b[0m, in \u001b[0;36mPlotAccessor.__call__\u001b[0;34m(self, *args, **kwargs)\u001b[0m\n\u001b[1;32m    997\u001b[0m             label_name \u001b[38;5;241m=\u001b[39m label_kw \u001b[38;5;129;01mor\u001b[39;00m data\u001b[38;5;241m.\u001b[39mcolumns\n\u001b[1;32m    998\u001b[0m             data\u001b[38;5;241m.\u001b[39mcolumns \u001b[38;5;241m=\u001b[39m label_name\n\u001b[0;32m-> 1000\u001b[0m \u001b[38;5;28;01mreturn\u001b[39;00m \u001b[43mplot_backend\u001b[49m\u001b[38;5;241;43m.\u001b[39;49m\u001b[43mplot\u001b[49m\u001b[43m(\u001b[49m\u001b[43mdata\u001b[49m\u001b[43m,\u001b[49m\u001b[43m \u001b[49m\u001b[43mkind\u001b[49m\u001b[38;5;241;43m=\u001b[39;49m\u001b[43mkind\u001b[49m\u001b[43m,\u001b[49m\u001b[43m \u001b[49m\u001b[38;5;241;43m*\u001b[39;49m\u001b[38;5;241;43m*\u001b[39;49m\u001b[43mkwargs\u001b[49m\u001b[43m)\u001b[49m\n",
      "File \u001b[0;32m~/opt/anaconda3/envs/pyspark/lib/python3.10/site-packages/pandas/plotting/_matplotlib/__init__.py:71\u001b[0m, in \u001b[0;36mplot\u001b[0;34m(data, kind, **kwargs)\u001b[0m\n\u001b[1;32m     69\u001b[0m         kwargs[\u001b[38;5;124m\"\u001b[39m\u001b[38;5;124max\u001b[39m\u001b[38;5;124m\"\u001b[39m] \u001b[38;5;241m=\u001b[39m \u001b[38;5;28mgetattr\u001b[39m(ax, \u001b[38;5;124m\"\u001b[39m\u001b[38;5;124mleft_ax\u001b[39m\u001b[38;5;124m\"\u001b[39m, ax)\n\u001b[1;32m     70\u001b[0m plot_obj \u001b[38;5;241m=\u001b[39m PLOT_CLASSES[kind](data, \u001b[38;5;241m*\u001b[39m\u001b[38;5;241m*\u001b[39mkwargs)\n\u001b[0;32m---> 71\u001b[0m \u001b[43mplot_obj\u001b[49m\u001b[38;5;241;43m.\u001b[39;49m\u001b[43mgenerate\u001b[49m\u001b[43m(\u001b[49m\u001b[43m)\u001b[49m\n\u001b[1;32m     72\u001b[0m plot_obj\u001b[38;5;241m.\u001b[39mdraw()\n\u001b[1;32m     73\u001b[0m \u001b[38;5;28;01mreturn\u001b[39;00m plot_obj\u001b[38;5;241m.\u001b[39mresult\n",
      "File \u001b[0;32m~/opt/anaconda3/envs/pyspark/lib/python3.10/site-packages/pandas/plotting/_matplotlib/core.py:452\u001b[0m, in \u001b[0;36mMPLPlot.generate\u001b[0;34m(self)\u001b[0m\n\u001b[1;32m    450\u001b[0m \u001b[38;5;28mself\u001b[39m\u001b[38;5;241m.\u001b[39m_compute_plot_data()\n\u001b[1;32m    451\u001b[0m \u001b[38;5;28mself\u001b[39m\u001b[38;5;241m.\u001b[39m_setup_subplots()\n\u001b[0;32m--> 452\u001b[0m \u001b[38;5;28;43mself\u001b[39;49m\u001b[38;5;241;43m.\u001b[39;49m\u001b[43m_make_plot\u001b[49m\u001b[43m(\u001b[49m\u001b[43m)\u001b[49m\n\u001b[1;32m    453\u001b[0m \u001b[38;5;28mself\u001b[39m\u001b[38;5;241m.\u001b[39m_add_table()\n\u001b[1;32m    454\u001b[0m \u001b[38;5;28mself\u001b[39m\u001b[38;5;241m.\u001b[39m_make_legend()\n",
      "File \u001b[0;32m~/opt/anaconda3/envs/pyspark/lib/python3.10/site-packages/pandas/plotting/_matplotlib/core.py:1841\u001b[0m, in \u001b[0;36mPiePlot._make_plot\u001b[0;34m(self)\u001b[0m\n\u001b[1;32m   1839\u001b[0m \u001b[38;5;28;01melse\u001b[39;00m:\n\u001b[1;32m   1840\u001b[0m     blabels \u001b[38;5;241m=\u001b[39m \u001b[38;5;28;01mNone\u001b[39;00m\n\u001b[0;32m-> 1841\u001b[0m results \u001b[38;5;241m=\u001b[39m \u001b[43max\u001b[49m\u001b[38;5;241;43m.\u001b[39;49m\u001b[43mpie\u001b[49m\u001b[43m(\u001b[49m\u001b[43my\u001b[49m\u001b[43m,\u001b[49m\u001b[43m \u001b[49m\u001b[43mlabels\u001b[49m\u001b[38;5;241;43m=\u001b[39;49m\u001b[43mblabels\u001b[49m\u001b[43m,\u001b[49m\u001b[43m \u001b[49m\u001b[38;5;241;43m*\u001b[39;49m\u001b[38;5;241;43m*\u001b[39;49m\u001b[43mkwds\u001b[49m\u001b[43m)\u001b[49m\n\u001b[1;32m   1843\u001b[0m \u001b[38;5;28;01mif\u001b[39;00m kwds\u001b[38;5;241m.\u001b[39mget(\u001b[38;5;124m\"\u001b[39m\u001b[38;5;124mautopct\u001b[39m\u001b[38;5;124m\"\u001b[39m, \u001b[38;5;28;01mNone\u001b[39;00m) \u001b[38;5;129;01mis\u001b[39;00m \u001b[38;5;129;01mnot\u001b[39;00m \u001b[38;5;28;01mNone\u001b[39;00m:\n\u001b[1;32m   1844\u001b[0m     patches, texts, autotexts \u001b[38;5;241m=\u001b[39m results\n",
      "File \u001b[0;32m~/opt/anaconda3/envs/pyspark/lib/python3.10/site-packages/matplotlib/__init__.py:1465\u001b[0m, in \u001b[0;36m_preprocess_data.<locals>.inner\u001b[0;34m(ax, data, *args, **kwargs)\u001b[0m\n\u001b[1;32m   1462\u001b[0m \u001b[38;5;129m@functools\u001b[39m\u001b[38;5;241m.\u001b[39mwraps(func)\n\u001b[1;32m   1463\u001b[0m \u001b[38;5;28;01mdef\u001b[39;00m \u001b[38;5;21minner\u001b[39m(ax, \u001b[38;5;241m*\u001b[39margs, data\u001b[38;5;241m=\u001b[39m\u001b[38;5;28;01mNone\u001b[39;00m, \u001b[38;5;241m*\u001b[39m\u001b[38;5;241m*\u001b[39mkwargs):\n\u001b[1;32m   1464\u001b[0m     \u001b[38;5;28;01mif\u001b[39;00m data \u001b[38;5;129;01mis\u001b[39;00m \u001b[38;5;28;01mNone\u001b[39;00m:\n\u001b[0;32m-> 1465\u001b[0m         \u001b[38;5;28;01mreturn\u001b[39;00m \u001b[43mfunc\u001b[49m\u001b[43m(\u001b[49m\u001b[43max\u001b[49m\u001b[43m,\u001b[49m\u001b[43m \u001b[49m\u001b[38;5;241;43m*\u001b[39;49m\u001b[38;5;28;43mmap\u001b[39;49m\u001b[43m(\u001b[49m\u001b[43msanitize_sequence\u001b[49m\u001b[43m,\u001b[49m\u001b[43m \u001b[49m\u001b[43margs\u001b[49m\u001b[43m)\u001b[49m\u001b[43m,\u001b[49m\u001b[43m \u001b[49m\u001b[38;5;241;43m*\u001b[39;49m\u001b[38;5;241;43m*\u001b[39;49m\u001b[43mkwargs\u001b[49m\u001b[43m)\u001b[49m\n\u001b[1;32m   1467\u001b[0m     bound \u001b[38;5;241m=\u001b[39m new_sig\u001b[38;5;241m.\u001b[39mbind(ax, \u001b[38;5;241m*\u001b[39margs, \u001b[38;5;241m*\u001b[39m\u001b[38;5;241m*\u001b[39mkwargs)\n\u001b[1;32m   1468\u001b[0m     auto_label \u001b[38;5;241m=\u001b[39m (bound\u001b[38;5;241m.\u001b[39marguments\u001b[38;5;241m.\u001b[39mget(label_namer)\n\u001b[1;32m   1469\u001b[0m                   \u001b[38;5;129;01mor\u001b[39;00m bound\u001b[38;5;241m.\u001b[39mkwargs\u001b[38;5;241m.\u001b[39mget(label_namer))\n",
      "\u001b[0;31mTypeError\u001b[0m: Axes.pie() got an unexpected keyword argument 'edgecolor'"
     ]
    },
    {
     "data": {
      "image/png": "[encoded data removed]",
      "text/plain": [
       "<Figure size 1400x700 with 1 Axes>"
      ]
     },
     "metadata": {},
     "output_type": "display_data"
    }
   ],
   "source": [
    "the proportion of countries represented by the top 100 tennis players, we can follow these steps:\n",
    "\n"
   ]
  },
  {
   "cell_type": "code",
   "execution_count": 124,
   "id": "afefa9fe",
   "metadata": {},
   "outputs": [
    {
     "name": "stdout",
     "output_type": "stream",
     "text": [
      "The '       match_id  home_vote  away_vote\n",
      "0      12295137          8        188\n",
      "1      12303200         72         38\n",
      "2      12300657         36        132\n",
      "3      12295414        188         30\n",
      "4      12298342         84         48\n",
      "...         ...        ...        ...\n",
      "19672  12331852          6         36\n",
      "19673  12331162         32          6\n",
      "19674  12331727         82        824\n",
      "19675  12334898        104         22\n",
      "19676  12331539         32         20\n",
      "\n",
      "[19677 rows x 3 columns]' dataframe has 19677 rows and 0 null values:\n",
      "\n"
     ]
    },
    {
     "name": "stderr",
     "output_type": "stream",
     "text": [
      "/var/folders/4c/r3hx1x0d04g_jmhrd61fxggr0000gn/T/ipykernel_14685/486968194.py:9: UserWarning: Pandas doesn't allow columns to be created via a new attribute name - see https://pandas.pydata.org/pandas-docs/stable/indexing.html#attribute-access\n",
      "  MatchVotesInfo.name = MatchVotesInfo\n"
     ]
    }
   ],
   "source": [
    "def dataframe_details(df):\n",
    "    print(f\"The '{df.name}' dataframe has {len(df)} rows and {df.isnull().sum().sum()} null values:\")\n",
    "    for column in df.columns:\n",
    "        null_count = df[column].isnull().sum()\n",
    "        if null_count > 0:\n",
    "            print(f\"{null_count} null values in '{column}'\")\n",
    "    print()\n",
    "\n",
    "MatchVotesInfo.name = MatchVotesInfo\n",
    "dataframe_details(MatchVotesInfo)"
   ]
  },
  {
   "cell_type": "code",
   "execution_count": 125,
   "id": "8c8e4953",
   "metadata": {},
   "outputs": [],
   "source": [
    "import pandas as pd\n",
    "def dataframe_details(df):\n",
    "    print(f\"This dataframe has {len(df)} rows and {df.isnull().sum().sum()} null values:\")\n",
    "    for column in df.columns:\n",
    "        null_count = df[column].isnull().sum()\n",
    "        if null_count > 0:\n",
    "            print(f\"{null_count} null values in '{column}'\")\n",
    "    print()\n"
   ]
  },
  {
   "cell_type": "code",
   "execution_count": 126,
   "id": "4ea9ed1b",
   "metadata": {},
   "outputs": [
    {
     "name": "stdout",
     "output_type": "stream",
     "text": [
      "This dataframe has 19676 rows and 177623 null values:\n",
      "2086 null values in 'current_score'\n",
      "2086 null values in 'display_score'\n",
      "2068 null values in 'period_1'\n",
      "2302 null values in 'period_2'\n",
      "14835 null values in 'period_3'\n",
      "19576 null values in 'period_4'\n",
      "19636 null values in 'period_5'\n",
      "18253 null values in 'period_1_tie_break'\n",
      "18483 null values in 'period_2_tie_break'\n",
      "19295 null values in 'period_3_tie_break'\n",
      "19660 null values in 'period_4_tie_break'\n",
      "19667 null values in 'period_5_tie_break'\n",
      "19676 null values in 'normal_time'\n",
      "\n"
     ]
    }
   ],
   "source": [
    "dataframe_details(MatchAwayScoreInfo)"
   ]
  },
  {
   "cell_type": "code",
   "execution_count": 146,
   "id": "7718ad3e",
   "metadata": {},
   "outputs": [
    {
     "data": {
      "text/html": [
       "<div>\n",
       "<style scoped>\n",
       "    .dataframe tbody tr th:only-of-type {\n",
       "        vertical-align: middle;\n",
       "    }\n",
       "\n",
       "    .dataframe tbody tr th {\n",
       "        vertical-align: top;\n",
       "    }\n",
       "\n",
       "    .dataframe thead th {\n",
       "        text-align: right;\n",
       "    }\n",
       "</style>\n",
       "<table border=\"1\" class=\"dataframe\">\n",
       "  <thead>\n",
       "    <tr style=\"text-align: right;\">\n",
       "      <th></th>\n",
       "      <th>player_id</th>\n",
       "      <th>height</th>\n",
       "      <th>full_name</th>\n",
       "      <th>current_rank</th>\n",
       "    </tr>\n",
       "  </thead>\n",
       "  <tbody>\n",
       "    <tr>\n",
       "      <th>1</th>\n",
       "      <td>98607</td>\n",
       "      <td>1.85</td>\n",
       "      <td>Chang, Sophie</td>\n",
       "      <td>364.0</td>\n",
       "    </tr>\n",
       "    <tr>\n",
       "      <th>3</th>\n",
       "      <td>124930</td>\n",
       "      <td>1.85</td>\n",
       "      <td>Safiullin, Roman</td>\n",
       "      <td>39.0</td>\n",
       "    </tr>\n",
       "    <tr>\n",
       "      <th>5</th>\n",
       "      <td>207077</td>\n",
       "      <td>1.85</td>\n",
       "      <td>Nordquist, Arvid</td>\n",
       "      <td>1111.0</td>\n",
       "    </tr>\n",
       "    <tr>\n",
       "      <th>7</th>\n",
       "      <td>65656</td>\n",
       "      <td>1.70</td>\n",
       "      <td>Ferro, Fiona</td>\n",
       "      <td>149.0</td>\n",
       "    </tr>\n",
       "    <tr>\n",
       "      <th>8</th>\n",
       "      <td>245109</td>\n",
       "      <td>1.93</td>\n",
       "      <td>Hudd, Emile</td>\n",
       "      <td>747.0</td>\n",
       "    </tr>\n",
       "    <tr>\n",
       "      <th>...</th>\n",
       "      <td>...</td>\n",
       "      <td>...</td>\n",
       "      <td>...</td>\n",
       "      <td>...</td>\n",
       "    </tr>\n",
       "    <tr>\n",
       "      <th>8772</th>\n",
       "      <td>397014</td>\n",
       "      <td>1.80</td>\n",
       "      <td>Midon, Lautaro</td>\n",
       "      <td>423.0</td>\n",
       "    </tr>\n",
       "    <tr>\n",
       "      <th>10825</th>\n",
       "      <td>270424</td>\n",
       "      <td>1.78</td>\n",
       "      <td>Llanes, Francisco</td>\n",
       "      <td>1489.0</td>\n",
       "    </tr>\n",
       "    <tr>\n",
       "      <th>11015</th>\n",
       "      <td>302566</td>\n",
       "      <td>1.91</td>\n",
       "      <td>Catani, Leonardo</td>\n",
       "      <td>1449.0</td>\n",
       "    </tr>\n",
       "    <tr>\n",
       "      <th>11833</th>\n",
       "      <td>23664</td>\n",
       "      <td>1.78</td>\n",
       "      <td>Gaio, Federico</td>\n",
       "      <td>419.0</td>\n",
       "    </tr>\n",
       "    <tr>\n",
       "      <th>13269</th>\n",
       "      <td>291827</td>\n",
       "      <td>1.80</td>\n",
       "      <td>Wang, Xiaofei</td>\n",
       "      <td>791.0</td>\n",
       "    </tr>\n",
       "  </tbody>\n",
       "</table>\n",
       "<p>1195 rows × 4 columns</p>\n",
       "</div>"
      ],
      "text/plain": [
       "       player_id  height          full_name  current_rank\n",
       "1          98607    1.85      Chang, Sophie         364.0\n",
       "3         124930    1.85   Safiullin, Roman          39.0\n",
       "5         207077    1.85   Nordquist, Arvid        1111.0\n",
       "7          65656    1.70       Ferro, Fiona         149.0\n",
       "8         245109    1.93        Hudd, Emile         747.0\n",
       "...          ...     ...                ...           ...\n",
       "8772      397014    1.80     Midon, Lautaro         423.0\n",
       "10825     270424    1.78  Llanes, Francisco        1489.0\n",
       "11015     302566    1.91   Catani, Leonardo        1449.0\n",
       "11833      23664    1.78     Gaio, Federico         419.0\n",
       "13269     291827    1.80      Wang, Xiaofei         791.0\n",
       "\n",
       "[1195 rows x 4 columns]"
      ]
     },
     "execution_count": 146,
     "metadata": {},
     "output_type": "execute_result"
    }
   ],
   "source": [
    "\n",
    "allplayersInfo = pd.concat([MatchAwayTeamInfo[['player_id' ,'height', 'full_name' ,'current_rank' ]] ,MatchHomeTeamInfo[['player_id' ,'height', 'full_name' ,'current_rank' ]] ])\n",
    "allplayersInfo = allplayersInfo.drop_duplicates(subset=['full_name'])\n",
    "allplayersInfo = allplayersInfo.dropna()\n",
    "\n",
    "allplayersInfo"
   ]
  },
  {
   "cell_type": "code",
   "execution_count": 142,
   "id": "bec4d59a",
   "metadata": {},
   "outputs": [
    {
     "data": {
      "text/plain": [
       "Index(['player_id', 'weight', 'full_name', 'current_rank'], dtype='object')"
      ]
     },
     "execution_count": 142,
     "metadata": {},
     "output_type": "execute_result"
    }
   ],
   "source": [
    "allplayersInfo.columns"
   ]
  },
  {
   "cell_type": "code",
   "execution_count": 3,
   "id": "ebb06736",
   "metadata": {},
   "outputs": [
    {
     "ename": "NameError",
     "evalue": "name 'sns' is not defined",
     "output_type": "error",
     "traceback": [
      "\u001b[0;31m---------------------------------------------------------------------------\u001b[0m",
      "\u001b[0;31mNameError\u001b[0m                                 Traceback (most recent call last)",
      "Cell \u001b[0;32mIn[3], line 4\u001b[0m\n\u001b[1;32m      1\u001b[0m \u001b[38;5;28;01mimport\u001b[39;00m \u001b[38;5;21;01mmatplotlib\u001b[39;00m\u001b[38;5;21;01m.\u001b[39;00m\u001b[38;5;21;01mpyplot\u001b[39;00m \u001b[38;5;28;01mas\u001b[39;00m \u001b[38;5;21;01mplt\u001b[39;00m\n\u001b[1;32m      3\u001b[0m plt\u001b[38;5;241m.\u001b[39mfigure(figsize\u001b[38;5;241m=\u001b[39m(\u001b[38;5;241m10\u001b[39m, \u001b[38;5;241m6\u001b[39m))\n\u001b[0;32m----> 4\u001b[0m \u001b[43msns\u001b[49m\u001b[38;5;241m.\u001b[39mscatterplot(x\u001b[38;5;241m=\u001b[39m\u001b[38;5;124m'\u001b[39m\u001b[38;5;124mheight\u001b[39m\u001b[38;5;124m'\u001b[39m, y\u001b[38;5;241m=\u001b[39m\u001b[38;5;124m'\u001b[39m\u001b[38;5;124mcurrent_rank\u001b[39m\u001b[38;5;124m'\u001b[39m, data\u001b[38;5;241m=\u001b[39mallplayersInfo, s\u001b[38;5;241m=\u001b[39m\u001b[38;5;241m100\u001b[39m, alpha\u001b[38;5;241m=\u001b[39m\u001b[38;5;241m0.7\u001b[39m)\n\u001b[1;32m      5\u001b[0m plt\u001b[38;5;241m.\u001b[39mtitle(\u001b[38;5;124m'\u001b[39m\u001b[38;5;124mRelationship between Player Weight and Rank\u001b[39m\u001b[38;5;124m'\u001b[39m)\n\u001b[1;32m      6\u001b[0m plt\u001b[38;5;241m.\u001b[39mxlabel(\u001b[38;5;124m'\u001b[39m\u001b[38;5;124mPlayer height (meter)\u001b[39m\u001b[38;5;124m'\u001b[39m)\n",
      "\u001b[0;31mNameError\u001b[0m: name 'sns' is not defined"
     ]
    },
    {
     "data": {
      "text/plain": [
       "<Figure size 1000x600 with 0 Axes>"
      ]
     },
     "metadata": {},
     "output_type": "display_data"
    }
   ],
   "source": [
    "import matplotlib.pyplot as plt\n",
    "\n",
    "plt.figure(figsize=(10, 6))\n",
    "sns.scatterplot(x='height', y='current_rank', data=allplayersInfo, s=100, alpha=0.7)\n",
    "plt.title('Relationship between Player Weight and Rank')\n",
    "plt.xlabel('Player height (meter)')\n",
    "plt.ylabel('Current Rank')\n",
    "plt.grid(True)\n",
    "plt.show()"
   ]
  },
  {
   "cell_type": "code",
   "execution_count": null,
   "id": "b9896a5f",
   "metadata": {},
   "outputs": [],
   "source": []
  }
 ],
 "metadata": {
  "kernelspec": {
   "display_name": "pyspark",
   "language": "python",
   "name": "python3"
  },
  "language_info": {
   "codemirror_mode": {
    "name": "ipython",
    "version": 3
   },
   "file_extension": ".py",
   "mimetype": "text/x-python",
   "name": "python",
   "nbconvert_exporter": "python",
   "pygments_lexer": "ipython3",
   "version": "3.10.9"
  }
 },
 "nbformat": 4,
 "nbformat_minor": 5
}
