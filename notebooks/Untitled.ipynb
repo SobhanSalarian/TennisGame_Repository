{
 "cells": [
  {
   "cell_type": "code",
   "execution_count": 2,
   "id": "5a78acc3",
   "metadata": {},
   "outputs": [],
   "source": [
    "import pandas as pd\n",
    "import numpy as np\n",
    "import matplotlib.pyplot as plt\n",
    "import seaborn as sns\n",
    "import plotly.express as px\n"
   ]
  },
  {
   "cell_type": "code",
   "execution_count": 3,
   "id": "db14baad",
   "metadata": {},
   "outputs": [],
   "source": [
    "GameInfo = pd.read_csv(\"/Users/sobhansalarian/Desktop/DataAnalysis/TennisGame/TennisGame_Repository/references/CsvTables/GameInfo.csv\").drop(columns=[\"Unnamed: 0\"])\n",
    "MatchAwayScoreInfo = pd.read_csv(\"/Users/sobhansalarian/Desktop/DataAnalysis/TennisGame/TennisGame_Repository/references/CsvTables/MatchAwayScoreInfo.csv\").drop(columns=[\"Unnamed: 0\"])\n",
    "MatchAwayTeamInfo = pd.read_csv(\"/Users/sobhansalarian/Desktop/DataAnalysis/TennisGame/TennisGame_Repository/references/CsvTables/MatchAwayTeamInfo.csv\").drop(columns=[\"Unnamed: 0\"])\n",
    "MatchEventInfo = pd.read_csv(\"/Users/sobhansalarian/Desktop/DataAnalysis/TennisGame/TennisGame_Repository/references/CsvTables/MatchEventInfo.csv\").drop(columns=[\"Unnamed: 0\"])\n",
    "MatchHomeScoreInfo = pd.read_csv(\"/Users/sobhansalarian/Desktop/DataAnalysis/TennisGame/TennisGame_Repository/references/CsvTables/MatchHomeScoreInfo.csv\").drop(columns=[\"Unnamed: 0\"])\n",
    "MatchHomeTeamInfo = pd.read_csv(\"/Users/sobhansalarian/Desktop/DataAnalysis/TennisGame/TennisGame_Repository/references/CsvTables/MatchHomeTeamInfo.csv\").drop(columns=[\"Unnamed: 0\"])\n",
    "MatchRoundInfo = pd.read_csv(\"/Users/sobhansalarian/Desktop/DataAnalysis/TennisGame/TennisGame_Repository/references/CsvTables/MatchRoundInfo.csv\").drop(columns=[\"Unnamed: 0\"])\n",
    "MatchTimeInfo = pd.read_csv(\"/Users/sobhansalarian/Desktop/DataAnalysis/TennisGame/TennisGame_Repository/references/CsvTables/MatchTimeInfo.csv\").drop(columns=[\"Unnamed: 0\"])\n",
    "MatchSeasonInfo = pd.read_csv(\"/Users/sobhansalarian/Desktop/DataAnalysis/TennisGame/TennisGame_Repository/references/CsvTables/MatchSeasonInfo.csv\").drop(columns=[\"Unnamed: 0\"])\n",
    "MatchTournamentInfo = pd.read_csv(\"/Users/sobhansalarian/Desktop/DataAnalysis/TennisGame/TennisGame_Repository/references/CsvTables/MatchTournamentInfo.csv\").drop(columns=[\"Unnamed: 0\"])\n",
    "MatchVenueInfo = pd.read_csv(\"/Users/sobhansalarian/Desktop/DataAnalysis/TennisGame/TennisGame_Repository/references/CsvTables/MatchVenueInfo.csv\").drop(columns=[\"Unnamed: 0\"])\n",
    "MatchVotesInfo = pd.read_csv(\"/Users/sobhansalarian/Desktop/DataAnalysis/TennisGame/TennisGame_Repository/references/CsvTables/MatchVotesInfo.csv\").drop(columns=[\"Unnamed: 0\"])\n",
    "OddsInfo = pd.read_csv(\"/Users/sobhansalarian/Desktop/DataAnalysis/TennisGame/TennisGame_Repository/references/CsvTables/OddsInfo.csv\").drop(columns=[\"Unnamed: 0\"])\n",
    "PeriodInfo = pd.read_csv(\"/Users/sobhansalarian/Desktop/DataAnalysis/TennisGame/TennisGame_Repository/references/CsvTables/PeriodInfo.csv\").drop(columns=[\"Unnamed: 0\"])\n",
    "PowerInfo = pd.read_csv(\"/Users/sobhansalarian/Desktop/DataAnalysis/TennisGame/TennisGame_Repository/references/CsvTables/PowerInfo.csv\").drop(columns=[\"Unnamed: 0\"])"
   ]
  },
  {
   "cell_type": "code",
   "execution_count": 85,
   "id": "9f6e49fa",
   "metadata": {},
   "outputs": [
    {
     "data": {
      "text/plain": [
       "array([370698,  98607, 371052, ...,  23664, 216040, 291827])"
      ]
     },
     "execution_count": 85,
     "metadata": {},
     "output_type": "execute_result"
    }
   ],
   "source": [
    "AllPlayers = pd.concat([MatchAwayTeamInfo['player_id'] , MatchHomeTeamInfo['player_id']])\n",
    "AllPlayers.unique()"
   ]
  },
  {
   "cell_type": "code",
   "execution_count": 86,
   "id": "eb601498",
   "metadata": {},
   "outputs": [
    {
     "data": {
      "text/plain": [
       "array([370698,  98607, 371052, ...,  23664, 216040, 291827])"
      ]
     },
     "execution_count": 86,
     "metadata": {},
     "output_type": "execute_result"
    }
   ],
   "source": [
    "player_info = pd.concat([MatchAwayTeamInfo[[\"player_id\", \"height\"]]\n",
    "                        , MatchHomeTeamInfo[[\"player_id\", \"height\"]]])\n",
    "playerId = player_info['player_id'].unique()\n",
    "playerId"
   ]
  },
  {
   "cell_type": "code",
   "execution_count": 36,
   "id": "e02d1d11",
   "metadata": {},
   "outputs": [],
   "source": [
    "dataWith_NoNA = player_info[~(player_info['height'].isna())]\n",
    "AvgValue= dataWith_NoNA['height'].sum()/dataWith_NoNA['height'].count()\n"
   ]
  },
  {
   "cell_type": "code",
   "execution_count": 51,
   "id": "7d38a676",
   "metadata": {},
   "outputs": [
    {
     "data": {
      "text/html": [
       "<div>\n",
       "<style scoped>\n",
       "    .dataframe tbody tr th:only-of-type {\n",
       "        vertical-align: middle;\n",
       "    }\n",
       "\n",
       "    .dataframe tbody tr th {\n",
       "        vertical-align: top;\n",
       "    }\n",
       "\n",
       "    .dataframe thead th {\n",
       "        text-align: right;\n",
       "    }\n",
       "</style>\n",
       "<table border=\"1\" class=\"dataframe\">\n",
       "  <thead>\n",
       "    <tr style=\"text-align: right;\">\n",
       "      <th></th>\n",
       "      <th>match_id</th>\n",
       "      <th>period_1</th>\n",
       "      <th>period_2</th>\n",
       "      <th>period_3</th>\n",
       "      <th>period_4</th>\n",
       "      <th>period_5</th>\n",
       "      <th>current_period_start_timestamp</th>\n",
       "    </tr>\n",
       "  </thead>\n",
       "  <tbody>\n",
       "    <tr>\n",
       "      <th>0</th>\n",
       "      <td>12303632</td>\n",
       "      <td>1939.0</td>\n",
       "      <td>2650.0</td>\n",
       "      <td>2940.0</td>\n",
       "      <td>NaN</td>\n",
       "      <td>NaN</td>\n",
       "      <td>1.714822e+09</td>\n",
       "    </tr>\n",
       "    <tr>\n",
       "      <th>1</th>\n",
       "      <td>12276833</td>\n",
       "      <td>1813.0</td>\n",
       "      <td>1793.0</td>\n",
       "      <td>3258.0</td>\n",
       "      <td>NaN</td>\n",
       "      <td>NaN</td>\n",
       "      <td>1.714737e+09</td>\n",
       "    </tr>\n",
       "    <tr>\n",
       "      <th>2</th>\n",
       "      <td>12304192</td>\n",
       "      <td>1745.0</td>\n",
       "      <td>3799.0</td>\n",
       "      <td>NaN</td>\n",
       "      <td>NaN</td>\n",
       "      <td>NaN</td>\n",
       "      <td>1.714822e+09</td>\n",
       "    </tr>\n",
       "    <tr>\n",
       "      <th>3</th>\n",
       "      <td>12299621</td>\n",
       "      <td>2798.0</td>\n",
       "      <td>2584.0</td>\n",
       "      <td>2527.0</td>\n",
       "      <td>NaN</td>\n",
       "      <td>NaN</td>\n",
       "      <td>1.714718e+09</td>\n",
       "    </tr>\n",
       "    <tr>\n",
       "      <th>4</th>\n",
       "      <td>12297829</td>\n",
       "      <td>2804.0</td>\n",
       "      <td>4165.0</td>\n",
       "      <td>3689.0</td>\n",
       "      <td>NaN</td>\n",
       "      <td>NaN</td>\n",
       "      <td>1.714746e+09</td>\n",
       "    </tr>\n",
       "  </tbody>\n",
       "</table>\n",
       "</div>"
      ],
      "text/plain": [
       "   match_id  period_1  period_2  period_3  period_4  period_5  \\\n",
       "0  12303632    1939.0    2650.0    2940.0       NaN       NaN   \n",
       "1  12276833    1813.0    1793.0    3258.0       NaN       NaN   \n",
       "2  12304192    1745.0    3799.0       NaN       NaN       NaN   \n",
       "3  12299621    2798.0    2584.0    2527.0       NaN       NaN   \n",
       "4  12297829    2804.0    4165.0    3689.0       NaN       NaN   \n",
       "\n",
       "   current_period_start_timestamp  \n",
       "0                    1.714822e+09  \n",
       "1                    1.714737e+09  \n",
       "2                    1.714822e+09  \n",
       "3                    1.714718e+09  \n",
       "4                    1.714746e+09  "
      ]
     },
     "execution_count": 51,
     "metadata": {},
     "output_type": "execute_result"
    }
   ],
   "source": [
    "MatchTimeInfo.head()"
   ]
  },
  {
   "cell_type": "code",
   "execution_count": 66,
   "id": "2808c858",
   "metadata": {},
   "outputs": [
    {
     "data": {
      "text/html": [
       "<div>\n",
       "<style scoped>\n",
       "    .dataframe tbody tr th:only-of-type {\n",
       "        vertical-align: middle;\n",
       "    }\n",
       "\n",
       "    .dataframe tbody tr th {\n",
       "        vertical-align: top;\n",
       "    }\n",
       "\n",
       "    .dataframe thead th {\n",
       "        text-align: right;\n",
       "    }\n",
       "</style>\n",
       "<table border=\"1\" class=\"dataframe\">\n",
       "  <thead>\n",
       "    <tr style=\"text-align: right;\">\n",
       "      <th></th>\n",
       "      <th>match_id</th>\n",
       "      <th>period_1</th>\n",
       "      <th>period_2</th>\n",
       "      <th>period_3</th>\n",
       "      <th>period_4</th>\n",
       "      <th>period_5</th>\n",
       "      <th>current_period_start_timestamp</th>\n",
       "    </tr>\n",
       "  </thead>\n",
       "  <tbody>\n",
       "    <tr>\n",
       "      <th>0</th>\n",
       "      <td>12303632</td>\n",
       "      <td>1939.0</td>\n",
       "      <td>2650.0</td>\n",
       "      <td>2940.0</td>\n",
       "      <td>0.0</td>\n",
       "      <td>0.0</td>\n",
       "      <td>1.714822e+09</td>\n",
       "    </tr>\n",
       "    <tr>\n",
       "      <th>1</th>\n",
       "      <td>12276833</td>\n",
       "      <td>1813.0</td>\n",
       "      <td>1793.0</td>\n",
       "      <td>3258.0</td>\n",
       "      <td>0.0</td>\n",
       "      <td>0.0</td>\n",
       "      <td>1.714737e+09</td>\n",
       "    </tr>\n",
       "    <tr>\n",
       "      <th>2</th>\n",
       "      <td>12304192</td>\n",
       "      <td>1745.0</td>\n",
       "      <td>3799.0</td>\n",
       "      <td>0.0</td>\n",
       "      <td>0.0</td>\n",
       "      <td>0.0</td>\n",
       "      <td>1.714822e+09</td>\n",
       "    </tr>\n",
       "    <tr>\n",
       "      <th>3</th>\n",
       "      <td>12299621</td>\n",
       "      <td>2798.0</td>\n",
       "      <td>2584.0</td>\n",
       "      <td>2527.0</td>\n",
       "      <td>0.0</td>\n",
       "      <td>0.0</td>\n",
       "      <td>1.714718e+09</td>\n",
       "    </tr>\n",
       "    <tr>\n",
       "      <th>4</th>\n",
       "      <td>12297829</td>\n",
       "      <td>2804.0</td>\n",
       "      <td>4165.0</td>\n",
       "      <td>3689.0</td>\n",
       "      <td>0.0</td>\n",
       "      <td>0.0</td>\n",
       "      <td>1.714746e+09</td>\n",
       "    </tr>\n",
       "    <tr>\n",
       "      <th>...</th>\n",
       "      <td>...</td>\n",
       "      <td>...</td>\n",
       "      <td>...</td>\n",
       "      <td>...</td>\n",
       "      <td>...</td>\n",
       "      <td>...</td>\n",
       "      <td>...</td>\n",
       "    </tr>\n",
       "    <tr>\n",
       "      <th>19671</th>\n",
       "      <td>12317323</td>\n",
       "      <td>2377.0</td>\n",
       "      <td>2099.0</td>\n",
       "      <td>2623.0</td>\n",
       "      <td>0.0</td>\n",
       "      <td>0.0</td>\n",
       "      <td>1.715767e+09</td>\n",
       "    </tr>\n",
       "    <tr>\n",
       "      <th>19672</th>\n",
       "      <td>12334523</td>\n",
       "      <td>2693.0</td>\n",
       "      <td>4643.0</td>\n",
       "      <td>0.0</td>\n",
       "      <td>0.0</td>\n",
       "      <td>0.0</td>\n",
       "      <td>1.715781e+09</td>\n",
       "    </tr>\n",
       "    <tr>\n",
       "      <th>19673</th>\n",
       "      <td>12327448</td>\n",
       "      <td>1845.0</td>\n",
       "      <td>2002.0</td>\n",
       "      <td>0.0</td>\n",
       "      <td>0.0</td>\n",
       "      <td>0.0</td>\n",
       "      <td>1.715767e+09</td>\n",
       "    </tr>\n",
       "    <tr>\n",
       "      <th>19674</th>\n",
       "      <td>12335029</td>\n",
       "      <td>1968.0</td>\n",
       "      <td>2331.0</td>\n",
       "      <td>0.0</td>\n",
       "      <td>0.0</td>\n",
       "      <td>0.0</td>\n",
       "      <td>1.715710e+09</td>\n",
       "    </tr>\n",
       "    <tr>\n",
       "      <th>19675</th>\n",
       "      <td>12317333</td>\n",
       "      <td>1253.0</td>\n",
       "      <td>2763.0</td>\n",
       "      <td>0.0</td>\n",
       "      <td>0.0</td>\n",
       "      <td>0.0</td>\n",
       "      <td>1.715750e+09</td>\n",
       "    </tr>\n",
       "  </tbody>\n",
       "</table>\n",
       "<p>19676 rows × 7 columns</p>\n",
       "</div>"
      ],
      "text/plain": [
       "       match_id  period_1  period_2  period_3  period_4  period_5  \\\n",
       "0      12303632    1939.0    2650.0    2940.0       0.0       0.0   \n",
       "1      12276833    1813.0    1793.0    3258.0       0.0       0.0   \n",
       "2      12304192    1745.0    3799.0       0.0       0.0       0.0   \n",
       "3      12299621    2798.0    2584.0    2527.0       0.0       0.0   \n",
       "4      12297829    2804.0    4165.0    3689.0       0.0       0.0   \n",
       "...         ...       ...       ...       ...       ...       ...   \n",
       "19671  12317323    2377.0    2099.0    2623.0       0.0       0.0   \n",
       "19672  12334523    2693.0    4643.0       0.0       0.0       0.0   \n",
       "19673  12327448    1845.0    2002.0       0.0       0.0       0.0   \n",
       "19674  12335029    1968.0    2331.0       0.0       0.0       0.0   \n",
       "19675  12317333    1253.0    2763.0       0.0       0.0       0.0   \n",
       "\n",
       "       current_period_start_timestamp  \n",
       "0                        1.714822e+09  \n",
       "1                        1.714737e+09  \n",
       "2                        1.714822e+09  \n",
       "3                        1.714718e+09  \n",
       "4                        1.714746e+09  \n",
       "...                               ...  \n",
       "19671                    1.715767e+09  \n",
       "19672                    1.715781e+09  \n",
       "19673                    1.715767e+09  \n",
       "19674                    1.715710e+09  \n",
       "19675                    1.715750e+09  \n",
       "\n",
       "[19676 rows x 7 columns]"
      ]
     },
     "execution_count": 66,
     "metadata": {},
     "output_type": "execute_result"
    }
   ],
   "source": [
    "MatchTimeInfo.fillna(0)"
   ]
  },
  {
   "cell_type": "code",
   "execution_count": 78,
   "id": "2ef794e2",
   "metadata": {},
   "outputs": [
    {
     "name": "stdout",
     "output_type": "stream",
     "text": [
      "the average of the game times is 5046.799806871315 seconds of about 84.11333011452191 hours \n"
     ]
    }
   ],
   "source": [
    "MatchTimeInfo = MatchTimeInfo.fillna(0)\n",
    "MatchTimeInfo['SumOfTimes'] = MatchTimeInfo[['period_1','period_2','period_3', 'period_4','period_5']].sum(axis=1)\n",
    "avgTime = MatchTimeInfo['SumOfTimes'].mean()\n",
    "print(f\"the average of the game times is {avgTime} seconds of about {avgTime/60} hours \")\n"
   ]
  },
  {
   "cell_type": "code",
   "execution_count": 74,
   "id": "247686b8",
   "metadata": {},
   "outputs": [
    {
     "name": "stdout",
     "output_type": "stream",
     "text": [
      "<class 'pandas.core.frame.DataFrame'>\n",
      "RangeIndex: 19676 entries, 0 to 19675\n",
      "Data columns (total 8 columns):\n",
      " #   Column                          Non-Null Count  Dtype  \n",
      "---  ------                          --------------  -----  \n",
      " 0   match_id                        19676 non-null  int64  \n",
      " 1   period_1                        19676 non-null  float64\n",
      " 2   period_2                        19676 non-null  float64\n",
      " 3   period_3                        19676 non-null  float64\n",
      " 4   period_4                        19676 non-null  float64\n",
      " 5   period_5                        19676 non-null  float64\n",
      " 6   current_period_start_timestamp  19676 non-null  float64\n",
      " 7   SumOfTimes                      19676 non-null  float64\n",
      "dtypes: float64(7), int64(1)\n",
      "memory usage: 1.2 MB\n"
     ]
    }
   ],
   "source": [
    "MatchTimeInfo.info()"
   ]
  },
  {
   "cell_type": "code",
   "execution_count": 94,
   "id": "89a36488",
   "metadata": {},
   "outputs": [
    {
     "data": {
      "text/html": [
       "<div>\n",
       "<style scoped>\n",
       "    .dataframe tbody tr th:only-of-type {\n",
       "        vertical-align: middle;\n",
       "    }\n",
       "\n",
       "    .dataframe tbody tr th {\n",
       "        vertical-align: top;\n",
       "    }\n",
       "\n",
       "    .dataframe thead th {\n",
       "        text-align: right;\n",
       "    }\n",
       "</style>\n",
       "<table border=\"1\" class=\"dataframe\">\n",
       "  <thead>\n",
       "    <tr style=\"text-align: right;\">\n",
       "      <th></th>\n",
       "      <th>full_name</th>\n",
       "      <th>current_rank</th>\n",
       "    </tr>\n",
       "  </thead>\n",
       "  <tbody>\n",
       "    <tr>\n",
       "      <th>7393</th>\n",
       "      <td>Amoros Ramos, Pol</td>\n",
       "      <td>1858.0</td>\n",
       "    </tr>\n",
       "    <tr>\n",
       "      <th>1852</th>\n",
       "      <td>Rocens, Martins</td>\n",
       "      <td>1858.0</td>\n",
       "    </tr>\n",
       "    <tr>\n",
       "      <th>758</th>\n",
       "      <td>Stenberg, Jonathan</td>\n",
       "      <td>1800.0</td>\n",
       "    </tr>\n",
       "    <tr>\n",
       "      <th>1547</th>\n",
       "      <td>Hsu, Jeffrey Chuan En</td>\n",
       "      <td>1717.0</td>\n",
       "    </tr>\n",
       "    <tr>\n",
       "      <th>515</th>\n",
       "      <td>Zhzhenov, Konstantin</td>\n",
       "      <td>1635.0</td>\n",
       "    </tr>\n",
       "    <tr>\n",
       "      <th>1655</th>\n",
       "      <td>Marques, Diogo</td>\n",
       "      <td>1635.0</td>\n",
       "    </tr>\n",
       "    <tr>\n",
       "      <th>2125</th>\n",
       "      <td>Bathrinath, Lohithaksha</td>\n",
       "      <td>1611.0</td>\n",
       "    </tr>\n",
       "    <tr>\n",
       "      <th>1831</th>\n",
       "      <td>De Vincentis, Matteo</td>\n",
       "      <td>1578.0</td>\n",
       "    </tr>\n",
       "    <tr>\n",
       "      <th>2954</th>\n",
       "      <td>Vatteroni, Lorenzo</td>\n",
       "      <td>1578.0</td>\n",
       "    </tr>\n",
       "    <tr>\n",
       "      <th>2238</th>\n",
       "      <td>Stoica, Vlad</td>\n",
       "      <td>1525.0</td>\n",
       "    </tr>\n",
       "    <tr>\n",
       "      <th>1805</th>\n",
       "      <td>D'Agostino, Stefano</td>\n",
       "      <td>1500.0</td>\n",
       "    </tr>\n",
       "    <tr>\n",
       "      <th>503</th>\n",
       "      <td>Chekhov, Anton</td>\n",
       "      <td>1500.0</td>\n",
       "    </tr>\n",
       "    <tr>\n",
       "      <th>3619</th>\n",
       "      <td>Van Assendelft, Jip</td>\n",
       "      <td>1500.0</td>\n",
       "    </tr>\n",
       "    <tr>\n",
       "      <th>1423</th>\n",
       "      <td>Tailleu, Pierre Antoine</td>\n",
       "      <td>1500.0</td>\n",
       "    </tr>\n",
       "    <tr>\n",
       "      <th>1574</th>\n",
       "      <td>Genov, Anthony</td>\n",
       "      <td>1499.0</td>\n",
       "    </tr>\n",
       "    <tr>\n",
       "      <th>8618</th>\n",
       "      <td>Pena, Enrique</td>\n",
       "      <td>1499.0</td>\n",
       "    </tr>\n",
       "    <tr>\n",
       "      <th>1364</th>\n",
       "      <td>Nesterov, Alexey</td>\n",
       "      <td>1499.0</td>\n",
       "    </tr>\n",
       "    <tr>\n",
       "      <th>6799</th>\n",
       "      <td>Casanova, Andrin</td>\n",
       "      <td>1499.0</td>\n",
       "    </tr>\n",
       "    <tr>\n",
       "      <th>3139</th>\n",
       "      <td>Goldhoff, George</td>\n",
       "      <td>1498.0</td>\n",
       "    </tr>\n",
       "    <tr>\n",
       "      <th>4693</th>\n",
       "      <td>Makk, Peter</td>\n",
       "      <td>1498.0</td>\n",
       "    </tr>\n",
       "  </tbody>\n",
       "</table>\n",
       "</div>"
      ],
      "text/plain": [
       "                    full_name  current_rank\n",
       "7393        Amoros Ramos, Pol        1858.0\n",
       "1852          Rocens, Martins        1858.0\n",
       "758        Stenberg, Jonathan        1800.0\n",
       "1547    Hsu, Jeffrey Chuan En        1717.0\n",
       "515      Zhzhenov, Konstantin        1635.0\n",
       "1655           Marques, Diogo        1635.0\n",
       "2125  Bathrinath, Lohithaksha        1611.0\n",
       "1831     De Vincentis, Matteo        1578.0\n",
       "2954       Vatteroni, Lorenzo        1578.0\n",
       "2238             Stoica, Vlad        1525.0\n",
       "1805      D'Agostino, Stefano        1500.0\n",
       "503            Chekhov, Anton        1500.0\n",
       "3619      Van Assendelft, Jip        1500.0\n",
       "1423  Tailleu, Pierre Antoine        1500.0\n",
       "1574           Genov, Anthony        1499.0\n",
       "8618            Pena, Enrique        1499.0\n",
       "1364         Nesterov, Alexey        1499.0\n",
       "6799         Casanova, Andrin        1499.0\n",
       "3139         Goldhoff, George        1498.0\n",
       "4693              Makk, Peter        1498.0"
      ]
     },
     "execution_count": 94,
     "metadata": {},
     "output_type": "execute_result"
    }
   ],
   "source": [
    "#which player has the highest number of wins \n",
    "\n",
    "\n",
    "\n",
    "players_with_ranks = pd.concat([MatchHomeTeamInfo[['full_name' , 'current_rank']] , MatchAwayTeamInfo[['full_name' , 'current_rank']]])\n",
    "players_with_ranks = players_with_ranks.drop_duplicates(subset=['full_name'])\n",
    "players_with_ranks.sort_values('current_rank' ,ascending= False).head(20)\n",
    "\n"
   ]
  },
  {
   "cell_type": "code",
   "execution_count": 95,
   "id": "7812fd9a",
   "metadata": {},
   "outputs": [
    {
     "name": "stdout",
     "output_type": "stream",
     "text": [
      "The player who won the most tournaments is: Kuramochi M.\n"
     ]
    }
   ],
   "source": [
    "merged_home = pd.merge(MatchEventInfo, MatchHomeTeamInfo, on='match_id', suffixes=['_home'])\n",
    "merged_away = pd.merge(MatchEventInfo, MatchAwayTeamInfo, on='match_id', suffixes=['_away'])\n",
    "\n",
    "home_wins = merged_home[merged_home['winner_code'] == 1][['match_id','player_id', 'name']].copy()\n",
    "away_wins = merged_away[merged_away['winner_code'] == 2][['match_id','player_id', 'name']].copy()\n",
    "all_wins = pd.concat([home_wins, away_wins])\n",
    "tournament_wins = pd.merge (all_wins, MatchTournamentInfo, on='match_id', suffixes=['_tournament'])\n",
    "\n",
    "tournament_count = tournament_wins['tournament_id'].value_counts().reset_index\n",
    "tournament_count = ['player_id','wins']\n",
    "\n",
    "player_tournament_info = tournament_wins[['player_id', 'name', 'tournament_id']].drop_duplicates()\n",
    "player_tournament_count = player_tournament_info.groupby('player_id').agg(tournament_sum = ('tournament_id','count')).sort_values('tournament_sum', ascending=False)\n",
    "top_player_id = player_tournament_count.idxmax().values[0]\n",
    "top_player_name = player_tournament_info[player_tournament_info['player_id'] == int(top_player_id)]['name'].unique()[0]\n",
    "print('The player who won the most tournaments is:', top_player_name)"
   ]
  },
  {
   "cell_type": "code",
   "execution_count": 102,
   "id": "836cb409",
   "metadata": {},
   "outputs": [
    {
     "data": {
      "text/html": [
       "<div>\n",
       "<style scoped>\n",
       "    .dataframe tbody tr th:only-of-type {\n",
       "        vertical-align: middle;\n",
       "    }\n",
       "\n",
       "    .dataframe tbody tr th {\n",
       "        vertical-align: top;\n",
       "    }\n",
       "\n",
       "    .dataframe thead th {\n",
       "        text-align: right;\n",
       "    }\n",
       "</style>\n",
       "<table border=\"1\" class=\"dataframe\">\n",
       "  <thead>\n",
       "    <tr style=\"text-align: right;\">\n",
       "      <th></th>\n",
       "      <th>match_id</th>\n",
       "      <th>player_id</th>\n",
       "      <th>name</th>\n",
       "    </tr>\n",
       "  </thead>\n",
       "  <tbody>\n",
       "    <tr>\n",
       "      <th>0</th>\n",
       "      <td>12276860</td>\n",
       "      <td>271389</td>\n",
       "      <td>Navone M.</td>\n",
       "    </tr>\n",
       "    <tr>\n",
       "      <th>1</th>\n",
       "      <td>12276860</td>\n",
       "      <td>271389</td>\n",
       "      <td>Navone M.</td>\n",
       "    </tr>\n",
       "    <tr>\n",
       "      <th>2</th>\n",
       "      <td>12276860</td>\n",
       "      <td>271389</td>\n",
       "      <td>Navone M.</td>\n",
       "    </tr>\n",
       "    <tr>\n",
       "      <th>3</th>\n",
       "      <td>12276860</td>\n",
       "      <td>271389</td>\n",
       "      <td>Navone M.</td>\n",
       "    </tr>\n",
       "    <tr>\n",
       "      <th>4</th>\n",
       "      <td>12296111</td>\n",
       "      <td>78431</td>\n",
       "      <td>Lodikova D.</td>\n",
       "    </tr>\n",
       "  </tbody>\n",
       "</table>\n",
       "</div>"
      ],
      "text/plain": [
       "   match_id  player_id         name\n",
       "0  12276860     271389    Navone M.\n",
       "1  12276860     271389    Navone M.\n",
       "2  12276860     271389    Navone M.\n",
       "3  12276860     271389    Navone M.\n",
       "4  12296111      78431  Lodikova D."
      ]
     },
     "execution_count": 102,
     "metadata": {},
     "output_type": "execute_result"
    }
   ],
   "source": [
    "pd.set_option(\"display.max_columns\", None)\n"
   ]
  },
  {
   "cell_type": "code",
   "execution_count": 127,
   "id": "91af4ba6",
   "metadata": {},
   "outputs": [
    {
     "name": "stdout",
     "output_type": "stream",
     "text": [
      "df1 columns are: ['match_id', 'first_to_serve', 'home_team_seed', 'away_team_seed', 'custom_id', 'winner_code', 'default_period_count', 'start_datetime', 'match_slug', 'final_result_only']\n",
      "df2 columns are: ['match_id', 'current_score', 'display_score', 'period_1', 'period_2', 'period_3', 'period_4', 'period_5', 'period_1_tie_break', 'period_2_tie_break', 'period_3_tie_break', 'period_4_tie_break', 'period_5_tie_break', 'normal_time']\n",
      "df3 columns are: ['match_id', 'current_score', 'display_score', 'period_1', 'period_2', 'period_3', 'period_4', 'period_5', 'period_1_tie_break', 'period_2_tie_break', 'period_3_tie_break', 'period_4_tie_break', 'period_5_tie_break', 'normal_time']\n"
     ]
    }
   ],
   "source": [
    "# List of DataFrames\n",
    "list1 = [MatchEventInfo, MatchHomeScoreInfo,MatchAwayScoreInfo]\n",
    "\n",
    "\n",
    "for i, df in enumerate(list1, start=1):\n",
    "    print(f\"df{i} columns are:\", df.columns.tolist())\n",
    "\n"
   ]
  },
  {
   "cell_type": "code",
   "execution_count": 124,
   "id": "afefa9fe",
   "metadata": {},
   "outputs": [
    {
     "name": "stdout",
     "output_type": "stream",
     "text": [
      "The '       match_id  home_vote  away_vote\n",
      "0      12295137          8        188\n",
      "1      12303200         72         38\n",
      "2      12300657         36        132\n",
      "3      12295414        188         30\n",
      "4      12298342         84         48\n",
      "...         ...        ...        ...\n",
      "19672  12331852          6         36\n",
      "19673  12331162         32          6\n",
      "19674  12331727         82        824\n",
      "19675  12334898        104         22\n",
      "19676  12331539         32         20\n",
      "\n",
      "[19677 rows x 3 columns]' dataframe has 19677 rows and 0 null values:\n",
      "\n"
     ]
    },
    {
     "name": "stderr",
     "output_type": "stream",
     "text": [
      "/var/folders/4c/r3hx1x0d04g_jmhrd61fxggr0000gn/T/ipykernel_14685/486968194.py:9: UserWarning: Pandas doesn't allow columns to be created via a new attribute name - see https://pandas.pydata.org/pandas-docs/stable/indexing.html#attribute-access\n",
      "  MatchVotesInfo.name = MatchVotesInfo\n"
     ]
    }
   ],
   "source": [
    "def dataframe_details(df):\n",
    "    print(f\"The '{df.name}' dataframe has {len(df)} rows and {df.isnull().sum().sum()} null values:\")\n",
    "    for column in df.columns:\n",
    "        null_count = df[column].isnull().sum()\n",
    "        if null_count > 0:\n",
    "            print(f\"{null_count} null values in '{column}'\")\n",
    "    print()\n",
    "\n",
    "MatchVotesInfo.name = MatchVotesInfo\n",
    "dataframe_details(MatchVotesInfo)"
   ]
  },
  {
   "cell_type": "code",
   "execution_count": 125,
   "id": "8c8e4953",
   "metadata": {},
   "outputs": [],
   "source": [
    "import pandas as pd\n",
    "def dataframe_details(df):\n",
    "    print(f\"This dataframe has {len(df)} rows and {df.isnull().sum().sum()} null values:\")\n",
    "    for column in df.columns:\n",
    "        null_count = df[column].isnull().sum()\n",
    "        if null_count > 0:\n",
    "            print(f\"{null_count} null values in '{column}'\")\n",
    "    print()\n"
   ]
  },
  {
   "cell_type": "code",
   "execution_count": 126,
   "id": "4ea9ed1b",
   "metadata": {},
   "outputs": [
    {
     "name": "stdout",
     "output_type": "stream",
     "text": [
      "This dataframe has 19676 rows and 177623 null values:\n",
      "2086 null values in 'current_score'\n",
      "2086 null values in 'display_score'\n",
      "2068 null values in 'period_1'\n",
      "2302 null values in 'period_2'\n",
      "14835 null values in 'period_3'\n",
      "19576 null values in 'period_4'\n",
      "19636 null values in 'period_5'\n",
      "18253 null values in 'period_1_tie_break'\n",
      "18483 null values in 'period_2_tie_break'\n",
      "19295 null values in 'period_3_tie_break'\n",
      "19660 null values in 'period_4_tie_break'\n",
      "19667 null values in 'period_5_tie_break'\n",
      "19676 null values in 'normal_time'\n",
      "\n"
     ]
    }
   ],
   "source": [
    "dataframe_details(MatchAwayScoreInfo)"
   ]
  },
  {
   "cell_type": "code",
   "execution_count": 146,
   "id": "7718ad3e",
   "metadata": {},
   "outputs": [
    {
     "data": {
      "text/html": [
       "<div>\n",
       "<style scoped>\n",
       "    .dataframe tbody tr th:only-of-type {\n",
       "        vertical-align: middle;\n",
       "    }\n",
       "\n",
       "    .dataframe tbody tr th {\n",
       "        vertical-align: top;\n",
       "    }\n",
       "\n",
       "    .dataframe thead th {\n",
       "        text-align: right;\n",
       "    }\n",
       "</style>\n",
       "<table border=\"1\" class=\"dataframe\">\n",
       "  <thead>\n",
       "    <tr style=\"text-align: right;\">\n",
       "      <th></th>\n",
       "      <th>player_id</th>\n",
       "      <th>height</th>\n",
       "      <th>full_name</th>\n",
       "      <th>current_rank</th>\n",
       "    </tr>\n",
       "  </thead>\n",
       "  <tbody>\n",
       "    <tr>\n",
       "      <th>1</th>\n",
       "      <td>98607</td>\n",
       "      <td>1.85</td>\n",
       "      <td>Chang, Sophie</td>\n",
       "      <td>364.0</td>\n",
       "    </tr>\n",
       "    <tr>\n",
       "      <th>3</th>\n",
       "      <td>124930</td>\n",
       "      <td>1.85</td>\n",
       "      <td>Safiullin, Roman</td>\n",
       "      <td>39.0</td>\n",
       "    </tr>\n",
       "    <tr>\n",
       "      <th>5</th>\n",
       "      <td>207077</td>\n",
       "      <td>1.85</td>\n",
       "      <td>Nordquist, Arvid</td>\n",
       "      <td>1111.0</td>\n",
       "    </tr>\n",
       "    <tr>\n",
       "      <th>7</th>\n",
       "      <td>65656</td>\n",
       "      <td>1.70</td>\n",
       "      <td>Ferro, Fiona</td>\n",
       "      <td>149.0</td>\n",
       "    </tr>\n",
       "    <tr>\n",
       "      <th>8</th>\n",
       "      <td>245109</td>\n",
       "      <td>1.93</td>\n",
       "      <td>Hudd, Emile</td>\n",
       "      <td>747.0</td>\n",
       "    </tr>\n",
       "    <tr>\n",
       "      <th>...</th>\n",
       "      <td>...</td>\n",
       "      <td>...</td>\n",
       "      <td>...</td>\n",
       "      <td>...</td>\n",
       "    </tr>\n",
       "    <tr>\n",
       "      <th>8772</th>\n",
       "      <td>397014</td>\n",
       "      <td>1.80</td>\n",
       "      <td>Midon, Lautaro</td>\n",
       "      <td>423.0</td>\n",
       "    </tr>\n",
       "    <tr>\n",
       "      <th>10825</th>\n",
       "      <td>270424</td>\n",
       "      <td>1.78</td>\n",
       "      <td>Llanes, Francisco</td>\n",
       "      <td>1489.0</td>\n",
       "    </tr>\n",
       "    <tr>\n",
       "      <th>11015</th>\n",
       "      <td>302566</td>\n",
       "      <td>1.91</td>\n",
       "      <td>Catani, Leonardo</td>\n",
       "      <td>1449.0</td>\n",
       "    </tr>\n",
       "    <tr>\n",
       "      <th>11833</th>\n",
       "      <td>23664</td>\n",
       "      <td>1.78</td>\n",
       "      <td>Gaio, Federico</td>\n",
       "      <td>419.0</td>\n",
       "    </tr>\n",
       "    <tr>\n",
       "      <th>13269</th>\n",
       "      <td>291827</td>\n",
       "      <td>1.80</td>\n",
       "      <td>Wang, Xiaofei</td>\n",
       "      <td>791.0</td>\n",
       "    </tr>\n",
       "  </tbody>\n",
       "</table>\n",
       "<p>1195 rows × 4 columns</p>\n",
       "</div>"
      ],
      "text/plain": [
       "       player_id  height          full_name  current_rank\n",
       "1          98607    1.85      Chang, Sophie         364.0\n",
       "3         124930    1.85   Safiullin, Roman          39.0\n",
       "5         207077    1.85   Nordquist, Arvid        1111.0\n",
       "7          65656    1.70       Ferro, Fiona         149.0\n",
       "8         245109    1.93        Hudd, Emile         747.0\n",
       "...          ...     ...                ...           ...\n",
       "8772      397014    1.80     Midon, Lautaro         423.0\n",
       "10825     270424    1.78  Llanes, Francisco        1489.0\n",
       "11015     302566    1.91   Catani, Leonardo        1449.0\n",
       "11833      23664    1.78     Gaio, Federico         419.0\n",
       "13269     291827    1.80      Wang, Xiaofei         791.0\n",
       "\n",
       "[1195 rows x 4 columns]"
      ]
     },
     "execution_count": 146,
     "metadata": {},
     "output_type": "execute_result"
    }
   ],
   "source": [
    "\n",
    "allplayersInfo = pd.concat([MatchAwayTeamInfo[['player_id' ,'height', 'full_name' ,'current_rank' ]] ,MatchHomeTeamInfo[['player_id' ,'height', 'full_name' ,'current_rank' ]] ])\n",
    "allplayersInfo = allplayersInfo.drop_duplicates(subset=['full_name'])\n",
    "allplayersInfo = allplayersInfo.dropna()\n",
    "\n",
    "allplayersInfo"
   ]
  },
  {
   "cell_type": "code",
   "execution_count": 142,
   "id": "bec4d59a",
   "metadata": {},
   "outputs": [
    {
     "data": {
      "text/plain": [
       "Index(['player_id', 'weight', 'full_name', 'current_rank'], dtype='object')"
      ]
     },
     "execution_count": 142,
     "metadata": {},
     "output_type": "execute_result"
    }
   ],
   "source": [
    "allplayersInfo.columns"
   ]
  },
  {
   "cell_type": "code",
   "execution_count": 3,
   "id": "ebb06736",
   "metadata": {},
   "outputs": [
    {
     "ename": "NameError",
     "evalue": "name 'sns' is not defined",
     "output_type": "error",
     "traceback": [
      "\u001b[0;31m---------------------------------------------------------------------------\u001b[0m",
      "\u001b[0;31mNameError\u001b[0m                                 Traceback (most recent call last)",
      "Cell \u001b[0;32mIn[3], line 4\u001b[0m\n\u001b[1;32m      1\u001b[0m \u001b[38;5;28;01mimport\u001b[39;00m \u001b[38;5;21;01mmatplotlib\u001b[39;00m\u001b[38;5;21;01m.\u001b[39;00m\u001b[38;5;21;01mpyplot\u001b[39;00m \u001b[38;5;28;01mas\u001b[39;00m \u001b[38;5;21;01mplt\u001b[39;00m\n\u001b[1;32m      3\u001b[0m plt\u001b[38;5;241m.\u001b[39mfigure(figsize\u001b[38;5;241m=\u001b[39m(\u001b[38;5;241m10\u001b[39m, \u001b[38;5;241m6\u001b[39m))\n\u001b[0;32m----> 4\u001b[0m \u001b[43msns\u001b[49m\u001b[38;5;241m.\u001b[39mscatterplot(x\u001b[38;5;241m=\u001b[39m\u001b[38;5;124m'\u001b[39m\u001b[38;5;124mheight\u001b[39m\u001b[38;5;124m'\u001b[39m, y\u001b[38;5;241m=\u001b[39m\u001b[38;5;124m'\u001b[39m\u001b[38;5;124mcurrent_rank\u001b[39m\u001b[38;5;124m'\u001b[39m, data\u001b[38;5;241m=\u001b[39mallplayersInfo, s\u001b[38;5;241m=\u001b[39m\u001b[38;5;241m100\u001b[39m, alpha\u001b[38;5;241m=\u001b[39m\u001b[38;5;241m0.7\u001b[39m)\n\u001b[1;32m      5\u001b[0m plt\u001b[38;5;241m.\u001b[39mtitle(\u001b[38;5;124m'\u001b[39m\u001b[38;5;124mRelationship between Player Weight and Rank\u001b[39m\u001b[38;5;124m'\u001b[39m)\n\u001b[1;32m      6\u001b[0m plt\u001b[38;5;241m.\u001b[39mxlabel(\u001b[38;5;124m'\u001b[39m\u001b[38;5;124mPlayer height (meter)\u001b[39m\u001b[38;5;124m'\u001b[39m)\n",
      "\u001b[0;31mNameError\u001b[0m: name 'sns' is not defined"
     ]
    },
    {
     "data": {
      "text/plain": [
       "<Figure size 1000x600 with 0 Axes>"
      ]
     },
     "metadata": {},
     "output_type": "display_data"
    }
   ],
   "source": [
    "import matplotlib.pyplot as plt\n",
    "\n",
    "plt.figure(figsize=(10, 6))\n",
    "sns.scatterplot(x='height', y='current_rank', data=allplayersInfo, s=100, alpha=0.7)\n",
    "plt.title('Relationship between Player Weight and Rank')\n",
    "plt.xlabel('Player height (meter)')\n",
    "plt.ylabel('Current Rank')\n",
    "plt.grid(True)\n",
    "plt.show()"
   ]
  },
  {
   "cell_type": "code",
   "execution_count": 22,
   "id": "b9896a5f",
   "metadata": {},
   "outputs": [
    {
     "data": {
      "image/png": "[encoded data removed]",
      "text/plain": [
       "<Figure size 640x480 with 1 Axes>"
      ]
     },
     "metadata": {},
     "output_type": "display_data"
    }
   ],
   "source": [
    "merged_home = pd.merge(MatchEventInfo, MatchHomeTeamInfo, on='match_id', suffixes=['_home'])\n",
    "merged_away = pd.merge(MatchEventInfo, MatchAwayTeamInfo, on='match_id', suffixes=['_away'])\n",
    "home_wins = merged_home[merged_home['winner_code'] == 1][['match_id','player_id', 'full_name', 'weight', 'height','country' , 'current_rank' ,'plays' , 'gender' ]].copy()\n",
    "away_wins = merged_away[merged_away['winner_code'] == 2][['match_id','player_id', 'full_name', 'weight', 'height','country' , 'current_rank', 'plays' , 'gender']].copy()\n",
    "allWinners = pd.concat([home_wins, away_wins])\n",
    "allWinners = allWinners.drop_duplicates(subset=['player_id']).sort_values(by='current_rank')\n",
    "winners_with_rounds= pd.merge(allWinners , MatchRoundInfo[[ 'match_id', 'name']], on='match_id')\n",
    "\n",
    "\n",
    "hand_gender_counts = winners_with_rounds.groupby(['name', 'gender']).size().unstack(fill_value=0)\n",
    "# Plotting\n",
    "hand_gender_counts.plot(kind='bar', stacked=False)\n",
    "\n",
    "# Adding labels and title\n",
    "plt.xlabel('Plays Hand')\n",
    "plt.ylabel('Number of Players')\n",
    "plt.title('Number of Left-Handed and Right-Handed Players by Gender')\n",
    "plt.legend(title='Gender')\n",
    "\n",
    "# Display the plot\n",
    "plt.show()"
   ]
  },
  {
   "cell_type": "code",
   "execution_count": 14,
   "id": "ab1c4180",
   "metadata": {},
   "outputs": [
    {
     "data": {
      "image/png": "[encoded data removed]",
      "text/plain": [
       "<Figure size 640x480 with 1 Axes>"
      ]
     },
     "metadata": {},
     "output_type": "display_data"
    }
   ],
   "source": [
    "hand_gender_counts = allWinners.groupby(['plays', 'gender']).size().unstack(fill_value=0)\n",
    "\n",
    "# Plotting\n",
    "hand_gender_counts.plot(kind='bar', stacked=False)\n",
    "\n",
    "# Adding labels and title\n",
    "plt.xlabel('Plays Hand')\n",
    "plt.ylabel('Number of Players')\n",
    "plt.title('Number of Left-Handed and Right-Handed Players by Gender')\n",
    "plt.legend(title='Gender')\n",
    "\n",
    "# Display the plot\n",
    "plt.show()"
   ]
  },
  {
   "cell_type": "code",
   "execution_count": 27,
   "id": "8b802821",
   "metadata": {},
   "outputs": [
    {
     "data": {
      "text/html": [
       "<div>\n",
       "<style scoped>\n",
       "    .dataframe tbody tr th:only-of-type {\n",
       "        vertical-align: middle;\n",
       "    }\n",
       "\n",
       "    .dataframe tbody tr th {\n",
       "        vertical-align: top;\n",
       "    }\n",
       "\n",
       "    .dataframe thead th {\n",
       "        text-align: right;\n",
       "    }\n",
       "</style>\n",
       "<table border=\"1\" class=\"dataframe\">\n",
       "  <thead>\n",
       "    <tr style=\"text-align: right;\">\n",
       "      <th></th>\n",
       "      <th>match_id</th>\n",
       "      <th>tournament_id</th>\n",
       "      <th>tournament_name</th>\n",
       "      <th>tournament_slug</th>\n",
       "      <th>tournament_unique_id</th>\n",
       "      <th>tournament_category_name</th>\n",
       "      <th>tournament_category_slug</th>\n",
       "      <th>user_count</th>\n",
       "      <th>ground_type</th>\n",
       "      <th>tennis_points</th>\n",
       "      <th>has_event_player_statistics</th>\n",
       "      <th>crowd_sourcing_enabled</th>\n",
       "      <th>has_performance_graph_feature</th>\n",
       "      <th>display_inverse_home_away_teams</th>\n",
       "      <th>priority</th>\n",
       "      <th>competition_type</th>\n",
       "    </tr>\n",
       "  </thead>\n",
       "  <tbody>\n",
       "    <tr>\n",
       "      <th>200</th>\n",
       "      <td>12299621</td>\n",
       "      <td>129669</td>\n",
       "      <td>Gifu, Singles Main, W-ITF-JPN-05A</td>\n",
       "      <td>gifu-singles-main-w-itf-jpn-05a</td>\n",
       "      <td>NaN</td>\n",
       "      <td>ITF Women</td>\n",
       "      <td>itf-women</td>\n",
       "      <td>29</td>\n",
       "      <td>Hardcourt outdoor</td>\n",
       "      <td>NaN</td>\n",
       "      <td>False</td>\n",
       "      <td>True</td>\n",
       "      <td>True</td>\n",
       "      <td>False</td>\n",
       "      <td>0</td>\n",
       "      <td>2</td>\n",
       "    </tr>\n",
       "    <tr>\n",
       "      <th>2003</th>\n",
       "      <td>12299621</td>\n",
       "      <td>129669</td>\n",
       "      <td>Gifu, Singles Main, W-ITF-JPN-05A</td>\n",
       "      <td>gifu-singles-main-w-itf-jpn-05a</td>\n",
       "      <td>NaN</td>\n",
       "      <td>ITF Women</td>\n",
       "      <td>itf-women</td>\n",
       "      <td>30</td>\n",
       "      <td>Hardcourt outdoor</td>\n",
       "      <td>NaN</td>\n",
       "      <td>True</td>\n",
       "      <td>True</td>\n",
       "      <td>True</td>\n",
       "      <td>False</td>\n",
       "      <td>0</td>\n",
       "      <td>2</td>\n",
       "    </tr>\n",
       "  </tbody>\n",
       "</table>\n",
       "</div>"
      ],
      "text/plain": [
       "      match_id  tournament_id                    tournament_name  \\\n",
       "200   12299621         129669  Gifu, Singles Main, W-ITF-JPN-05A   \n",
       "2003  12299621         129669  Gifu, Singles Main, W-ITF-JPN-05A   \n",
       "\n",
       "                      tournament_slug  tournament_unique_id  \\\n",
       "200   gifu-singles-main-w-itf-jpn-05a                   NaN   \n",
       "2003  gifu-singles-main-w-itf-jpn-05a                   NaN   \n",
       "\n",
       "     tournament_category_name tournament_category_slug  user_count  \\\n",
       "200                 ITF Women                itf-women          29   \n",
       "2003                ITF Women                itf-women          30   \n",
       "\n",
       "            ground_type  tennis_points  has_event_player_statistics  \\\n",
       "200   Hardcourt outdoor            NaN                        False   \n",
       "2003  Hardcourt outdoor            NaN                         True   \n",
       "\n",
       "      crowd_sourcing_enabled  has_performance_graph_feature  \\\n",
       "200                     True                           True   \n",
       "2003                    True                           True   \n",
       "\n",
       "      display_inverse_home_away_teams  priority  competition_type  \n",
       "200                             False         0                 2  \n",
       "2003                            False         0                 2  "
      ]
     },
     "execution_count": 27,
     "metadata": {},
     "output_type": "execute_result"
    }
   ],
   "source": [
    "allplayersInfo = pd.concat([MatchAwayTeamInfo[['match_id','player_id' ,'height', 'full_name' ,'current_rank' ]] ,MatchHomeTeamInfo[['match_id','player_id' ,'height', 'full_name' ,'current_rank' ]] ])\n",
    "allplayersInfo = allplayersInfo.drop_duplicates(subset=['full_name'])\n",
    "merged = pd.merge( allplayersInfo[['match_id' ,'player_id', 'full_name']], MatchTournamentInfo[['match_id','tournament_name','tournament_category_name','ground_type']] ,  on='match_id')\n",
    "\n",
    "# finding the top player \n",
    "\n",
    "home_merge = pd.merge(MatchEventInfo, MatchHomeTeamInfo, on='match_id', suffixes=[\"home\"])\n",
    "away_marge = pd.merge(MatchEventInfo, MatchAwayTeamInfo, on='match_id', suffixes=[\"away\"])\n",
    "\n",
    "# Create a DataFrame for home wins and away wins\n",
    "home_wins = home_merge[home_merge['winner_code'] == 1][['player_id', 'name']].copy()\n",
    "away_wins = away_marge[away_marge['winner_code'] == 2][['player_id', 'name']].copy()\n",
    "\n",
    "# Combine home wins and away wins\n",
    "all_wins = pd.concat([home_wins, away_wins])\n",
    "\n",
    "# Calculate the number of wins for each player\n",
    "win_counts = all_wins['player_id'].value_counts().reset_index()\n",
    "win_counts.columns = ['player_id', 'wins']\n",
    "\n",
    "# Merge with player names\n",
    "player_names = all_wins[['player_id', 'name']].drop_duplicates()\n",
    "win_counts = win_counts.merge(player_names, on='player_id')\n",
    "\n",
    "# Find the player with the highest number of wins\n",
    "top_player = win_counts.loc[win_counts['wins'].idxmax()]\n",
    "merged[merged['player_id']==top_player['player_id']]\n",
    "MatchTournamentInfo[MatchTournamentInfo['match_id']==12299621]"
   ]
  },
  {
   "cell_type": "code",
   "execution_count": 17,
   "id": "fbd20698",
   "metadata": {},
   "outputs": [
    {
     "data": {
      "text/plain": [
       "player_id         253356\n",
       "wins                  75\n",
       "name         Uchijima M.\n",
       "Name: 0, dtype: object"
      ]
     },
     "execution_count": 17,
     "metadata": {},
     "output_type": "execute_result"
    }
   ],
   "source": [
    "home_merge = pd.merge(MatchEventInfo, MatchHomeTeamInfo, on='match_id', suffixes=[\"home\"])\n",
    "away_marge = pd.merge(MatchEventInfo, MatchAwayTeamInfo, on='match_id', suffixes=[\"away\"])\n",
    "\n",
    "# Create a DataFrame for home wins and away wins\n",
    "home_wins = home_merge[home_merge['winner_code'] == 1][['player_id', 'name']].copy()\n",
    "away_wins = away_marge[away_marge['winner_code'] == 2][['player_id', 'name']].copy()\n",
    "\n",
    "# Combine home wins and away wins\n",
    "all_wins = pd.concat([home_wins, away_wins])\n",
    "\n",
    "# Calculate the number of wins for each player\n",
    "win_counts = all_wins['player_id'].value_counts().reset_index()\n",
    "win_counts.columns = ['player_id', 'wins']\n",
    "\n",
    "# Merge with player names\n",
    "player_names = all_wins[['player_id', 'name']].drop_duplicates()\n",
    "win_counts = win_counts.merge(player_names, on='player_id')\n",
    "\n",
    "# Find the player with the highest number of wins\n",
    "top_player = win_counts.loc[win_counts['wins'].idxmax()]\n",
    "\n",
    "top_player\n",
    "\n",
    "\n",
    "# \n"
   ]
  },
  {
   "cell_type": "code",
   "execution_count": 37,
   "id": "db784e38",
   "metadata": {},
   "outputs": [
    {
     "data": {
      "text/plain": [
       "array([12299621])"
      ]
     },
     "execution_count": 37,
     "metadata": {},
     "output_type": "execute_result"
    }
   ],
   "source": [
    "allplayersInfo = pd.concat([MatchAwayTeamInfo[['match_id','player_id' , 'full_name' ]] ,MatchHomeTeamInfo[['match_id','player_id' , 'full_name'  ]] ])\n",
    "allplayersInfo = allplayersInfo.drop_duplicates(subset=['full_name'])\n",
    "allPlayers_withPoints = pd.merge(allplayersInfo , GameInfo[['match_id', 'home_point' , 'away_point']])\n",
    "BestWinnerPerformance = allPlayers_withPoints[allPlayers_withPoints['player_id']==top_player['player_id']]\n",
    "matchesUnique = BestWinnerPerformance['match_id'].unique()\n",
    "matchesUnique"
   ]
  },
  {
   "cell_type": "code",
   "execution_count": 40,
   "id": "c631c01c",
   "metadata": {},
   "outputs": [
    {
     "data": {
      "text/plain": [
       "array(['Spain', 'Croatia', 'Colombia', 'Italy', 'China', 'USA', 'Germany',\n",
       "       'Japan', 'England', 'France', 'Mexico', 'Brazil', 'Serbia',\n",
       "       'Tunisia', 'Sweden', 'Turkey', 'Georgia', 'Czech Republic',\n",
       "       'Romania', 'Argentina', 'Bosnia & Herzegovina', 'Austria',\n",
       "       'Slovakia', 'Slovenia', 'Jamaica', 'Ethiopia', 'Portugal',\n",
       "       'Chinese Taipei', 'Dominican Republic', 'Hungary', 'South Korea',\n",
       "       'North Macedonia', 'Morocco', 'Switzerland'], dtype=object)"
      ]
     },
     "execution_count": 40,
     "metadata": {},
     "output_type": "execute_result"
    }
   ],
   "source": [
    "uniqueCountries = MatchVenueInfo['country'].unique()\n",
    "uniqueCountries"
   ]
  },
  {
   "cell_type": "code",
   "execution_count": 6,
   "id": "290c35da",
   "metadata": {},
   "outputs": [
    {
     "data": {
      "text/html": [
       "\n",
       "<style>\n",
       "  #altair-viz-996f913f611e419ebd8baa778b1954ec.vega-embed {\n",
       "    width: 100%;\n",
       "    display: flex;\n",
       "  }\n",
       "\n",
       "  #altair-viz-996f913f611e419ebd8baa778b1954ec.vega-embed details,\n",
       "  #altair-viz-996f913f611e419ebd8baa778b1954ec.vega-embed details summary {\n",
       "    position: relative;\n",
       "  }\n",
       "</style>\n",
       "<div id=\"altair-viz-996f913f611e419ebd8baa778b1954ec\"></div>\n",
       "<script type=\"text/javascript\">\n",
       "  var VEGA_DEBUG = (typeof VEGA_DEBUG == \"undefined\") ? {} : VEGA_DEBUG;\n",
       "  (function(spec, embedOpt){\n",
       "    let outputDiv = document.currentScript.previousElementSibling;\n",
       "    if (outputDiv.id !== \"altair-viz-996f913f611e419ebd8baa778b1954ec\") {\n",
       "      outputDiv = document.getElementById(\"altair-viz-996f913f611e419ebd8baa778b1954ec\");\n",
       "    }\n",
       "    const paths = {\n",
       "      \"vega\": \"https://cdn.jsdelivr.net/npm/vega@5?noext\",\n",
       "      \"vega-lib\": \"https://cdn.jsdelivr.net/npm/vega-lib?noext\",\n",
       "      \"vega-lite\": \"https://cdn.jsdelivr.net/npm/vega-lite@5.17.0?noext\",\n",
       "      \"vega-embed\": \"https://cdn.jsdelivr.net/npm/vega-embed@6?noext\",\n",
       "    };\n",
       "\n",
       "    function maybeLoadScript(lib, version) {\n",
       "      var key = `${lib.replace(\"-\", \"\")}_version`;\n",
       "      return (VEGA_DEBUG[key] == version) ?\n",
       "        Promise.resolve(paths[lib]) :\n",
       "        new Promise(function(resolve, reject) {\n",
       "          var s = document.createElement('script');\n",
       "          document.getElementsByTagName(\"head\")[0].appendChild(s);\n",
       "          s.async = true;\n",
       "          s.onload = () => {\n",
       "            VEGA_DEBUG[key] = version;\n",
       "            return resolve(paths[lib]);\n",
       "          };\n",
       "          s.onerror = () => reject(`Error loading script: ${paths[lib]}`);\n",
       "          s.src = paths[lib];\n",
       "        });\n",
       "    }\n",
       "\n",
       "    function showError(err) {\n",
       "      outputDiv.innerHTML = `<div class=\"error\" style=\"color:red;\">${err}</div>`;\n",
       "      throw err;\n",
       "    }\n",
       "\n",
       "    function displayChart(vegaEmbed) {\n",
       "      vegaEmbed(outputDiv, spec, embedOpt)\n",
       "        .catch(err => showError(`Javascript Error: ${err.message}<br>This usually means there's a typo in your chart specification. See the javascript console for the full traceback.`));\n",
       "    }\n",
       "\n",
       "    if(typeof define === \"function\" && define.amd) {\n",
       "      requirejs.config({paths});\n",
       "      require([\"vega-embed\"], displayChart, err => showError(`Error loading script: ${err.message}`));\n",
       "    } else {\n",
       "      maybeLoadScript(\"vega\", \"5\")\n",
       "        .then(() => maybeLoadScript(\"vega-lite\", \"5.17.0\"))\n",
       "        .then(() => maybeLoadScript(\"vega-embed\", \"6\"))\n",
       "        .catch(showError)\n",
       "        .then(() => displayChart(vegaEmbed));\n",
       "    }\n",
       "  })({\"config\": {\"view\": {\"continuousWidth\": 300, \"continuousHeight\": 300}, \"legend\": {\"orient\": \"right\"}}, \"data\": {\"name\": \"data-153226d39f3e8e89a3afe39f33698d04\"}, \"mark\": {\"type\": \"bar\"}, \"encoding\": {\"color\": {\"field\": \"Tournament Name\", \"title\": \"Tournament Name\", \"type\": \"nominal\"}, \"x\": {\"field\": \"Country\", \"title\": \"Country\", \"type\": \"nominal\"}, \"y\": {\"field\": \"Number of Tournaments\", \"stack\": true, \"title\": \"Number of Tournaments\", \"type\": \"quantitative\"}}, \"height\": 400, \"title\": \"Tournaments Held in Each Country\", \"width\": 600, \"$schema\": \"https://vega.github.io/schema/vega-lite/v5.17.0.json\", \"datasets\": {\"data-153226d39f3e8e89a3afe39f33698d04\": [{\"Country\": \"Country1\", \"Tournament Name\": \"Tournament1\", \"Number of Tournaments\": 10}, {\"Country\": \"Country2\", \"Tournament Name\": \"Tournament1\", \"Number of Tournaments\": 15}, {\"Country\": \"Country3\", \"Tournament Name\": \"Tournament1\", \"Number of Tournaments\": 7}, {\"Country\": \"Country1\", \"Tournament Name\": \"Tournament2\", \"Number of Tournaments\": 5}, {\"Country\": \"Country2\", \"Tournament Name\": \"Tournament2\", \"Number of Tournaments\": 7}, {\"Country\": \"Country3\", \"Tournament Name\": \"Tournament2\", \"Number of Tournaments\": 3}]}}, {\"mode\": \"vega-lite\"});\n",
       "</script>"
      ],
      "text/plain": [
       "alt.Chart(...)"
      ]
     },
     "metadata": {},
     "output_type": "display_data"
    }
   ],
   "source": [
    "import altair as alt\n",
    "import pandas as pd\n",
    "\n",
    "# Sample data similar to the description\n",
    "tournament_counts = pd.DataFrame({\n",
    "    'Country': ['Country1', 'Country2', 'Country3'],\n",
    "    'Tournament1': [10, 15, 7],\n",
    "    'Tournament2': [5, 7, 3]\n",
    "})\n",
    "\n",
    "# Melt the DataFrame to a long format suitable for Altair\n",
    "tournament_counts_long = tournament_counts.melt(id_vars=['Country'], var_name='Tournament Name', value_name='Number of Tournaments')\n",
    "\n",
    "# Create the stacked bar plot using Altair\n",
    "chart = alt.Chart(tournament_counts_long).mark_bar().encode(\n",
    "    x=alt.X('Country:N', title='Country'),\n",
    "    y=alt.Y('Number of Tournaments:Q', title='Number of Tournaments', stack=True),\n",
    "    color=alt.Color('Tournament Name:N', title='Tournament Name')\n",
    ").properties(\n",
    "    width=600,\n",
    "    height=400,\n",
    "    title='Tournaments Held in Each Country'\n",
    ").configure_legend(\n",
    "    orient='right'\n",
    ")\n",
    "\n",
    "# Display the chart\n",
    "chart.show()\n"
   ]
  },
  {
   "cell_type": "code",
   "execution_count": 46,
   "id": "4bbb628e",
   "metadata": {},
   "outputs": [
    {
     "data": {
      "text/plain": [
       "array(['ITF Women', 'ATP', 'Challenger', 'ITF Men', 'Challenger Women',\n",
       "       'WTA'], dtype=object)"
      ]
     },
     "execution_count": 46,
     "metadata": {},
     "output_type": "execute_result"
    }
   ],
   "source": [
    "MatchTournamentInfo['tournament_category_name'].unique()"
   ]
  },
  {
   "cell_type": "code",
   "execution_count": 50,
   "id": "3371e180",
   "metadata": {},
   "outputs": [
    {
     "data": {
      "text/plain": [
       "array([ 2.,  1., nan])"
      ]
     },
     "execution_count": 50,
     "metadata": {},
     "output_type": "execute_result"
    }
   ],
   "source": [
    "merged = pd.merge(allplayersInfo , MatchEventInfo , on='match_id')\n",
    "merged['winner_code'].unique()"
   ]
  },
  {
   "cell_type": "code",
   "execution_count": 4,
   "id": "9baecad3",
   "metadata": {},
   "outputs": [
    {
     "data": {
      "application/vnd.plotly.v1+json": {
       "config": {
        "plotlyServerURL": "https://plot.ly"
       },
       "data": [
        {
         "alignmentgroup": "True",
         "hovertemplate": "Tournament Name=ATP<br>Country=%{x}<br>Number of Tournaments=%{y}<extra></extra>",
         "legendgroup": "ATP",
         "marker": {
          "color": "#636efa",
          "pattern": {
           "shape": ""
          }
         },
         "name": "ATP",
         "offsetgroup": "ATP",
         "orientation": "v",
         "showlegend": true,
         "textposition": "auto",
         "type": "bar",
         "x": [
          "Argentina",
          "Austria",
          "Bosnia & Herzegovina",
          "Brazil",
          "China",
          "Chinese Taipei",
          "Colombia",
          "Croatia",
          "Czech Republic",
          "Dominican Republic",
          "England",
          "Ethiopia",
          "France",
          "Georgia",
          "Germany",
          "Hungary",
          "Italy",
          "Jamaica",
          "Japan",
          "Mexico",
          "Morocco",
          "North Macedonia",
          "Portugal",
          "Romania",
          "Serbia",
          "Slovakia",
          "Slovenia",
          "South Korea",
          "Spain",
          "Sweden",
          "Switzerland",
          "Tunisia",
          "Turkey",
          "USA"
         ],
         "xaxis": "x",
         "y": [
          0,
          0,
          0,
          0,
          0,
          0,
          0,
          0,
          0,
          0,
          0,
          0,
          1660,
          0,
          0,
          0,
          678,
          0,
          0,
          0,
          0,
          0,
          0,
          0,
          0,
          0,
          0,
          0,
          29,
          0,
          211,
          0,
          0,
          0
         ],
         "yaxis": "y"
        },
        {
         "alignmentgroup": "True",
         "hovertemplate": "Tournament Name=Challenger<br>Country=%{x}<br>Number of Tournaments=%{y}<extra></extra>",
         "legendgroup": "Challenger",
         "marker": {
          "color": "#EF553B",
          "pattern": {
           "shape": ""
          }
         },
         "name": "Challenger",
         "offsetgroup": "Challenger",
         "orientation": "v",
         "showlegend": true,
         "textposition": "auto",
         "type": "bar",
         "x": [
          "Argentina",
          "Austria",
          "Bosnia & Herzegovina",
          "Brazil",
          "China",
          "Chinese Taipei",
          "Colombia",
          "Croatia",
          "Czech Republic",
          "Dominican Republic",
          "England",
          "Ethiopia",
          "France",
          "Georgia",
          "Germany",
          "Hungary",
          "Italy",
          "Jamaica",
          "Japan",
          "Mexico",
          "Morocco",
          "North Macedonia",
          "Portugal",
          "Romania",
          "Serbia",
          "Slovakia",
          "Slovenia",
          "South Korea",
          "Spain",
          "Sweden",
          "Switzerland",
          "Tunisia",
          "Turkey",
          "USA"
         ],
         "xaxis": "x",
         "y": [
          0,
          270,
          0,
          460,
          264,
          266,
          0,
          0,
          255,
          0,
          0,
          0,
          326,
          201,
          255,
          0,
          808,
          0,
          0,
          0,
          0,
          235,
          251,
          0,
          0,
          0,
          0,
          0,
          0,
          0,
          0,
          285,
          0,
          171
         ],
         "yaxis": "y"
        },
        {
         "alignmentgroup": "True",
         "hovertemplate": "Tournament Name=Challenger Women<br>Country=%{x}<br>Number of Tournaments=%{y}<extra></extra>",
         "legendgroup": "Challenger Women",
         "marker": {
          "color": "#00cc96",
          "pattern": {
           "shape": ""
          }
         },
         "name": "Challenger Women",
         "offsetgroup": "Challenger Women",
         "orientation": "v",
         "showlegend": true,
         "textposition": "auto",
         "type": "bar",
         "x": [
          "Argentina",
          "Austria",
          "Bosnia & Herzegovina",
          "Brazil",
          "China",
          "Chinese Taipei",
          "Colombia",
          "Croatia",
          "Czech Republic",
          "Dominican Republic",
          "England",
          "Ethiopia",
          "France",
          "Georgia",
          "Germany",
          "Hungary",
          "Italy",
          "Jamaica",
          "Japan",
          "Mexico",
          "Morocco",
          "North Macedonia",
          "Portugal",
          "Romania",
          "Serbia",
          "Slovakia",
          "Slovenia",
          "South Korea",
          "Spain",
          "Sweden",
          "Switzerland",
          "Tunisia",
          "Turkey",
          "USA"
         ],
         "xaxis": "x",
         "y": [
          0,
          0,
          0,
          0,
          0,
          0,
          0,
          0,
          0,
          0,
          0,
          0,
          285,
          0,
          0,
          0,
          203,
          0,
          0,
          0,
          0,
          0,
          0,
          0,
          0,
          0,
          0,
          0,
          84,
          0,
          0,
          0,
          0,
          0
         ],
         "yaxis": "y"
        },
        {
         "alignmentgroup": "True",
         "hovertemplate": "Tournament Name=ITF Men<br>Country=%{x}<br>Number of Tournaments=%{y}<extra></extra>",
         "legendgroup": "ITF Men",
         "marker": {
          "color": "#ab63fa",
          "pattern": {
           "shape": ""
          }
         },
         "name": "ITF Men",
         "offsetgroup": "ITF Men",
         "orientation": "v",
         "showlegend": true,
         "textposition": "auto",
         "type": "bar",
         "x": [
          "Argentina",
          "Austria",
          "Bosnia & Herzegovina",
          "Brazil",
          "China",
          "Chinese Taipei",
          "Colombia",
          "Croatia",
          "Czech Republic",
          "Dominican Republic",
          "England",
          "Ethiopia",
          "France",
          "Georgia",
          "Germany",
          "Hungary",
          "Italy",
          "Jamaica",
          "Japan",
          "Mexico",
          "Morocco",
          "North Macedonia",
          "Portugal",
          "Romania",
          "Serbia",
          "Slovakia",
          "Slovenia",
          "South Korea",
          "Spain",
          "Sweden",
          "Switzerland",
          "Tunisia",
          "Turkey",
          "USA"
         ],
         "xaxis": "x",
         "y": [
          629,
          250,
          1333,
          0,
          938,
          0,
          115,
          876,
          0,
          0,
          83,
          611,
          526,
          503,
          0,
          231,
          645,
          652,
          233,
          342,
          0,
          0,
          0,
          1390,
          1595,
          0,
          534,
          0,
          1805,
          499,
          0,
          1690,
          824,
          562
         ],
         "yaxis": "y"
        },
        {
         "alignmentgroup": "True",
         "hovertemplate": "Tournament Name=ITF Women<br>Country=%{x}<br>Number of Tournaments=%{y}<extra></extra>",
         "legendgroup": "ITF Women",
         "marker": {
          "color": "#FFA15A",
          "pattern": {
           "shape": ""
          }
         },
         "name": "ITF Women",
         "offsetgroup": "ITF Women",
         "orientation": "v",
         "showlegend": true,
         "textposition": "auto",
         "type": "bar",
         "x": [
          "Argentina",
          "Austria",
          "Bosnia & Herzegovina",
          "Brazil",
          "China",
          "Chinese Taipei",
          "Colombia",
          "Croatia",
          "Czech Republic",
          "Dominican Republic",
          "England",
          "Ethiopia",
          "France",
          "Georgia",
          "Germany",
          "Hungary",
          "Italy",
          "Jamaica",
          "Japan",
          "Mexico",
          "Morocco",
          "North Macedonia",
          "Portugal",
          "Romania",
          "Serbia",
          "Slovakia",
          "Slovenia",
          "South Korea",
          "Spain",
          "Sweden",
          "Switzerland",
          "Tunisia",
          "Turkey",
          "USA"
         ],
         "xaxis": "x",
         "y": [
          0,
          733,
          0,
          313,
          425,
          0,
          331,
          1169,
          244,
          781,
          88,
          0,
          283,
          37,
          380,
          0,
          656,
          0,
          1131,
          0,
          0,
          0,
          267,
          954,
          1551,
          278,
          1216,
          553,
          1370,
          362,
          0,
          1699,
          812,
          996
         ],
         "yaxis": "y"
        },
        {
         "alignmentgroup": "True",
         "hovertemplate": "Tournament Name=WTA<br>Country=%{x}<br>Number of Tournaments=%{y}<extra></extra>",
         "legendgroup": "WTA",
         "marker": {
          "color": "#19d3f3",
          "pattern": {
           "shape": ""
          }
         },
         "name": "WTA",
         "offsetgroup": "WTA",
         "orientation": "v",
         "showlegend": true,
         "textposition": "auto",
         "type": "bar",
         "x": [
          "Argentina",
          "Austria",
          "Bosnia & Herzegovina",
          "Brazil",
          "China",
          "Chinese Taipei",
          "Colombia",
          "Croatia",
          "Czech Republic",
          "Dominican Republic",
          "England",
          "Ethiopia",
          "France",
          "Georgia",
          "Germany",
          "Hungary",
          "Italy",
          "Jamaica",
          "Japan",
          "Mexico",
          "Morocco",
          "North Macedonia",
          "Portugal",
          "Romania",
          "Serbia",
          "Slovakia",
          "Slovenia",
          "South Korea",
          "Spain",
          "Sweden",
          "Switzerland",
          "Tunisia",
          "Turkey",
          "USA"
         ],
         "xaxis": "x",
         "y": [
          0,
          0,
          0,
          0,
          0,
          0,
          0,
          0,
          0,
          0,
          0,
          0,
          1549,
          0,
          0,
          0,
          656,
          0,
          0,
          0,
          245,
          0,
          0,
          0,
          0,
          0,
          0,
          0,
          18,
          0,
          0,
          0,
          0,
          0
         ],
         "yaxis": "y"
        }
       ],
       "layout": {
        "barmode": "stack",
        "height": 500,
        "legend": {
         "orientation": "v",
         "title": {
          "text": "Tournament Name"
         },
         "tracegroupgap": 0,
         "x": 1,
         "xanchor": "right",
         "y": 1.02,
         "yanchor": "bottom"
        },
        "template": {
         "data": {
          "bar": [
           {
            "error_x": {
             "color": "#2a3f5f"
            },
            "error_y": {
             "color": "#2a3f5f"
            },
            "marker": {
             "line": {
              "color": "#E5ECF6",
              "width": 0.5
             },
             "pattern": {
              "fillmode": "overlay",
              "size": 10,
              "solidity": 0.2
             }
            },
            "type": "bar"
           }
          ],
          "barpolar": [
           {
            "marker": {
             "line": {
              "color": "#E5ECF6",
              "width": 0.5
             },
             "pattern": {
              "fillmode": "overlay",
              "size": 10,
              "solidity": 0.2
             }
            },
            "type": "barpolar"
           }
          ],
          "carpet": [
           {
            "aaxis": {
             "endlinecolor": "#2a3f5f",
             "gridcolor": "white",
             "linecolor": "white",
             "minorgridcolor": "white",
             "startlinecolor": "#2a3f5f"
            },
            "baxis": {
             "endlinecolor": "#2a3f5f",
             "gridcolor": "white",
             "linecolor": "white",
             "minorgridcolor": "white",
             "startlinecolor": "#2a3f5f"
            },
            "type": "carpet"
           }
          ],
          "choropleth": [
           {
            "colorbar": {
             "outlinewidth": 0,
             "ticks": ""
            },
            "type": "choropleth"
           }
          ],
          "contour": [
           {
            "colorbar": {
             "outlinewidth": 0,
             "ticks": ""
            },
            "colorscale": [
             [
              0,
              "#0d0887"
             ],
             [
              0.1111111111111111,
              "#46039f"
             ],
             [
              0.2222222222222222,
              "#7201a8"
             ],
             [
              0.3333333333333333,
              "#9c179e"
             ],
             [
              0.4444444444444444,
              "#bd3786"
             ],
             [
              0.5555555555555556,
              "#d8576b"
             ],
             [
              0.6666666666666666,
              "#ed7953"
             ],
             [
              0.7777777777777778,
              "#fb9f3a"
             ],
             [
              0.8888888888888888,
              "#fdca26"
             ],
             [
              1,
              "#f0f921"
             ]
            ],
            "type": "contour"
           }
          ],
          "contourcarpet": [
           {
            "colorbar": {
             "outlinewidth": 0,
             "ticks": ""
            },
            "type": "contourcarpet"
           }
          ],
          "heatmap": [
           {
            "colorbar": {
             "outlinewidth": 0,
             "ticks": ""
            },
            "colorscale": [
             [
              0,
              "#0d0887"
             ],
             [
              0.1111111111111111,
              "#46039f"
             ],
             [
              0.2222222222222222,
              "#7201a8"
             ],
             [
              0.3333333333333333,
              "#9c179e"
             ],
             [
              0.4444444444444444,
              "#bd3786"
             ],
             [
              0.5555555555555556,
              "#d8576b"
             ],
             [
              0.6666666666666666,
              "#ed7953"
             ],
             [
              0.7777777777777778,
              "#fb9f3a"
             ],
             [
              0.8888888888888888,
              "#fdca26"
             ],
             [
              1,
              "#f0f921"
             ]
            ],
            "type": "heatmap"
           }
          ],
          "heatmapgl": [
           {
            "colorbar": {
             "outlinewidth": 0,
             "ticks": ""
            },
            "colorscale": [
             [
              0,
              "#0d0887"
             ],
             [
              0.1111111111111111,
              "#46039f"
             ],
             [
              0.2222222222222222,
              "#7201a8"
             ],
             [
              0.3333333333333333,
              "#9c179e"
             ],
             [
              0.4444444444444444,
              "#bd3786"
             ],
             [
              0.5555555555555556,
              "#d8576b"
             ],
             [
              0.6666666666666666,
              "#ed7953"
             ],
             [
              0.7777777777777778,
              "#fb9f3a"
             ],
             [
              0.8888888888888888,
              "#fdca26"
             ],
             [
              1,
              "#f0f921"
             ]
            ],
            "type": "heatmapgl"
           }
          ],
          "histogram": [
           {
            "marker": {
             "pattern": {
              "fillmode": "overlay",
              "size": 10,
              "solidity": 0.2
             }
            },
            "type": "histogram"
           }
          ],
          "histogram2d": [
           {
            "colorbar": {
             "outlinewidth": 0,
             "ticks": ""
            },
            "colorscale": [
             [
              0,
              "#0d0887"
             ],
             [
              0.1111111111111111,
              "#46039f"
             ],
             [
              0.2222222222222222,
              "#7201a8"
             ],
             [
              0.3333333333333333,
              "#9c179e"
             ],
             [
              0.4444444444444444,
              "#bd3786"
             ],
             [
              0.5555555555555556,
              "#d8576b"
             ],
             [
              0.6666666666666666,
              "#ed7953"
             ],
             [
              0.7777777777777778,
              "#fb9f3a"
             ],
             [
              0.8888888888888888,
              "#fdca26"
             ],
             [
              1,
              "#f0f921"
             ]
            ],
            "type": "histogram2d"
           }
          ],
          "histogram2dcontour": [
           {
            "colorbar": {
             "outlinewidth": 0,
             "ticks": ""
            },
            "colorscale": [
             [
              0,
              "#0d0887"
             ],
             [
              0.1111111111111111,
              "#46039f"
             ],
             [
              0.2222222222222222,
              "#7201a8"
             ],
             [
              0.3333333333333333,
              "#9c179e"
             ],
             [
              0.4444444444444444,
              "#bd3786"
             ],
             [
              0.5555555555555556,
              "#d8576b"
             ],
             [
              0.6666666666666666,
              "#ed7953"
             ],
             [
              0.7777777777777778,
              "#fb9f3a"
             ],
             [
              0.8888888888888888,
              "#fdca26"
             ],
             [
              1,
              "#f0f921"
             ]
            ],
            "type": "histogram2dcontour"
           }
          ],
          "mesh3d": [
           {
            "colorbar": {
             "outlinewidth": 0,
             "ticks": ""
            },
            "type": "mesh3d"
           }
          ],
          "parcoords": [
           {
            "line": {
             "colorbar": {
              "outlinewidth": 0,
              "ticks": ""
             }
            },
            "type": "parcoords"
           }
          ],
          "pie": [
           {
            "automargin": true,
            "type": "pie"
           }
          ],
          "scatter": [
           {
            "fillpattern": {
             "fillmode": "overlay",
             "size": 10,
             "solidity": 0.2
            },
            "type": "scatter"
           }
          ],
          "scatter3d": [
           {
            "line": {
             "colorbar": {
              "outlinewidth": 0,
              "ticks": ""
             }
            },
            "marker": {
             "colorbar": {
              "outlinewidth": 0,
              "ticks": ""
             }
            },
            "type": "scatter3d"
           }
          ],
          "scattercarpet": [
           {
            "marker": {
             "colorbar": {
              "outlinewidth": 0,
              "ticks": ""
             }
            },
            "type": "scattercarpet"
           }
          ],
          "scattergeo": [
           {
            "marker": {
             "colorbar": {
              "outlinewidth": 0,
              "ticks": ""
             }
            },
            "type": "scattergeo"
           }
          ],
          "scattergl": [
           {
            "marker": {
             "colorbar": {
              "outlinewidth": 0,
              "ticks": ""
             }
            },
            "type": "scattergl"
           }
          ],
          "scattermapbox": [
           {
            "marker": {
             "colorbar": {
              "outlinewidth": 0,
              "ticks": ""
             }
            },
            "type": "scattermapbox"
           }
          ],
          "scatterpolar": [
           {
            "marker": {
             "colorbar": {
              "outlinewidth": 0,
              "ticks": ""
             }
            },
            "type": "scatterpolar"
           }
          ],
          "scatterpolargl": [
           {
            "marker": {
             "colorbar": {
              "outlinewidth": 0,
              "ticks": ""
             }
            },
            "type": "scatterpolargl"
           }
          ],
          "scatterternary": [
           {
            "marker": {
             "colorbar": {
              "outlinewidth": 0,
              "ticks": ""
             }
            },
            "type": "scatterternary"
           }
          ],
          "surface": [
           {
            "colorbar": {
             "outlinewidth": 0,
             "ticks": ""
            },
            "colorscale": [
             [
              0,
              "#0d0887"
             ],
             [
              0.1111111111111111,
              "#46039f"
             ],
             [
              0.2222222222222222,
              "#7201a8"
             ],
             [
              0.3333333333333333,
              "#9c179e"
             ],
             [
              0.4444444444444444,
              "#bd3786"
             ],
             [
              0.5555555555555556,
              "#d8576b"
             ],
             [
              0.6666666666666666,
              "#ed7953"
             ],
             [
              0.7777777777777778,
              "#fb9f3a"
             ],
             [
              0.8888888888888888,
              "#fdca26"
             ],
             [
              1,
              "#f0f921"
             ]
            ],
            "type": "surface"
           }
          ],
          "table": [
           {
            "cells": {
             "fill": {
              "color": "#EBF0F8"
             },
             "line": {
              "color": "white"
             }
            },
            "header": {
             "fill": {
              "color": "#C8D4E3"
             },
             "line": {
              "color": "white"
             }
            },
            "type": "table"
           }
          ]
         },
         "layout": {
          "annotationdefaults": {
           "arrowcolor": "#2a3f5f",
           "arrowhead": 0,
           "arrowwidth": 1
          },
          "autotypenumbers": "strict",
          "coloraxis": {
           "colorbar": {
            "outlinewidth": 0,
            "ticks": ""
           }
          },
          "colorscale": {
           "diverging": [
            [
             0,
             "#8e0152"
            ],
            [
             0.1,
             "#c51b7d"
            ],
            [
             0.2,
             "#de77ae"
            ],
            [
             0.3,
             "#f1b6da"
            ],
            [
             0.4,
             "#fde0ef"
            ],
            [
             0.5,
             "#f7f7f7"
            ],
            [
             0.6,
             "#e6f5d0"
            ],
            [
             0.7,
             "#b8e186"
            ],
            [
             0.8,
             "#7fbc41"
            ],
            [
             0.9,
             "#4d9221"
            ],
            [
             1,
             "#276419"
            ]
           ],
           "sequential": [
            [
             0,
             "#0d0887"
            ],
            [
             0.1111111111111111,
             "#46039f"
            ],
            [
             0.2222222222222222,
             "#7201a8"
            ],
            [
             0.3333333333333333,
             "#9c179e"
            ],
            [
             0.4444444444444444,
             "#bd3786"
            ],
            [
             0.5555555555555556,
             "#d8576b"
            ],
            [
             0.6666666666666666,
             "#ed7953"
            ],
            [
             0.7777777777777778,
             "#fb9f3a"
            ],
            [
             0.8888888888888888,
             "#fdca26"
            ],
            [
             1,
             "#f0f921"
            ]
           ],
           "sequentialminus": [
            [
             0,
             "#0d0887"
            ],
            [
             0.1111111111111111,
             "#46039f"
            ],
            [
             0.2222222222222222,
             "#7201a8"
            ],
            [
             0.3333333333333333,
             "#9c179e"
            ],
            [
             0.4444444444444444,
             "#bd3786"
            ],
            [
             0.5555555555555556,
             "#d8576b"
            ],
            [
             0.6666666666666666,
             "#ed7953"
            ],
            [
             0.7777777777777778,
             "#fb9f3a"
            ],
            [
             0.8888888888888888,
             "#fdca26"
            ],
            [
             1,
             "#f0f921"
            ]
           ]
          },
          "colorway": [
           "#636efa",
           "#EF553B",
           "#00cc96",
           "#ab63fa",
           "#FFA15A",
           "#19d3f3",
           "#FF6692",
           "#B6E880",
           "#FF97FF",
           "#FECB52"
          ],
          "font": {
           "color": "#2a3f5f"
          },
          "geo": {
           "bgcolor": "white",
           "lakecolor": "white",
           "landcolor": "#E5ECF6",
           "showlakes": true,
           "showland": true,
           "subunitcolor": "white"
          },
          "hoverlabel": {
           "align": "left"
          },
          "hovermode": "closest",
          "mapbox": {
           "style": "light"
          },
          "paper_bgcolor": "white",
          "plot_bgcolor": "#E5ECF6",
          "polar": {
           "angularaxis": {
            "gridcolor": "white",
            "linecolor": "white",
            "ticks": ""
           },
           "bgcolor": "#E5ECF6",
           "radialaxis": {
            "gridcolor": "white",
            "linecolor": "white",
            "ticks": ""
           }
          },
          "scene": {
           "xaxis": {
            "backgroundcolor": "#E5ECF6",
            "gridcolor": "white",
            "gridwidth": 2,
            "linecolor": "white",
            "showbackground": true,
            "ticks": "",
            "zerolinecolor": "white"
           },
           "yaxis": {
            "backgroundcolor": "#E5ECF6",
            "gridcolor": "white",
            "gridwidth": 2,
            "linecolor": "white",
            "showbackground": true,
            "ticks": "",
            "zerolinecolor": "white"
           },
           "zaxis": {
            "backgroundcolor": "#E5ECF6",
            "gridcolor": "white",
            "gridwidth": 2,
            "linecolor": "white",
            "showbackground": true,
            "ticks": "",
            "zerolinecolor": "white"
           }
          },
          "shapedefaults": {
           "line": {
            "color": "#2a3f5f"
           }
          },
          "ternary": {
           "aaxis": {
            "gridcolor": "white",
            "linecolor": "white",
            "ticks": ""
           },
           "baxis": {
            "gridcolor": "white",
            "linecolor": "white",
            "ticks": ""
           },
           "bgcolor": "#E5ECF6",
           "caxis": {
            "gridcolor": "white",
            "linecolor": "white",
            "ticks": ""
           }
          },
          "title": {
           "x": 0.05
          },
          "xaxis": {
           "automargin": true,
           "gridcolor": "white",
           "linecolor": "white",
           "ticks": "",
           "title": {
            "standoff": 15
           },
           "zerolinecolor": "white",
           "zerolinewidth": 2
          },
          "yaxis": {
           "automargin": true,
           "gridcolor": "white",
           "linecolor": "white",
           "ticks": "",
           "title": {
            "standoff": 15
           },
           "zerolinecolor": "white",
           "zerolinewidth": 2
          }
         }
        },
        "title": {
         "text": "Tournaments Held in Each Country",
         "x": 0.5,
         "xanchor": "center",
         "y": 0.9,
         "yanchor": "top"
        },
        "width": 800,
        "xaxis": {
         "anchor": "y",
         "domain": [
          0,
          1
         ],
         "title": {
          "text": "Country"
         }
        },
        "yaxis": {
         "anchor": "x",
         "domain": [
          0,
          1
         ],
         "title": {
          "text": "Number of Tournaments"
         }
        }
       }
      }
     },
     "metadata": {},
     "output_type": "display_data"
    }
   ],
   "source": [
    "import plotly.express as px\n",
    "import pandas as pd\n",
    "\n",
    "# Sample data similar to the description\n",
    "Countries_with_Tournaments = pd.merge( MatchVenueInfo[['match_id' , 'country']] , MatchTournamentInfo[['match_id','tournament_category_name']] ,  on='match_id')\n",
    "Countries_with_Tournaments.columns\n",
    "tournament_counts = Countries_with_Tournaments.groupby(['country', 'tournament_category_name']).size().unstack(fill_value=0).reset_index()\n",
    "\n",
    "tournament_counts_long = tournament_counts.melt(id_vars=['country'], var_name='Tournament Name', value_name='Number of Tournaments')\n",
    "\n",
    "# Create the stacked bar plot using Plotly\n",
    "fig = px.bar(\n",
    "    tournament_counts_long,\n",
    "    x='country',\n",
    "    y='Number of Tournaments',\n",
    "    color='Tournament Name',\n",
    "    title='Tournaments Held in Each Country',\n",
    "    labels={'Number of Tournaments': 'Number of Tournaments', 'country': 'Country'},\n",
    "    height=500,\n",
    "    width=800\n",
    ")\n",
    "\n",
    "# Customize the layout for a more modern look\n",
    "fig.update_layout(\n",
    "    title={ 'text': 'Tournaments Held in Each Country', 'y':0.9,'x':0.5,'xanchor': 'center','yanchor': 'top' } ,\n",
    "    legend_title_text='Tournament Name',\n",
    "    legend=dict( orientation=\"v\", yanchor=\"bottom\", y=1.02, xanchor=\"right\", x=1 ),\n",
    "    barmode='stack',\n",
    "    xaxis_title='Country',\n",
    "    yaxis_title='Number of Tournaments'\n",
    ")\n",
    "\n",
    "# Show the chart\n",
    "fig.show()"
   ]
  },
  {
   "cell_type": "code",
   "execution_count": 1,
   "id": "1a79983f",
   "metadata": {},
   "outputs": [
    {
     "ename": "NameError",
     "evalue": "name 'MatchVenueInfo' is not defined",
     "output_type": "error",
     "traceback": [
      "\u001b[0;31m---------------------------------------------------------------------------\u001b[0m",
      "\u001b[0;31mNameError\u001b[0m                                 Traceback (most recent call last)",
      "Cell \u001b[0;32mIn[1], line 5\u001b[0m\n\u001b[1;32m      2\u001b[0m \u001b[38;5;28;01mimport\u001b[39;00m \u001b[38;5;21;01mpandas\u001b[39;00m \u001b[38;5;28;01mas\u001b[39;00m \u001b[38;5;21;01mpd\u001b[39;00m\n\u001b[1;32m      4\u001b[0m \u001b[38;5;66;03m# Sample data similar to the description\u001b[39;00m\n\u001b[0;32m----> 5\u001b[0m Countries_with_Tournaments \u001b[38;5;241m=\u001b[39m pd\u001b[38;5;241m.\u001b[39mmerge( \u001b[43mMatchVenueInfo\u001b[49m[[\u001b[38;5;124m'\u001b[39m\u001b[38;5;124mmatch_id\u001b[39m\u001b[38;5;124m'\u001b[39m , \u001b[38;5;124m'\u001b[39m\u001b[38;5;124mcountry\u001b[39m\u001b[38;5;124m'\u001b[39m]] , MatchTournamentInfo[[\u001b[38;5;124m'\u001b[39m\u001b[38;5;124mmatch_id\u001b[39m\u001b[38;5;124m'\u001b[39m,\u001b[38;5;124m'\u001b[39m\u001b[38;5;124mtournament_category_name\u001b[39m\u001b[38;5;124m'\u001b[39m]] ,  on\u001b[38;5;241m=\u001b[39m\u001b[38;5;124m'\u001b[39m\u001b[38;5;124mmatch_id\u001b[39m\u001b[38;5;124m'\u001b[39m)\n\u001b[1;32m      6\u001b[0m Countries_with_Tournaments\u001b[38;5;241m.\u001b[39mcolumns\n\u001b[1;32m      7\u001b[0m tournament_counts \u001b[38;5;241m=\u001b[39m Countries_with_Tournaments\u001b[38;5;241m.\u001b[39mgroupby([\u001b[38;5;124m'\u001b[39m\u001b[38;5;124mcountry\u001b[39m\u001b[38;5;124m'\u001b[39m, \u001b[38;5;124m'\u001b[39m\u001b[38;5;124mtournament_category_name\u001b[39m\u001b[38;5;124m'\u001b[39m])\u001b[38;5;241m.\u001b[39msize()\u001b[38;5;241m.\u001b[39munstack(fill_value\u001b[38;5;241m=\u001b[39m\u001b[38;5;241m0\u001b[39m)\u001b[38;5;241m.\u001b[39mreset_index()\n",
      "\u001b[0;31mNameError\u001b[0m: name 'MatchVenueInfo' is not defined"
     ]
    }
   ],
   "source": [
    "import plotly.express as px\n",
    "import pandas as pd\n",
    "\n",
    "# Sample data similar to the description\n",
    "Countries_with_Tournaments = pd.merge( MatchVenueInfo[['match_id' , 'country']] , MatchTournamentInfo[['match_id','tournament_category_name']] ,  on='match_id')\n",
    "Countries_with_Tournaments.columns\n",
    "tournament_counts = Countries_with_Tournaments.groupby(['country', 'tournament_category_name']).size().unstack(fill_value=0).reset_index()\n",
    "\n",
    "tournament_counts_long = tournament_counts.melt(id_vars=['country'], var_name='Tournament Name', value_name='Number of Tournaments')\n",
    "\n",
    "# Create the stacked bar plot using Plotly\n",
    "fig = px.bar( tournament_counts_long, x='country', y='Number of Tournaments', color='Tournament Name',title='Tournaments Held in Each Country',\n",
    "    labels={'Number of Tournaments': 'Number of Tournaments', 'country': 'Country'}, height=500, width=800\n",
    ")\n",
    "\n",
    "# Customize the layout for a more modern look\n",
    "fig.update_layout(\n",
    "    title={\n",
    "        'text': 'Tournaments Held in Each Country',\n",
    "        'y': 0.9,\n",
    "        'x': 0.5,\n",
    "        'xanchor': 'center',\n",
    "        'yanchor': 'top'\n",
    "    },\n",
    "    legend_title_text='Tournament Name',\n",
    "    legend=dict(\n",
    "        orientation=\"v\",\n",
    "        yanchor=\"bottom\",\n",
    "        y=1.02,\n",
    "        xanchor=\"right\",\n",
    "        x=1\n",
    "    ),\n",
    "    barmode='stack',\n",
    "    xaxis_title='Country',\n",
    "    yaxis_title='Number of Tournaments'\n",
    ")\n",
    "\n",
    "# Save the chart to an HTML file\n",
    "fig.write_html(\"tournaments_held_in_each_country.html\")\n",
    "\n",
    "# Output message to inform the user\n",
    "print(\"The chart has been saved to 'tournaments_held_in_each_country.html'. Open this file in a web browser to view the chart.\")\n"
   ]
  },
  {
   "cell_type": "code",
   "execution_count": 42,
   "id": "63bca4ea",
   "metadata": {},
   "outputs": [
    {
     "data": {
      "text/html": [
       "<div>\n",
       "<style scoped>\n",
       "    .dataframe tbody tr th:only-of-type {\n",
       "        vertical-align: middle;\n",
       "    }\n",
       "\n",
       "    .dataframe tbody tr th {\n",
       "        vertical-align: top;\n",
       "    }\n",
       "\n",
       "    .dataframe thead th {\n",
       "        text-align: right;\n",
       "    }\n",
       "</style>\n",
       "<table border=\"1\" class=\"dataframe\">\n",
       "  <thead>\n",
       "    <tr style=\"text-align: right;\">\n",
       "      <th></th>\n",
       "      <th>city</th>\n",
       "      <th>totalPlayes</th>\n",
       "    </tr>\n",
       "  </thead>\n",
       "  <tbody>\n",
       "    <tr>\n",
       "      <th>5</th>\n",
       "      <td>Paris</td>\n",
       "      <td>1157</td>\n",
       "    </tr>\n",
       "    <tr>\n",
       "      <th>7</th>\n",
       "      <td>Saint-Gaudens</td>\n",
       "      <td>125</td>\n",
       "    </tr>\n",
       "    <tr>\n",
       "      <th>3</th>\n",
       "      <td>Deauville</td>\n",
       "      <td>118</td>\n",
       "    </tr>\n",
       "    <tr>\n",
       "      <th>2</th>\n",
       "      <td>Carnac</td>\n",
       "      <td>110</td>\n",
       "    </tr>\n",
       "    <tr>\n",
       "      <th>4</th>\n",
       "      <td>Lyon</td>\n",
       "      <td>93</td>\n",
       "    </tr>\n",
       "    <tr>\n",
       "      <th>1</th>\n",
       "      <td>Bordeaux</td>\n",
       "      <td>92</td>\n",
       "    </tr>\n",
       "    <tr>\n",
       "      <th>8</th>\n",
       "      <td>Strasbourg</td>\n",
       "      <td>88</td>\n",
       "    </tr>\n",
       "    <tr>\n",
       "      <th>0</th>\n",
       "      <td>Aix-en-Provence</td>\n",
       "      <td>50</td>\n",
       "    </tr>\n",
       "    <tr>\n",
       "      <th>6</th>\n",
       "      <td>Saint Malo</td>\n",
       "      <td>40</td>\n",
       "    </tr>\n",
       "  </tbody>\n",
       "</table>\n",
       "</div>"
      ],
      "text/plain": [
       "              city  totalPlayes\n",
       "5            Paris         1157\n",
       "7    Saint-Gaudens          125\n",
       "3        Deauville          118\n",
       "2           Carnac          110\n",
       "4             Lyon           93\n",
       "1         Bordeaux           92\n",
       "8       Strasbourg           88\n",
       "0  Aix-en-Provence           50\n",
       "6       Saint Malo           40"
      ]
     },
     "execution_count": 42,
     "metadata": {},
     "output_type": "execute_result"
    }
   ],
   "source": [
    "\"\"\" finding the most popular country \"\"\"\n",
    "Countries_with_Tournaments = pd.merge( MatchVenueInfo[['match_id' , 'country']] , MatchTournamentInfo[['match_id','tournament_category_name']] ,  on='match_id')\n",
    "Countries_with_Tournaments.columns\n",
    "tournament_counts = Countries_with_Tournaments.groupby(['country', 'tournament_category_name']).size().unstack(fill_value=0)\n",
    "totalMatches = tournament_counts.groupby('country').sum().sum(axis=1).sort_values(ascending=False)\n",
    "most_popular_country = totalMatches.idxmax()\n",
    "most_popular_country\n",
    "\n",
    "\"\"\"now calculating the mathces in each of the cities of the popular country \"\"\"\n",
    "popular_matches = MatchVenueInfo[MatchVenueInfo['country'] == most_popular_country]\n",
    "grouped_cities =(popular_matches.groupby('city' ,as_index= False)\n",
    "                 .agg(totalPlayes = ('match_id','count'))\n",
    "                 .sort_values('totalPlayes', ascending=False))\n",
    "grouped_cities"
   ]
  },
  {
   "cell_type": "code",
   "execution_count": null,
   "id": "396c00ba",
   "metadata": {},
   "outputs": [],
   "source": []
  }
 ],
 "metadata": {
  "kernelspec": {
   "display_name": "pyspark",
   "language": "python",
   "name": "python3"
  },
  "language_info": {
   "codemirror_mode": {
    "name": "ipython",
    "version": 3
   },
   "file_extension": ".py",
   "mimetype": "text/x-python",
   "name": "python",
   "nbconvert_exporter": "python",
   "pygments_lexer": "ipython3",
   "version": "3.10.9"
  }
 },
 "nbformat": 4,
 "nbformat_minor": 5
}
